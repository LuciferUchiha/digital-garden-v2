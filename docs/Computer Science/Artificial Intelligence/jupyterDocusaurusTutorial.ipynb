{
 "cells": [
  {
   "cell_type": "raw",
   "id": "c86247e0-7e2e-4e14-8720-ef317366b034",
   "metadata": {
    "pycharm": {
     "name": "#%% raw\n"
    }
   },
   "source": [
    "---\n",
    "title: Using Jupyter with Docusaurus\n",
    "sidebar_position: 1\n",
    "---"
   ]
  },
  {
   "cell_type": "markdown",
   "id": "f622d839-6dc2-440d-91cf-4f20e21bcff7",
   "metadata": {
    "pycharm": {
     "name": "#%% md\n"
    }
   },
   "source": [
    "> [nbdoc](https://github.com/outerbounds/nbdoc) is a lightweight version of [nbdev](https://github.com/fastai/nbdev) that allows you to create rich, testable content with notebooks.  [Docusarus](https://docusaurus.io/) is a beautiful static site generator for code documentation and blogging.  This project brings all of these together to give you a powerful documentation system."
   ]
  },
  {
   "cell_type": "markdown",
   "id": "4182e0d2-b17c-4a92-a5b9-5bca0c33c1d6",
   "metadata": {
    "pycharm": {
     "name": "#%% md\n"
    }
   },
   "source": [
    "## Setup"
   ]
  },
  {
   "cell_type": "markdown",
   "id": "b3532e34-c4e8-47af-86d5-afb195dcc900",
   "metadata": {
    "pycharm": {
     "name": "#%% md\n"
    }
   },
   "source": [
    "1. Follow the [Getting Started guide in the README](https://github.com/outerbounds/nbdoc-docusaurus#getting-started) to install and configure things appropriately.\n",
    "\n",
    "2. Next, create an isolated python environment using your favorite tool such as `conda`, `pipenv`, `poetry` etc.  Then, from the root of this repo run this command in the terminal:\n",
    "\n",
    "    ```sh\n",
    "    make install\n",
    "    ```\n",
    "\n",
    "2. Then you need to open 3 different terminal windows (I recommend using split panes), and run the following commands in three seperate windows:\n",
    "\n",
    "    _Note: we tried to use docker-compose but had trouble getting some things to run on Apple Silicon, so this will have to do for now._\n",
    "\n",
    "    Start the docs server:\n",
    "\n",
    "    ```shell\n",
    "    make docs\n",
    "    ```\n",
    "\n",
    "    Watch for changes to notebooks:\n",
    "\n",
    "    ```sh\n",
    "    make watch\n",
    "    ```\n",
    "\n",
    "    Start Jupyter Lab:\n",
    "\n",
    "    ```sh\n",
    "    make nb\n",
    "    ```\n",
    "\n",
    "3. Open a browser window for this tutorial [http://localhost:3000/docs/nb](http://localhost:3000/docs/nb)."
   ]
  },
  {
   "cell_type": "markdown",
   "id": "359e2f64-a13e-4f2c-bd09-45d2a5332790",
   "metadata": {
    "pycharm": {
     "name": "#%% md\n"
    }
   },
   "source": [
    "## Authoring In Notebooks\n",
    "\n",
    "**For this tutorial to make the most sense, you should view this notebook and the rendered doc side-by-side.  This page is called \"Authoring Docs With Notebooks\"**  This tutorial assumes you have some familiarity with static site generators, if you do not, please visit the [Docusarus docs](https://docusaurus.io/docs).\n",
    "\n",
    "### Create Pages With Notebooks\n",
    "\n",
    "You can create a notebook in any directory.  When you do this, an associated markdown file is automatically generated with the same name in the same location.  For example `intro.ipynb` generates `intro.md`.  For pages that are created with a notebook, you should always edit them in a notebook.  The markdown that is generated can be useful for debugging, but should not be directly edited a warning message is present in auto-generated markdown files.\n",
    "\n",
    "However, using notebooks in the first place is optional. You can create Markdown files as you normally would to create pages.  We recommend using notebooks whenever possible, as you can embed arbitrary Markdown in notebooks, and also use `raw cells` for things like front matter or MDX components.\n",
    "\n",
    "### Front Matter & MDX\n",
    "\n",
    "The first cell of your notebook should be a `raw` cell with the appropriate front-matter.  For example, this notebook has the following front matter:\n",
    "\n",
    "```\n",
    "---\n",
    "title: Authoring Docs With Notebooks\n",
    "---\n",
    "```\n",
    "\n",
    "Consult the [Docusaurus docs on front matter](https://docusaurus.io/docs/docs-markdown-features#markdown-front-matter) to see the various options available to you."
   ]
  },
  {
   "cell_type": "markdown",
   "id": "fbf7228f-ac33-4975-bc3f-1c49aaa1f750",
   "metadata": {
    "pycharm": {
     "name": "#%% md\n"
    }
   },
   "source": [
    "### Markdown"
   ]
  },
  {
   "cell_type": "markdown",
   "id": "ad8dd9df-b5cb-4a20-8647-53f9d265ef65",
   "metadata": {
    "pycharm": {
     "name": "#%% md\n"
    }
   },
   "source": [
    "You can include any markdown in markdown cells.  One markdown feature that can be really useful for docs is for rendering diffs.  A `diff` code block can be specified like this:\n",
    "\n",
    "    ```diff\n",
    "    + added this line\n",
    "    this line is the same\n",
    "    - deleted this line\n",
    "    ```\n",
    "And is rendered as like this:\n",
    "\n",
    "```diff\n",
    "+ added this line\n",
    "this line is the same\n",
    "- deleted this line\n",
    "```\n",
    "\n",
    "#### Static Site Generator Features\n",
    "\n",
    "Since you can write markdown in notebooks, you can also take advantage of your static site generator's markdown features.  For, example this site uses Docusarus, which means you can use any of its [special markdown features](https://docusaurus.io/docs/markdown-features) such as [admonitions](https://docusaurus.io/docs/markdown-features/admonitions) or [tabs](https://docusaurus.io/docs/markdown-features/tabs)."
   ]
  },
  {
   "cell_type": "markdown",
   "id": "d26c6e38-ee4e-4d3f-b391-3c18eb0bfac2",
   "metadata": {
    "pycharm": {
     "name": "#%% md\n"
    }
   },
   "source": [
    "### Python Code\n",
    "\n",
    "Code cells and output will show up in the docs as you would expect:"
   ]
  },
  {
   "cell_type": "code",
   "execution_count": 74,
   "id": "26e6dc57-0cfa-476a-af55-b9e770dadaab",
   "metadata": {
    "tags": [],
    "pycharm": {
     "name": "#%%\n"
    }
   },
   "outputs": [
    {
     "name": "stdout",
     "output_type": "stream",
     "text": [
      "hello world\n"
     ]
    }
   ],
   "source": [
    "print('hello world')"
   ]
  },
  {
   "cell_type": "markdown",
   "id": "08d27c21-2a3d-4571-9778-fdb2353447b0",
   "metadata": {
    "pycharm": {
     "name": "#%% md\n"
    }
   },
   "source": [
    "### Python Scripts In Docs\n",
    "\n",
    "If you use the `%%writefile` magic, the magic command will get stripped from the cell, and the cell will be annotated with the appropriate filename as a title to denote that the cell block is referencing a script.  Furthermore, any outputs are removed when you use this magic command.\n",
    "\n",
    "This is what the cell input looks like:\n",
    "\n",
    "```python\n",
    "%%writefile myscript.py\n",
    "\n",
    "class MyClass:\n",
    "    @classmethod\n",
    "    def run(cls):\n",
    "        return \"hello world\"\n",
    "\n",
    "if __name__ == \"__main__\":\n",
    "    print(MyClass.run())\n",
    "```\n",
    "\n",
    "The output is then rendered like this:"
   ]
  },
  {
   "cell_type": "code",
   "execution_count": 75,
   "id": "bfacf3dd-2e2d-4c62-ab68-691f052e07a5",
   "metadata": {
    "tags": [],
    "pycharm": {
     "name": "#%%\n"
    }
   },
   "outputs": [
    {
     "name": "stdout",
     "output_type": "stream",
     "text": [
      "Overwriting myscript.py\n"
     ]
    }
   ],
   "source": [
    "%%writefile myscript.py\n",
    "\n",
    "class MyClass:\n",
    "    @classmethod\n",
    "    def run(cls):\n",
    "        return \"hello world\"\n",
    "\n",
    "if __name__ == \"__main__\":\n",
    "    print(MyClass.run())"
   ]
  },
  {
   "cell_type": "markdown",
   "id": "5a051dc6-8e57-4809-923c-bf98d2361382",
   "metadata": {
    "pycharm": {
     "name": "#%% md\n"
    }
   },
   "source": [
    "### Running shell commands\n",
    "\n",
    "You can use the `!` magic to run shell commands.  When you do this, the cell is marked with the appropriate language automatically."
   ]
  },
  {
   "cell_type": "code",
   "execution_count": 76,
   "id": "84f5283c-3193-4cdf-87a1-dcf7eac40645",
   "metadata": {
    "tags": [],
    "pycharm": {
     "name": "#%%\n"
    }
   },
   "outputs": [
    {
     "name": "stdout",
     "output_type": "stream",
     "text": [
      "hello world\r\n"
     ]
    }
   ],
   "source": [
    "!python myscript.py"
   ]
  },
  {
   "cell_type": "markdown",
   "id": "e24d8595-5a5c-4161-b7e6-d630cd2d9716",
   "metadata": {
    "pycharm": {
     "name": "#%% md\n"
    }
   },
   "source": [
    "It is often smart to run tests in your docs.  To do this, simply add assert statements.  These will get tested automatically when we run the test suite."
   ]
  },
  {
   "cell_type": "code",
   "execution_count": 77,
   "id": "0ded71fe-8f28-4771-b5d3-124f8dd62fba",
   "metadata": {
    "tags": [],
    "pycharm": {
     "name": "#%%\n"
    }
   },
   "outputs": [],
   "source": [
    "result = !python myscript.py\n",
    "assert result == [\"hello world\"]"
   ]
  },
  {
   "cell_type": "markdown",
   "id": "bc1bd86c-532b-483b-af99-a3b643d38616",
   "metadata": {
    "pycharm": {
     "name": "#%% md\n"
    }
   },
   "source": [
    "But what if you only want to show the cell input, but not the output.  Perhaps the output is too long and not necesary.  You can do this with the `#meta:tag=hide_output` comment:"
   ]
  },
  {
   "cell_type": "code",
   "execution_count": 78,
   "id": "1d38e2b0-d180-4e46-b366-15e772942db5",
   "metadata": {
    "tags": [],
    "pycharm": {
     "name": "#%%\n"
    }
   },
   "outputs": [
    {
     "name": "stdout",
     "output_type": "stream",
     "text": [
      "This output would be really annoying if shown in the docs\n",
      "This output would be really annoying if shown in the docs\n",
      "This output would be really annoying if shown in the docs\n",
      "This output would be really annoying if shown in the docs\n",
      "This output would be really annoying if shown in the docs\n",
      "This output would be really annoying if shown in the docs\n",
      "This output would be really annoying if shown in the docs\n",
      "This output would be really annoying if shown in the docs\n",
      "This output would be really annoying if shown in the docs\n",
      "This output would be really annoying if shown in the docs\n",
      "\n"
     ]
    }
   ],
   "source": [
    "#meta:tag=hide_output\n",
    "print(\"\".join([\"This output would be really annoying if shown in the docs\\n\"] * 10))"
   ]
  },
  {
   "cell_type": "markdown",
   "id": "58a7078c-3dec-4ba1-a429-c0974e142d22",
   "metadata": {
    "pycharm": {
     "name": "#%% md\n"
    }
   },
   "source": [
    "You may want to just show the output and not the input.  You can do that with the `#meta:tag=hide_input` comment:"
   ]
  },
  {
   "cell_type": "code",
   "execution_count": 79,
   "id": "796dfe9b-a103-4bb0-83b9-6dd900391ee0",
   "metadata": {
    "tags": [],
    "pycharm": {
     "name": "#%%\n"
    }
   },
   "outputs": [
    {
     "name": "stdout",
     "output_type": "stream",
     "text": [
      "You can only see the output, but not the code that created me\n",
      "You can only see the output, but not the code that created me\n",
      "You can only see the output, but not the code that created me\n",
      "\n"
     ]
    }
   ],
   "source": [
    "#meta:tag=hide_input\n",
    "print(\"\".join([\"You can only see the output, but not the code that created me\\n\"] * 3))"
   ]
  },
  {
   "cell_type": "markdown",
   "id": "00e765d1-87de-477a-ba4c-9279c4b66671",
   "metadata": {
    "pycharm": {
     "name": "#%% md\n"
    }
   },
   "source": [
    "If you want to hide **both** the input and the output, you can use the `#meta:tag=hide` comment:"
   ]
  },
  {
   "cell_type": "code",
   "execution_count": 80,
   "id": "a2ebeb08-4344-49fc-a632-5bf7f4d36a70",
   "metadata": {
    "tags": [],
    "pycharm": {
     "name": "#%%\n"
    }
   },
   "outputs": [
    {
     "name": "stdout",
     "output_type": "stream",
     "text": [
      "You will not see the input OR the output!\n"
     ]
    }
   ],
   "source": [
    "#meta:tag=hide\n",
    "print(\"You will not see the input OR the output!\")"
   ]
  },
  {
   "cell_type": "markdown",
   "id": "66472032-f830-466e-aa0c-6dccddabaf68",
   "metadata": {
    "pycharm": {
     "name": "#%% md\n"
    }
   },
   "source": [
    "## Running Tests"
   ]
  },
  {
   "cell_type": "markdown",
   "id": "61a08a1f-934d-4d01-a8ba-489e57fb1fc1",
   "metadata": {
    "pycharm": {
     "name": "#%% md\n"
    }
   },
   "source": [
    "To test the notebooks, run `make test`.  This will execute all notebooks in parallel and report an error if there are any errors found:"
   ]
  },
  {
   "cell_type": "markdown",
   "id": "8b25c228-856d-4500-8764-fe750a52a248",
   "metadata": {
    "pycharm": {
     "name": "#%% md\n"
    }
   },
   "source": [
    "### Skipping tests in cells"
   ]
  },
  {
   "cell_type": "markdown",
   "id": "93f4a30f-1eb9-4704-b4e6-a02ce50df2b4",
   "metadata": {
    "pycharm": {
     "name": "#%% md\n"
    }
   },
   "source": [
    "If you want to skip certain cells from running in tests because they take a really long time, you can place the comment `#notest` at the top of the cell. For example the below cell will not be tested. Go ahead, run `make test` from the root of the repo both with and without the `#notest` comment to see the different behavior."
   ]
  },
  {
   "cell_type": "code",
   "execution_count": 81,
   "id": "a963e0d2-e41b-4736-9308-10f10632d877",
   "metadata": {
    "pycharm": {
     "name": "#%%\n"
    }
   },
   "outputs": [],
   "source": [
    "# notest\n",
    "assert 1 == 1"
   ]
  },
  {
   "cell_type": "markdown",
   "id": "cc231a36-42e1-4b38-8b79-d995e31d18e3",
   "metadata": {
    "pycharm": {
     "name": "#%% md\n"
    }
   },
   "source": [
    "## Formatting code with black\n",
    "\n",
    "You can choose to format specific code cells with [black](https://black.readthedocs.io/en/stable/) with the comment `#meta:tag=black`, or manually adding the cell tag `black` in the Jupyter interface.  For example, notice how the below code is reformatted in the rendered docs:\n",
    "\n",
    "For example, this is the input code cell:\n",
    "\n",
    "```python\n",
    "#meta:tag=black\n",
    "j = [1,\n",
    "     2,\n",
    "     3\n",
    "]\n",
    "```\n",
    "\n",
    "Becomes this:"
   ]
  },
  {
   "cell_type": "code",
   "execution_count": 82,
   "id": "fc8b8048-00a8-48b4-b881-52ef8b8273d5",
   "metadata": {
    "tags": [],
    "pycharm": {
     "name": "#%%\n"
    }
   },
   "outputs": [],
   "source": [
    "#meta:tag=black\n",
    "j = [1,\n",
    "     2,\n",
    "     3\n",
    "]"
   ]
  },
  {
   "cell_type": "markdown",
   "id": "128eec63-cd5b-4693-887c-f53c3534993a",
   "metadata": {
    "pycharm": {
     "name": "#%% md\n"
    }
   },
   "source": [
    "This works with `%%writefile as well`.\n",
    "\n",
    "For example, this input:\n",
    "\n",
    "```python\n",
    "%%writefile black_test.py\n",
    "#meta:tag=black\n",
    "\n",
    "def very_important_function(template: str, *variables, file: os.PathLike, engine: str, header: bool = True, debug: bool = False):\n",
    "    \"\"\"Applies `variables` to the `template` and writes to `file`.\"\"\"\n",
    "    with open(file, 'w') as f:\n",
    "        pass\n",
    "```\n",
    "\n",
    "Becomes this:"
   ]
  },
  {
   "cell_type": "code",
   "execution_count": 83,
   "id": "73ac1be2-8baf-4abc-a1df-7ca7fa0c5d9d",
   "metadata": {
    "tags": [],
    "pycharm": {
     "name": "#%%\n"
    }
   },
   "outputs": [
    {
     "name": "stdout",
     "output_type": "stream",
     "text": [
      "Overwriting black_test.py\n"
     ]
    }
   ],
   "source": [
    "%%writefile black_test.py\n",
    "#meta:tag=black\n",
    "\n",
    "def very_important_function(template: str, *variables, file: os.PathLike, engine: str, header: bool = True, debug: bool = False):\n",
    "    \"\"\"Applies `variables` to the `template` and writes to `file`.\"\"\"\n",
    "    with open(file, 'w') as f:\n",
    "        pass"
   ]
  },
  {
   "cell_type": "markdown",
   "id": "c1f138e9-890e-4c41-8dcf-f32fc1276602",
   "metadata": {
    "pycharm": {
     "name": "#%% md\n"
    }
   },
   "source": [
    "## DataFrames\n",
    "\n",
    "Pandas Dataframes will be displayed per normal:"
   ]
  },
  {
   "cell_type": "code",
   "execution_count": 84,
   "id": "2c49a48f-116a-4f74-8815-5019cb477adf",
   "metadata": {
    "tags": [],
    "pycharm": {
     "name": "#%%\n"
    }
   },
   "outputs": [
    {
     "data": {
      "text/plain": "   time_in_hospital  num_lab_procedures  num_procedures\n0                14                  41               0\n1                 2                  30               0\n2                 5                  66               0\n3                 3                  63               0\n4                 5                  40               0",
      "text/html": "<div>\n<style scoped>\n    .dataframe tbody tr th:only-of-type {\n        vertical-align: middle;\n    }\n\n    .dataframe tbody tr th {\n        vertical-align: top;\n    }\n\n    .dataframe thead th {\n        text-align: right;\n    }\n</style>\n<table border=\"1\" class=\"dataframe\">\n  <thead>\n    <tr style=\"text-align: right;\">\n      <th></th>\n      <th>time_in_hospital</th>\n      <th>num_lab_procedures</th>\n      <th>num_procedures</th>\n    </tr>\n  </thead>\n  <tbody>\n    <tr>\n      <th>0</th>\n      <td>14</td>\n      <td>41</td>\n      <td>0</td>\n    </tr>\n    <tr>\n      <th>1</th>\n      <td>2</td>\n      <td>30</td>\n      <td>0</td>\n    </tr>\n    <tr>\n      <th>2</th>\n      <td>5</td>\n      <td>66</td>\n      <td>0</td>\n    </tr>\n    <tr>\n      <th>3</th>\n      <td>3</td>\n      <td>63</td>\n      <td>0</td>\n    </tr>\n    <tr>\n      <th>4</th>\n      <td>5</td>\n      <td>40</td>\n      <td>0</td>\n    </tr>\n  </tbody>\n</table>\n</div>"
     },
     "execution_count": 84,
     "metadata": {},
     "output_type": "execute_result"
    }
   ],
   "source": [
    "import pandas as pd\n",
    "url = 'https://github.com/outerbounds/.data/raw/main/hospital_readmission.csv'\n",
    "pd.read_csv(url).head().iloc[:, :3]"
   ]
  },
  {
   "cell_type": "markdown",
   "id": "5c30b7ff-fc39-42c7-b7bd-0be5c4cb5bbe",
   "metadata": {
    "pycharm": {
     "name": "#%% md\n"
    }
   },
   "source": [
    "## Plots\n",
    "\n",
    "You can generate plots with many plotting libraries, which will automatically show up in the docs."
   ]
  },
  {
   "cell_type": "code",
   "execution_count": 85,
   "id": "5a974d07-d0a5-4b3c-b0bd-292a0b59f78f",
   "metadata": {
    "tags": [],
    "pycharm": {
     "name": "#%%\n"
    }
   },
   "outputs": [
    {
     "ename": "ModuleNotFoundError",
     "evalue": "No module named 'matplotlib'",
     "output_type": "error",
     "traceback": [
      "\u001B[0;31m---------------------------------------------------------------------------\u001B[0m",
      "\u001B[0;31mModuleNotFoundError\u001B[0m                       Traceback (most recent call last)",
      "Cell \u001B[0;32mIn [85], line 1\u001B[0m\n\u001B[0;32m----> 1\u001B[0m \u001B[38;5;28;01mfrom\u001B[39;00m \u001B[38;5;21;01mmatplotlib\u001B[39;00m \u001B[38;5;28;01mimport\u001B[39;00m pyplot \u001B[38;5;28;01mas\u001B[39;00m plt\n\u001B[1;32m      2\u001B[0m plt\u001B[38;5;241m.\u001B[39mplot(\u001B[38;5;28mrange\u001B[39m(\u001B[38;5;241m20\u001B[39m), \u001B[38;5;28mrange\u001B[39m(\u001B[38;5;241m20\u001B[39m))\n\u001B[1;32m      3\u001B[0m plt\u001B[38;5;241m.\u001B[39mplot(\u001B[38;5;28mrange\u001B[39m(\u001B[38;5;241m10\u001B[39m), [x\u001B[38;5;241m+\u001B[39m\u001B[38;5;241m1\u001B[39m \u001B[38;5;28;01mfor\u001B[39;00m x \u001B[38;5;129;01min\u001B[39;00m \u001B[38;5;28mrange\u001B[39m(\u001B[38;5;241m10\u001B[39m)])\n",
      "\u001B[0;31mModuleNotFoundError\u001B[0m: No module named 'matplotlib'"
     ]
    }
   ],
   "source": [
    "from matplotlib import pyplot as plt\n",
    "plt.plot(range(20), range(20))\n",
    "plt.plot(range(10), [x+1 for x in range(10)])\n",
    "plt.show()"
   ]
  },
  {
   "cell_type": "markdown",
   "id": "d1468f85-2874-4e1c-b3ec-46472a79d087",
   "metadata": {
    "pycharm": {
     "name": "#%% md\n"
    }
   },
   "source": [
    "You can even have interactive charts with altair.  Please note that all interactive plotting libraries may not work due to collisions between the static site generator and the plotting library.  If you encounter issues, we suggest saving your plot as an image file to disk then displaying it with a markdown cell."
   ]
  },
  {
   "cell_type": "markdown",
   "id": "a87e2d03-410d-4e81-b4f8-7503220e00d3",
   "metadata": {
    "pycharm": {
     "name": "#%% md\n"
    }
   },
   "source": [
    "### Interactive Plots"
   ]
  },
  {
   "cell_type": "code",
   "execution_count": null,
   "id": "60ea065a-5162-4d6c-b652-a22b57735fb4",
   "metadata": {
    "tags": [],
    "pycharm": {
     "name": "#%%\n"
    }
   },
   "outputs": [],
   "source": [
    "import altair as alt\n",
    "from vega_datasets import data\n",
    "\n",
    "source = data.cars()\n",
    "\n",
    "alt.Chart(source).mark_circle(size=60).encode(\n",
    "    x='Horsepower',\n",
    "    y='Miles_per_Gallon',\n",
    "    color='Origin',\n",
    "    tooltip=['Name', 'Origin', 'Horsepower', 'Miles_per_Gallon']\n",
    ")"
   ]
  },
  {
   "cell_type": "markdown",
   "id": "93113447-74ec-4a88-8f52-eff57227e8b2",
   "metadata": {
    "pycharm": {
     "name": "#%% md\n"
    }
   },
   "source": [
    ":::caution\n",
    "\n",
    "You should be careful when using interactive plots.  Interactive pltos can inject lots of HTML into the page, which can slow things down significantly.  Only create interactive charts when they are helpful.\n",
    "\n",
    "You can instruct altair to render a chart as a static svg image with this line of code.\n",
    "\n",
    "```python\n",
    "alt.renderers.enable('svg')\n",
    "```\n",
    "\n",
    "_In order for this to work, you will have to install the [altair_saver](https://github.com/altair-viz/altair_saver) package._\n",
    "\n",
    "\n",
    "\n",
    ":::\n",
    "\n",
    "Here is the same chart as a static image:"
   ]
  },
  {
   "cell_type": "code",
   "execution_count": null,
   "id": "58cde981-9ae2-4d43-bb44-7b1d24fc215f",
   "metadata": {
    "tags": [],
    "pycharm": {
     "name": "#%%\n"
    }
   },
   "outputs": [],
   "source": [
    "#notest\n",
    "import altair as alt\n",
    "from vega_datasets import data\n",
    "\n",
    "source = data.cars()\n",
    "\n",
    "alt.renderers.enable('svg')\n",
    "alt.Chart(source).mark_circle(size=60).encode(\n",
    "    x='Horsepower',\n",
    "    y='Miles_per_Gallon',\n",
    "    color='Origin',\n",
    "    tooltip=['Name', 'Origin', 'Horsepower', 'Miles_per_Gallon']\n",
    ")"
   ]
  },
  {
   "cell_type": "markdown",
   "id": "395f9f75-ec7d-4610-8519-898b82426455",
   "metadata": {
    "pycharm": {
     "name": "#%% md\n"
    }
   },
   "source": [
    "## Running Tests & Updating Notebooks"
   ]
  },
  {
   "cell_type": "markdown",
   "id": "13307152-7a21-4b53-85bf-fbbdc360a63d",
   "metadata": {
    "pycharm": {
     "name": "#%% md\n"
    }
   },
   "source": [
    "See [this README section](https://github.com/outerbounds/docs#running-tests--updating-notebooks) for more information on this topic.\n"
   ]
  }
 ],
 "metadata": {
  "kernelspec": {
   "display_name": "Python 3 (ipykernel)",
   "language": "python",
   "name": "python3"
  },
  "language_info": {
   "codemirror_mode": {
    "name": "ipython",
    "version": 3
   },
   "file_extension": ".py",
   "mimetype": "text/x-python",
   "name": "python",
   "nbconvert_exporter": "python",
   "pygments_lexer": "ipython3",
   "version": "3.9.7"
  }
 },
 "nbformat": 4,
 "nbformat_minor": 5
}