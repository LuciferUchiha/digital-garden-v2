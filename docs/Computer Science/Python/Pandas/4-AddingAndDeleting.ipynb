{
 "cells": [
  {
   "cell_type": "markdown",
   "metadata": {
    "collapsed": true,
    "pycharm": {
     "name": "#%% md\n"
    }
   },
   "source": [
    "# Adding and Deleting"
   ]
  },
  {
   "cell_type": "code",
   "execution_count": 2,
   "outputs": [],
   "source": [
    "import pandas as pd\n",
    "\n",
    "df_cars = pd.read_csv(\"data/cars.csv\", sep=\";\", skiprows=[1])"
   ],
   "metadata": {
    "collapsed": false,
    "pycharm": {
     "name": "#%%\n"
    }
   }
  },
  {
   "cell_type": "markdown",
   "source": [
    "## Adding Columns"
   ],
   "metadata": {
    "collapsed": false
   }
  },
  {
   "cell_type": "code",
   "execution_count": 3,
   "outputs": [
    {
     "data": {
      "text/plain": "                           Car   MPG  Cylinders  Displacement  Horsepower  \\\n0    Chevrolet Chevelle Malibu  18.0          8         307.0       130.0   \n1            Buick Skylark 320  15.0          8         350.0       165.0   \n2           Plymouth Satellite  18.0          8         318.0       150.0   \n3                AMC Rebel SST  16.0          8         304.0       150.0   \n4                  Ford Torino  17.0          8         302.0       140.0   \n..                         ...   ...        ...           ...         ...   \n401            Ford Mustang GL  27.0          4         140.0        86.0   \n402          Volkswagen Pickup  44.0          4          97.0        52.0   \n403              Dodge Rampage  32.0          4         135.0        84.0   \n404                Ford Ranger  28.0          4         120.0        79.0   \n405                 Chevy S-10  31.0          4         119.0        82.0   \n\n     Weight  Acceleration  Model  Origin  Index  \n0    3504.0          12.0     70      US      0  \n1    3693.0          11.5     70      US      1  \n2    3436.0          11.0     70      US      2  \n3    3433.0          12.0     70      US      3  \n4    3449.0          10.5     70      US      4  \n..      ...           ...    ...     ...    ...  \n401  2790.0          15.6     82      US    401  \n402  2130.0          24.6     82  Europe    402  \n403  2295.0          11.6     82      US    403  \n404  2625.0          18.6     82      US    404  \n405  2720.0          19.4     82      US    405  \n\n[406 rows x 10 columns]",
      "text/html": "<div>\n<style scoped>\n    .dataframe tbody tr th:only-of-type {\n        vertical-align: middle;\n    }\n\n    .dataframe tbody tr th {\n        vertical-align: top;\n    }\n\n    .dataframe thead th {\n        text-align: right;\n    }\n</style>\n<table border=\"1\" class=\"dataframe\">\n  <thead>\n    <tr style=\"text-align: right;\">\n      <th></th>\n      <th>Car</th>\n      <th>MPG</th>\n      <th>Cylinders</th>\n      <th>Displacement</th>\n      <th>Horsepower</th>\n      <th>Weight</th>\n      <th>Acceleration</th>\n      <th>Model</th>\n      <th>Origin</th>\n      <th>Index</th>\n    </tr>\n  </thead>\n  <tbody>\n    <tr>\n      <th>0</th>\n      <td>Chevrolet Chevelle Malibu</td>\n      <td>18.0</td>\n      <td>8</td>\n      <td>307.0</td>\n      <td>130.0</td>\n      <td>3504.0</td>\n      <td>12.0</td>\n      <td>70</td>\n      <td>US</td>\n      <td>0</td>\n    </tr>\n    <tr>\n      <th>1</th>\n      <td>Buick Skylark 320</td>\n      <td>15.0</td>\n      <td>8</td>\n      <td>350.0</td>\n      <td>165.0</td>\n      <td>3693.0</td>\n      <td>11.5</td>\n      <td>70</td>\n      <td>US</td>\n      <td>1</td>\n    </tr>\n    <tr>\n      <th>2</th>\n      <td>Plymouth Satellite</td>\n      <td>18.0</td>\n      <td>8</td>\n      <td>318.0</td>\n      <td>150.0</td>\n      <td>3436.0</td>\n      <td>11.0</td>\n      <td>70</td>\n      <td>US</td>\n      <td>2</td>\n    </tr>\n    <tr>\n      <th>3</th>\n      <td>AMC Rebel SST</td>\n      <td>16.0</td>\n      <td>8</td>\n      <td>304.0</td>\n      <td>150.0</td>\n      <td>3433.0</td>\n      <td>12.0</td>\n      <td>70</td>\n      <td>US</td>\n      <td>3</td>\n    </tr>\n    <tr>\n      <th>4</th>\n      <td>Ford Torino</td>\n      <td>17.0</td>\n      <td>8</td>\n      <td>302.0</td>\n      <td>140.0</td>\n      <td>3449.0</td>\n      <td>10.5</td>\n      <td>70</td>\n      <td>US</td>\n      <td>4</td>\n    </tr>\n    <tr>\n      <th>...</th>\n      <td>...</td>\n      <td>...</td>\n      <td>...</td>\n      <td>...</td>\n      <td>...</td>\n      <td>...</td>\n      <td>...</td>\n      <td>...</td>\n      <td>...</td>\n      <td>...</td>\n    </tr>\n    <tr>\n      <th>401</th>\n      <td>Ford Mustang GL</td>\n      <td>27.0</td>\n      <td>4</td>\n      <td>140.0</td>\n      <td>86.0</td>\n      <td>2790.0</td>\n      <td>15.6</td>\n      <td>82</td>\n      <td>US</td>\n      <td>401</td>\n    </tr>\n    <tr>\n      <th>402</th>\n      <td>Volkswagen Pickup</td>\n      <td>44.0</td>\n      <td>4</td>\n      <td>97.0</td>\n      <td>52.0</td>\n      <td>2130.0</td>\n      <td>24.6</td>\n      <td>82</td>\n      <td>Europe</td>\n      <td>402</td>\n    </tr>\n    <tr>\n      <th>403</th>\n      <td>Dodge Rampage</td>\n      <td>32.0</td>\n      <td>4</td>\n      <td>135.0</td>\n      <td>84.0</td>\n      <td>2295.0</td>\n      <td>11.6</td>\n      <td>82</td>\n      <td>US</td>\n      <td>403</td>\n    </tr>\n    <tr>\n      <th>404</th>\n      <td>Ford Ranger</td>\n      <td>28.0</td>\n      <td>4</td>\n      <td>120.0</td>\n      <td>79.0</td>\n      <td>2625.0</td>\n      <td>18.6</td>\n      <td>82</td>\n      <td>US</td>\n      <td>404</td>\n    </tr>\n    <tr>\n      <th>405</th>\n      <td>Chevy S-10</td>\n      <td>31.0</td>\n      <td>4</td>\n      <td>119.0</td>\n      <td>82.0</td>\n      <td>2720.0</td>\n      <td>19.4</td>\n      <td>82</td>\n      <td>US</td>\n      <td>405</td>\n    </tr>\n  </tbody>\n</table>\n<p>406 rows × 10 columns</p>\n</div>"
     },
     "execution_count": 3,
     "metadata": {},
     "output_type": "execute_result"
    }
   ],
   "source": [
    "df_cars[\"Index\"] = df_cars.index\n",
    "df_cars"
   ],
   "metadata": {
    "collapsed": false,
    "pycharm": {
     "name": "#%%\n"
    }
   }
  },
  {
   "cell_type": "markdown",
   "source": [
    "## Combining Columns\n",
    "You can combine columns to create a new Series and then add the Series as a new column."
   ],
   "metadata": {
    "collapsed": false
   }
  },
  {
   "cell_type": "code",
   "execution_count": 4,
   "outputs": [
    {
     "data": {
      "text/plain": "0      Chevrolet Chevelle Malibuwith a 0      8\\n1   ...\n1      Buick Skylark 320with a 0      8\\n1      8\\n2 ...\n2      Plymouth Satellitewith a 0      8\\n1      8\\n2...\n3      AMC Rebel SSTwith a 0      8\\n1      8\\n2     ...\n4      Ford Torinowith a 0      8\\n1      8\\n2      8...\n                             ...                        \n401    Ford Mustang GLwith a 0      8\\n1      8\\n2   ...\n402    Volkswagen Pickupwith a 0      8\\n1      8\\n2 ...\n403    Dodge Rampagewith a 0      8\\n1      8\\n2     ...\n404    Ford Rangerwith a 0      8\\n1      8\\n2      8...\n405    Chevy S-10with a 0      8\\n1      8\\n2      8\\...\nName: Car, Length: 406, dtype: object"
     },
     "execution_count": 4,
     "metadata": {},
     "output_type": "execute_result"
    }
   ],
   "source": [
    "df_cars[\"Car\"] + \"with a \" + str(df_cars[\"Cylinders\"]) + \" cylinder engine\""
   ],
   "metadata": {
    "collapsed": false,
    "pycharm": {
     "name": "#%%\n"
    }
   }
  },
  {
   "cell_type": "code",
   "execution_count": 5,
   "outputs": [],
   "source": [
    "df_cars[\"CarText\"] = df_cars[\"Car\"] + \"with a \" + str(df_cars[\"Cylinders\"]) + \" cylinder engine\""
   ],
   "metadata": {
    "collapsed": false,
    "pycharm": {
     "name": "#%%\n"
    }
   }
  },
  {
   "cell_type": "code",
   "execution_count": 6,
   "outputs": [
    {
     "data": {
      "text/plain": "                           Car   MPG  Cylinders  Displacement  Horsepower  \\\n0    Chevrolet Chevelle Malibu  18.0          8         307.0       130.0   \n1            Buick Skylark 320  15.0          8         350.0       165.0   \n2           Plymouth Satellite  18.0          8         318.0       150.0   \n3                AMC Rebel SST  16.0          8         304.0       150.0   \n4                  Ford Torino  17.0          8         302.0       140.0   \n..                         ...   ...        ...           ...         ...   \n401            Ford Mustang GL  27.0          4         140.0        86.0   \n402          Volkswagen Pickup  44.0          4          97.0        52.0   \n403              Dodge Rampage  32.0          4         135.0        84.0   \n404                Ford Ranger  28.0          4         120.0        79.0   \n405                 Chevy S-10  31.0          4         119.0        82.0   \n\n     Weight  Acceleration  Model  Origin  Index  \\\n0    3504.0          12.0     70      US      0   \n1    3693.0          11.5     70      US      1   \n2    3436.0          11.0     70      US      2   \n3    3433.0          12.0     70      US      3   \n4    3449.0          10.5     70      US      4   \n..      ...           ...    ...     ...    ...   \n401  2790.0          15.6     82      US    401   \n402  2130.0          24.6     82  Europe    402   \n403  2295.0          11.6     82      US    403   \n404  2625.0          18.6     82      US    404   \n405  2720.0          19.4     82      US    405   \n\n                                               CarText  \n0    Chevrolet Chevelle Malibuwith a 0      8\\n1   ...  \n1    Buick Skylark 320with a 0      8\\n1      8\\n2 ...  \n2    Plymouth Satellitewith a 0      8\\n1      8\\n2...  \n3    AMC Rebel SSTwith a 0      8\\n1      8\\n2     ...  \n4    Ford Torinowith a 0      8\\n1      8\\n2      8...  \n..                                                 ...  \n401  Ford Mustang GLwith a 0      8\\n1      8\\n2   ...  \n402  Volkswagen Pickupwith a 0      8\\n1      8\\n2 ...  \n403  Dodge Rampagewith a 0      8\\n1      8\\n2     ...  \n404  Ford Rangerwith a 0      8\\n1      8\\n2      8...  \n405  Chevy S-10with a 0      8\\n1      8\\n2      8\\...  \n\n[406 rows x 11 columns]",
      "text/html": "<div>\n<style scoped>\n    .dataframe tbody tr th:only-of-type {\n        vertical-align: middle;\n    }\n\n    .dataframe tbody tr th {\n        vertical-align: top;\n    }\n\n    .dataframe thead th {\n        text-align: right;\n    }\n</style>\n<table border=\"1\" class=\"dataframe\">\n  <thead>\n    <tr style=\"text-align: right;\">\n      <th></th>\n      <th>Car</th>\n      <th>MPG</th>\n      <th>Cylinders</th>\n      <th>Displacement</th>\n      <th>Horsepower</th>\n      <th>Weight</th>\n      <th>Acceleration</th>\n      <th>Model</th>\n      <th>Origin</th>\n      <th>Index</th>\n      <th>CarText</th>\n    </tr>\n  </thead>\n  <tbody>\n    <tr>\n      <th>0</th>\n      <td>Chevrolet Chevelle Malibu</td>\n      <td>18.0</td>\n      <td>8</td>\n      <td>307.0</td>\n      <td>130.0</td>\n      <td>3504.0</td>\n      <td>12.0</td>\n      <td>70</td>\n      <td>US</td>\n      <td>0</td>\n      <td>Chevrolet Chevelle Malibuwith a 0      8\\n1   ...</td>\n    </tr>\n    <tr>\n      <th>1</th>\n      <td>Buick Skylark 320</td>\n      <td>15.0</td>\n      <td>8</td>\n      <td>350.0</td>\n      <td>165.0</td>\n      <td>3693.0</td>\n      <td>11.5</td>\n      <td>70</td>\n      <td>US</td>\n      <td>1</td>\n      <td>Buick Skylark 320with a 0      8\\n1      8\\n2 ...</td>\n    </tr>\n    <tr>\n      <th>2</th>\n      <td>Plymouth Satellite</td>\n      <td>18.0</td>\n      <td>8</td>\n      <td>318.0</td>\n      <td>150.0</td>\n      <td>3436.0</td>\n      <td>11.0</td>\n      <td>70</td>\n      <td>US</td>\n      <td>2</td>\n      <td>Plymouth Satellitewith a 0      8\\n1      8\\n2...</td>\n    </tr>\n    <tr>\n      <th>3</th>\n      <td>AMC Rebel SST</td>\n      <td>16.0</td>\n      <td>8</td>\n      <td>304.0</td>\n      <td>150.0</td>\n      <td>3433.0</td>\n      <td>12.0</td>\n      <td>70</td>\n      <td>US</td>\n      <td>3</td>\n      <td>AMC Rebel SSTwith a 0      8\\n1      8\\n2     ...</td>\n    </tr>\n    <tr>\n      <th>4</th>\n      <td>Ford Torino</td>\n      <td>17.0</td>\n      <td>8</td>\n      <td>302.0</td>\n      <td>140.0</td>\n      <td>3449.0</td>\n      <td>10.5</td>\n      <td>70</td>\n      <td>US</td>\n      <td>4</td>\n      <td>Ford Torinowith a 0      8\\n1      8\\n2      8...</td>\n    </tr>\n    <tr>\n      <th>...</th>\n      <td>...</td>\n      <td>...</td>\n      <td>...</td>\n      <td>...</td>\n      <td>...</td>\n      <td>...</td>\n      <td>...</td>\n      <td>...</td>\n      <td>...</td>\n      <td>...</td>\n      <td>...</td>\n    </tr>\n    <tr>\n      <th>401</th>\n      <td>Ford Mustang GL</td>\n      <td>27.0</td>\n      <td>4</td>\n      <td>140.0</td>\n      <td>86.0</td>\n      <td>2790.0</td>\n      <td>15.6</td>\n      <td>82</td>\n      <td>US</td>\n      <td>401</td>\n      <td>Ford Mustang GLwith a 0      8\\n1      8\\n2   ...</td>\n    </tr>\n    <tr>\n      <th>402</th>\n      <td>Volkswagen Pickup</td>\n      <td>44.0</td>\n      <td>4</td>\n      <td>97.0</td>\n      <td>52.0</td>\n      <td>2130.0</td>\n      <td>24.6</td>\n      <td>82</td>\n      <td>Europe</td>\n      <td>402</td>\n      <td>Volkswagen Pickupwith a 0      8\\n1      8\\n2 ...</td>\n    </tr>\n    <tr>\n      <th>403</th>\n      <td>Dodge Rampage</td>\n      <td>32.0</td>\n      <td>4</td>\n      <td>135.0</td>\n      <td>84.0</td>\n      <td>2295.0</td>\n      <td>11.6</td>\n      <td>82</td>\n      <td>US</td>\n      <td>403</td>\n      <td>Dodge Rampagewith a 0      8\\n1      8\\n2     ...</td>\n    </tr>\n    <tr>\n      <th>404</th>\n      <td>Ford Ranger</td>\n      <td>28.0</td>\n      <td>4</td>\n      <td>120.0</td>\n      <td>79.0</td>\n      <td>2625.0</td>\n      <td>18.6</td>\n      <td>82</td>\n      <td>US</td>\n      <td>404</td>\n      <td>Ford Rangerwith a 0      8\\n1      8\\n2      8...</td>\n    </tr>\n    <tr>\n      <th>405</th>\n      <td>Chevy S-10</td>\n      <td>31.0</td>\n      <td>4</td>\n      <td>119.0</td>\n      <td>82.0</td>\n      <td>2720.0</td>\n      <td>19.4</td>\n      <td>82</td>\n      <td>US</td>\n      <td>405</td>\n      <td>Chevy S-10with a 0      8\\n1      8\\n2      8\\...</td>\n    </tr>\n  </tbody>\n</table>\n<p>406 rows × 11 columns</p>\n</div>"
     },
     "execution_count": 6,
     "metadata": {},
     "output_type": "execute_result"
    }
   ],
   "source": [
    "df_cars"
   ],
   "metadata": {
    "collapsed": false,
    "pycharm": {
     "name": "#%%\n"
    }
   }
  },
  {
   "cell_type": "markdown",
   "source": [
    "## Deleting columns"
   ],
   "metadata": {
    "collapsed": false
   }
  },
  {
   "cell_type": "code",
   "execution_count": 7,
   "outputs": [
    {
     "data": {
      "text/plain": "      MPG  Cylinders  Displacement  Horsepower  Weight  Acceleration  Model  \\\n0    18.0          8         307.0       130.0  3504.0          12.0     70   \n1    15.0          8         350.0       165.0  3693.0          11.5     70   \n2    18.0          8         318.0       150.0  3436.0          11.0     70   \n3    16.0          8         304.0       150.0  3433.0          12.0     70   \n4    17.0          8         302.0       140.0  3449.0          10.5     70   \n..    ...        ...           ...         ...     ...           ...    ...   \n401  27.0          4         140.0        86.0  2790.0          15.6     82   \n402  44.0          4          97.0        52.0  2130.0          24.6     82   \n403  32.0          4         135.0        84.0  2295.0          11.6     82   \n404  28.0          4         120.0        79.0  2625.0          18.6     82   \n405  31.0          4         119.0        82.0  2720.0          19.4     82   \n\n     Origin  Index  \n0        US      0  \n1        US      1  \n2        US      2  \n3        US      3  \n4        US      4  \n..      ...    ...  \n401      US    401  \n402  Europe    402  \n403      US    403  \n404      US    404  \n405      US    405  \n\n[406 rows x 9 columns]",
      "text/html": "<div>\n<style scoped>\n    .dataframe tbody tr th:only-of-type {\n        vertical-align: middle;\n    }\n\n    .dataframe tbody tr th {\n        vertical-align: top;\n    }\n\n    .dataframe thead th {\n        text-align: right;\n    }\n</style>\n<table border=\"1\" class=\"dataframe\">\n  <thead>\n    <tr style=\"text-align: right;\">\n      <th></th>\n      <th>MPG</th>\n      <th>Cylinders</th>\n      <th>Displacement</th>\n      <th>Horsepower</th>\n      <th>Weight</th>\n      <th>Acceleration</th>\n      <th>Model</th>\n      <th>Origin</th>\n      <th>Index</th>\n    </tr>\n  </thead>\n  <tbody>\n    <tr>\n      <th>0</th>\n      <td>18.0</td>\n      <td>8</td>\n      <td>307.0</td>\n      <td>130.0</td>\n      <td>3504.0</td>\n      <td>12.0</td>\n      <td>70</td>\n      <td>US</td>\n      <td>0</td>\n    </tr>\n    <tr>\n      <th>1</th>\n      <td>15.0</td>\n      <td>8</td>\n      <td>350.0</td>\n      <td>165.0</td>\n      <td>3693.0</td>\n      <td>11.5</td>\n      <td>70</td>\n      <td>US</td>\n      <td>1</td>\n    </tr>\n    <tr>\n      <th>2</th>\n      <td>18.0</td>\n      <td>8</td>\n      <td>318.0</td>\n      <td>150.0</td>\n      <td>3436.0</td>\n      <td>11.0</td>\n      <td>70</td>\n      <td>US</td>\n      <td>2</td>\n    </tr>\n    <tr>\n      <th>3</th>\n      <td>16.0</td>\n      <td>8</td>\n      <td>304.0</td>\n      <td>150.0</td>\n      <td>3433.0</td>\n      <td>12.0</td>\n      <td>70</td>\n      <td>US</td>\n      <td>3</td>\n    </tr>\n    <tr>\n      <th>4</th>\n      <td>17.0</td>\n      <td>8</td>\n      <td>302.0</td>\n      <td>140.0</td>\n      <td>3449.0</td>\n      <td>10.5</td>\n      <td>70</td>\n      <td>US</td>\n      <td>4</td>\n    </tr>\n    <tr>\n      <th>...</th>\n      <td>...</td>\n      <td>...</td>\n      <td>...</td>\n      <td>...</td>\n      <td>...</td>\n      <td>...</td>\n      <td>...</td>\n      <td>...</td>\n      <td>...</td>\n    </tr>\n    <tr>\n      <th>401</th>\n      <td>27.0</td>\n      <td>4</td>\n      <td>140.0</td>\n      <td>86.0</td>\n      <td>2790.0</td>\n      <td>15.6</td>\n      <td>82</td>\n      <td>US</td>\n      <td>401</td>\n    </tr>\n    <tr>\n      <th>402</th>\n      <td>44.0</td>\n      <td>4</td>\n      <td>97.0</td>\n      <td>52.0</td>\n      <td>2130.0</td>\n      <td>24.6</td>\n      <td>82</td>\n      <td>Europe</td>\n      <td>402</td>\n    </tr>\n    <tr>\n      <th>403</th>\n      <td>32.0</td>\n      <td>4</td>\n      <td>135.0</td>\n      <td>84.0</td>\n      <td>2295.0</td>\n      <td>11.6</td>\n      <td>82</td>\n      <td>US</td>\n      <td>403</td>\n    </tr>\n    <tr>\n      <th>404</th>\n      <td>28.0</td>\n      <td>4</td>\n      <td>120.0</td>\n      <td>79.0</td>\n      <td>2625.0</td>\n      <td>18.6</td>\n      <td>82</td>\n      <td>US</td>\n      <td>404</td>\n    </tr>\n    <tr>\n      <th>405</th>\n      <td>31.0</td>\n      <td>4</td>\n      <td>119.0</td>\n      <td>82.0</td>\n      <td>2720.0</td>\n      <td>19.4</td>\n      <td>82</td>\n      <td>US</td>\n      <td>405</td>\n    </tr>\n  </tbody>\n</table>\n<p>406 rows × 9 columns</p>\n</div>"
     },
     "execution_count": 7,
     "metadata": {},
     "output_type": "execute_result"
    }
   ],
   "source": [
    "df_cars.drop(columns=[\"Car\", \"CarText\"])"
   ],
   "metadata": {
    "collapsed": false,
    "pycharm": {
     "name": "#%%\n"
    }
   }
  },
  {
   "cell_type": "markdown",
   "source": [
    "## Split columns"
   ],
   "metadata": {
    "collapsed": false
   }
  },
  {
   "cell_type": "code",
   "execution_count": 8,
   "outputs": [
    {
     "data": {
      "text/plain": "0      [Chevrolet, Chevelle, Malibu]\n1              [Buick, Skylark, 320]\n2              [Plymouth, Satellite]\n3                  [AMC, Rebel, SST]\n4                     [Ford, Torino]\n                   ...              \n401              [Ford, Mustang, GL]\n402             [Volkswagen, Pickup]\n403                 [Dodge, Rampage]\n404                   [Ford, Ranger]\n405                    [Chevy, S-10]\nName: Car, Length: 406, dtype: object"
     },
     "execution_count": 8,
     "metadata": {},
     "output_type": "execute_result"
    }
   ],
   "source": [
    "df_cars[\"Car\"].str.split(\" \")"
   ],
   "metadata": {
    "collapsed": false,
    "pycharm": {
     "name": "#%%\n"
    }
   }
  },
  {
   "cell_type": "code",
   "execution_count": 9,
   "outputs": [
    {
     "data": {
      "text/plain": "              0          1       2     3     4     5\n0     Chevrolet   Chevelle  Malibu  None  None  None\n1         Buick    Skylark     320  None  None  None\n2      Plymouth  Satellite    None  None  None  None\n3           AMC      Rebel     SST  None  None  None\n4          Ford     Torino    None  None  None  None\n..          ...        ...     ...   ...   ...   ...\n401        Ford    Mustang      GL  None  None  None\n402  Volkswagen     Pickup    None  None  None  None\n403       Dodge    Rampage    None  None  None  None\n404        Ford     Ranger    None  None  None  None\n405       Chevy       S-10    None  None  None  None\n\n[406 rows x 6 columns]",
      "text/html": "<div>\n<style scoped>\n    .dataframe tbody tr th:only-of-type {\n        vertical-align: middle;\n    }\n\n    .dataframe tbody tr th {\n        vertical-align: top;\n    }\n\n    .dataframe thead th {\n        text-align: right;\n    }\n</style>\n<table border=\"1\" class=\"dataframe\">\n  <thead>\n    <tr style=\"text-align: right;\">\n      <th></th>\n      <th>0</th>\n      <th>1</th>\n      <th>2</th>\n      <th>3</th>\n      <th>4</th>\n      <th>5</th>\n    </tr>\n  </thead>\n  <tbody>\n    <tr>\n      <th>0</th>\n      <td>Chevrolet</td>\n      <td>Chevelle</td>\n      <td>Malibu</td>\n      <td>None</td>\n      <td>None</td>\n      <td>None</td>\n    </tr>\n    <tr>\n      <th>1</th>\n      <td>Buick</td>\n      <td>Skylark</td>\n      <td>320</td>\n      <td>None</td>\n      <td>None</td>\n      <td>None</td>\n    </tr>\n    <tr>\n      <th>2</th>\n      <td>Plymouth</td>\n      <td>Satellite</td>\n      <td>None</td>\n      <td>None</td>\n      <td>None</td>\n      <td>None</td>\n    </tr>\n    <tr>\n      <th>3</th>\n      <td>AMC</td>\n      <td>Rebel</td>\n      <td>SST</td>\n      <td>None</td>\n      <td>None</td>\n      <td>None</td>\n    </tr>\n    <tr>\n      <th>4</th>\n      <td>Ford</td>\n      <td>Torino</td>\n      <td>None</td>\n      <td>None</td>\n      <td>None</td>\n      <td>None</td>\n    </tr>\n    <tr>\n      <th>...</th>\n      <td>...</td>\n      <td>...</td>\n      <td>...</td>\n      <td>...</td>\n      <td>...</td>\n      <td>...</td>\n    </tr>\n    <tr>\n      <th>401</th>\n      <td>Ford</td>\n      <td>Mustang</td>\n      <td>GL</td>\n      <td>None</td>\n      <td>None</td>\n      <td>None</td>\n    </tr>\n    <tr>\n      <th>402</th>\n      <td>Volkswagen</td>\n      <td>Pickup</td>\n      <td>None</td>\n      <td>None</td>\n      <td>None</td>\n      <td>None</td>\n    </tr>\n    <tr>\n      <th>403</th>\n      <td>Dodge</td>\n      <td>Rampage</td>\n      <td>None</td>\n      <td>None</td>\n      <td>None</td>\n      <td>None</td>\n    </tr>\n    <tr>\n      <th>404</th>\n      <td>Ford</td>\n      <td>Ranger</td>\n      <td>None</td>\n      <td>None</td>\n      <td>None</td>\n      <td>None</td>\n    </tr>\n    <tr>\n      <th>405</th>\n      <td>Chevy</td>\n      <td>S-10</td>\n      <td>None</td>\n      <td>None</td>\n      <td>None</td>\n      <td>None</td>\n    </tr>\n  </tbody>\n</table>\n<p>406 rows × 6 columns</p>\n</div>"
     },
     "execution_count": 9,
     "metadata": {},
     "output_type": "execute_result"
    }
   ],
   "source": [
    "tokens_series = df_cars[\"Car\"].str.split(\" \", expand=True)\n",
    "tokens_series"
   ],
   "metadata": {
    "collapsed": false,
    "pycharm": {
     "name": "#%%\n"
    }
   }
  },
  {
   "cell_type": "code",
   "execution_count": 10,
   "outputs": [
    {
     "data": {
      "text/plain": "                           Car   MPG  Cylinders  Displacement  Horsepower  \\\n0    Chevrolet Chevelle Malibu  18.0          8         307.0       130.0   \n1            Buick Skylark 320  15.0          8         350.0       165.0   \n2           Plymouth Satellite  18.0          8         318.0       150.0   \n3                AMC Rebel SST  16.0          8         304.0       150.0   \n4                  Ford Torino  17.0          8         302.0       140.0   \n..                         ...   ...        ...           ...         ...   \n401            Ford Mustang GL  27.0          4         140.0        86.0   \n402          Volkswagen Pickup  44.0          4          97.0        52.0   \n403              Dodge Rampage  32.0          4         135.0        84.0   \n404                Ford Ranger  28.0          4         120.0        79.0   \n405                 Chevy S-10  31.0          4         119.0        82.0   \n\n     Weight  Acceleration  Model  Origin  Index  \\\n0    3504.0          12.0     70      US      0   \n1    3693.0          11.5     70      US      1   \n2    3436.0          11.0     70      US      2   \n3    3433.0          12.0     70      US      3   \n4    3449.0          10.5     70      US      4   \n..      ...           ...    ...     ...    ...   \n401  2790.0          15.6     82      US    401   \n402  2130.0          24.6     82  Europe    402   \n403  2295.0          11.6     82      US    403   \n404  2625.0          18.6     82      US    404   \n405  2720.0          19.4     82      US    405   \n\n                                               CarText        Make  \n0    Chevrolet Chevelle Malibuwith a 0      8\\n1   ...   Chevrolet  \n1    Buick Skylark 320with a 0      8\\n1      8\\n2 ...       Buick  \n2    Plymouth Satellitewith a 0      8\\n1      8\\n2...    Plymouth  \n3    AMC Rebel SSTwith a 0      8\\n1      8\\n2     ...         AMC  \n4    Ford Torinowith a 0      8\\n1      8\\n2      8...        Ford  \n..                                                 ...         ...  \n401  Ford Mustang GLwith a 0      8\\n1      8\\n2   ...        Ford  \n402  Volkswagen Pickupwith a 0      8\\n1      8\\n2 ...  Volkswagen  \n403  Dodge Rampagewith a 0      8\\n1      8\\n2     ...       Dodge  \n404  Ford Rangerwith a 0      8\\n1      8\\n2      8...        Ford  \n405  Chevy S-10with a 0      8\\n1      8\\n2      8\\...       Chevy  \n\n[406 rows x 12 columns]",
      "text/html": "<div>\n<style scoped>\n    .dataframe tbody tr th:only-of-type {\n        vertical-align: middle;\n    }\n\n    .dataframe tbody tr th {\n        vertical-align: top;\n    }\n\n    .dataframe thead th {\n        text-align: right;\n    }\n</style>\n<table border=\"1\" class=\"dataframe\">\n  <thead>\n    <tr style=\"text-align: right;\">\n      <th></th>\n      <th>Car</th>\n      <th>MPG</th>\n      <th>Cylinders</th>\n      <th>Displacement</th>\n      <th>Horsepower</th>\n      <th>Weight</th>\n      <th>Acceleration</th>\n      <th>Model</th>\n      <th>Origin</th>\n      <th>Index</th>\n      <th>CarText</th>\n      <th>Make</th>\n    </tr>\n  </thead>\n  <tbody>\n    <tr>\n      <th>0</th>\n      <td>Chevrolet Chevelle Malibu</td>\n      <td>18.0</td>\n      <td>8</td>\n      <td>307.0</td>\n      <td>130.0</td>\n      <td>3504.0</td>\n      <td>12.0</td>\n      <td>70</td>\n      <td>US</td>\n      <td>0</td>\n      <td>Chevrolet Chevelle Malibuwith a 0      8\\n1   ...</td>\n      <td>Chevrolet</td>\n    </tr>\n    <tr>\n      <th>1</th>\n      <td>Buick Skylark 320</td>\n      <td>15.0</td>\n      <td>8</td>\n      <td>350.0</td>\n      <td>165.0</td>\n      <td>3693.0</td>\n      <td>11.5</td>\n      <td>70</td>\n      <td>US</td>\n      <td>1</td>\n      <td>Buick Skylark 320with a 0      8\\n1      8\\n2 ...</td>\n      <td>Buick</td>\n    </tr>\n    <tr>\n      <th>2</th>\n      <td>Plymouth Satellite</td>\n      <td>18.0</td>\n      <td>8</td>\n      <td>318.0</td>\n      <td>150.0</td>\n      <td>3436.0</td>\n      <td>11.0</td>\n      <td>70</td>\n      <td>US</td>\n      <td>2</td>\n      <td>Plymouth Satellitewith a 0      8\\n1      8\\n2...</td>\n      <td>Plymouth</td>\n    </tr>\n    <tr>\n      <th>3</th>\n      <td>AMC Rebel SST</td>\n      <td>16.0</td>\n      <td>8</td>\n      <td>304.0</td>\n      <td>150.0</td>\n      <td>3433.0</td>\n      <td>12.0</td>\n      <td>70</td>\n      <td>US</td>\n      <td>3</td>\n      <td>AMC Rebel SSTwith a 0      8\\n1      8\\n2     ...</td>\n      <td>AMC</td>\n    </tr>\n    <tr>\n      <th>4</th>\n      <td>Ford Torino</td>\n      <td>17.0</td>\n      <td>8</td>\n      <td>302.0</td>\n      <td>140.0</td>\n      <td>3449.0</td>\n      <td>10.5</td>\n      <td>70</td>\n      <td>US</td>\n      <td>4</td>\n      <td>Ford Torinowith a 0      8\\n1      8\\n2      8...</td>\n      <td>Ford</td>\n    </tr>\n    <tr>\n      <th>...</th>\n      <td>...</td>\n      <td>...</td>\n      <td>...</td>\n      <td>...</td>\n      <td>...</td>\n      <td>...</td>\n      <td>...</td>\n      <td>...</td>\n      <td>...</td>\n      <td>...</td>\n      <td>...</td>\n      <td>...</td>\n    </tr>\n    <tr>\n      <th>401</th>\n      <td>Ford Mustang GL</td>\n      <td>27.0</td>\n      <td>4</td>\n      <td>140.0</td>\n      <td>86.0</td>\n      <td>2790.0</td>\n      <td>15.6</td>\n      <td>82</td>\n      <td>US</td>\n      <td>401</td>\n      <td>Ford Mustang GLwith a 0      8\\n1      8\\n2   ...</td>\n      <td>Ford</td>\n    </tr>\n    <tr>\n      <th>402</th>\n      <td>Volkswagen Pickup</td>\n      <td>44.0</td>\n      <td>4</td>\n      <td>97.0</td>\n      <td>52.0</td>\n      <td>2130.0</td>\n      <td>24.6</td>\n      <td>82</td>\n      <td>Europe</td>\n      <td>402</td>\n      <td>Volkswagen Pickupwith a 0      8\\n1      8\\n2 ...</td>\n      <td>Volkswagen</td>\n    </tr>\n    <tr>\n      <th>403</th>\n      <td>Dodge Rampage</td>\n      <td>32.0</td>\n      <td>4</td>\n      <td>135.0</td>\n      <td>84.0</td>\n      <td>2295.0</td>\n      <td>11.6</td>\n      <td>82</td>\n      <td>US</td>\n      <td>403</td>\n      <td>Dodge Rampagewith a 0      8\\n1      8\\n2     ...</td>\n      <td>Dodge</td>\n    </tr>\n    <tr>\n      <th>404</th>\n      <td>Ford Ranger</td>\n      <td>28.0</td>\n      <td>4</td>\n      <td>120.0</td>\n      <td>79.0</td>\n      <td>2625.0</td>\n      <td>18.6</td>\n      <td>82</td>\n      <td>US</td>\n      <td>404</td>\n      <td>Ford Rangerwith a 0      8\\n1      8\\n2      8...</td>\n      <td>Ford</td>\n    </tr>\n    <tr>\n      <th>405</th>\n      <td>Chevy S-10</td>\n      <td>31.0</td>\n      <td>4</td>\n      <td>119.0</td>\n      <td>82.0</td>\n      <td>2720.0</td>\n      <td>19.4</td>\n      <td>82</td>\n      <td>US</td>\n      <td>405</td>\n      <td>Chevy S-10with a 0      8\\n1      8\\n2      8\\...</td>\n      <td>Chevy</td>\n    </tr>\n  </tbody>\n</table>\n<p>406 rows × 12 columns</p>\n</div>"
     },
     "execution_count": 10,
     "metadata": {},
     "output_type": "execute_result"
    }
   ],
   "source": [
    "df_cars[\"Make\"] = tokens_series[0]\n",
    "df_cars"
   ],
   "metadata": {
    "collapsed": false,
    "pycharm": {
     "name": "#%%\n"
    }
   }
  },
  {
   "cell_type": "markdown",
   "source": [
    "## Deleting rows\n",
    "You can delete a row by using its index or delete multiple using a filter."
   ],
   "metadata": {
    "collapsed": false
   }
  },
  {
   "cell_type": "code",
   "execution_count": 11,
   "outputs": [
    {
     "data": {
      "text/plain": "                           Car   MPG  Cylinders  Displacement  Horsepower  \\\n0    Chevrolet Chevelle Malibu  18.0          8         307.0       130.0   \n1            Buick Skylark 320  15.0          8         350.0       165.0   \n3                AMC Rebel SST  16.0          8         304.0       150.0   \n4                  Ford Torino  17.0          8         302.0       140.0   \n5             Ford Galaxie 500  15.0          8         429.0       198.0   \n..                         ...   ...        ...           ...         ...   \n401            Ford Mustang GL  27.0          4         140.0        86.0   \n402          Volkswagen Pickup  44.0          4          97.0        52.0   \n403              Dodge Rampage  32.0          4         135.0        84.0   \n404                Ford Ranger  28.0          4         120.0        79.0   \n405                 Chevy S-10  31.0          4         119.0        82.0   \n\n     Weight  Acceleration  Model  Origin  Index  \\\n0    3504.0          12.0     70      US      0   \n1    3693.0          11.5     70      US      1   \n3    3433.0          12.0     70      US      3   \n4    3449.0          10.5     70      US      4   \n5    4341.0          10.0     70      US      5   \n..      ...           ...    ...     ...    ...   \n401  2790.0          15.6     82      US    401   \n402  2130.0          24.6     82  Europe    402   \n403  2295.0          11.6     82      US    403   \n404  2625.0          18.6     82      US    404   \n405  2720.0          19.4     82      US    405   \n\n                                               CarText        Make  \n0    Chevrolet Chevelle Malibuwith a 0      8\\n1   ...   Chevrolet  \n1    Buick Skylark 320with a 0      8\\n1      8\\n2 ...       Buick  \n3    AMC Rebel SSTwith a 0      8\\n1      8\\n2     ...         AMC  \n4    Ford Torinowith a 0      8\\n1      8\\n2      8...        Ford  \n5    Ford Galaxie 500with a 0      8\\n1      8\\n2  ...        Ford  \n..                                                 ...         ...  \n401  Ford Mustang GLwith a 0      8\\n1      8\\n2   ...        Ford  \n402  Volkswagen Pickupwith a 0      8\\n1      8\\n2 ...  Volkswagen  \n403  Dodge Rampagewith a 0      8\\n1      8\\n2     ...       Dodge  \n404  Ford Rangerwith a 0      8\\n1      8\\n2      8...        Ford  \n405  Chevy S-10with a 0      8\\n1      8\\n2      8\\...       Chevy  \n\n[405 rows x 12 columns]",
      "text/html": "<div>\n<style scoped>\n    .dataframe tbody tr th:only-of-type {\n        vertical-align: middle;\n    }\n\n    .dataframe tbody tr th {\n        vertical-align: top;\n    }\n\n    .dataframe thead th {\n        text-align: right;\n    }\n</style>\n<table border=\"1\" class=\"dataframe\">\n  <thead>\n    <tr style=\"text-align: right;\">\n      <th></th>\n      <th>Car</th>\n      <th>MPG</th>\n      <th>Cylinders</th>\n      <th>Displacement</th>\n      <th>Horsepower</th>\n      <th>Weight</th>\n      <th>Acceleration</th>\n      <th>Model</th>\n      <th>Origin</th>\n      <th>Index</th>\n      <th>CarText</th>\n      <th>Make</th>\n    </tr>\n  </thead>\n  <tbody>\n    <tr>\n      <th>0</th>\n      <td>Chevrolet Chevelle Malibu</td>\n      <td>18.0</td>\n      <td>8</td>\n      <td>307.0</td>\n      <td>130.0</td>\n      <td>3504.0</td>\n      <td>12.0</td>\n      <td>70</td>\n      <td>US</td>\n      <td>0</td>\n      <td>Chevrolet Chevelle Malibuwith a 0      8\\n1   ...</td>\n      <td>Chevrolet</td>\n    </tr>\n    <tr>\n      <th>1</th>\n      <td>Buick Skylark 320</td>\n      <td>15.0</td>\n      <td>8</td>\n      <td>350.0</td>\n      <td>165.0</td>\n      <td>3693.0</td>\n      <td>11.5</td>\n      <td>70</td>\n      <td>US</td>\n      <td>1</td>\n      <td>Buick Skylark 320with a 0      8\\n1      8\\n2 ...</td>\n      <td>Buick</td>\n    </tr>\n    <tr>\n      <th>3</th>\n      <td>AMC Rebel SST</td>\n      <td>16.0</td>\n      <td>8</td>\n      <td>304.0</td>\n      <td>150.0</td>\n      <td>3433.0</td>\n      <td>12.0</td>\n      <td>70</td>\n      <td>US</td>\n      <td>3</td>\n      <td>AMC Rebel SSTwith a 0      8\\n1      8\\n2     ...</td>\n      <td>AMC</td>\n    </tr>\n    <tr>\n      <th>4</th>\n      <td>Ford Torino</td>\n      <td>17.0</td>\n      <td>8</td>\n      <td>302.0</td>\n      <td>140.0</td>\n      <td>3449.0</td>\n      <td>10.5</td>\n      <td>70</td>\n      <td>US</td>\n      <td>4</td>\n      <td>Ford Torinowith a 0      8\\n1      8\\n2      8...</td>\n      <td>Ford</td>\n    </tr>\n    <tr>\n      <th>5</th>\n      <td>Ford Galaxie 500</td>\n      <td>15.0</td>\n      <td>8</td>\n      <td>429.0</td>\n      <td>198.0</td>\n      <td>4341.0</td>\n      <td>10.0</td>\n      <td>70</td>\n      <td>US</td>\n      <td>5</td>\n      <td>Ford Galaxie 500with a 0      8\\n1      8\\n2  ...</td>\n      <td>Ford</td>\n    </tr>\n    <tr>\n      <th>...</th>\n      <td>...</td>\n      <td>...</td>\n      <td>...</td>\n      <td>...</td>\n      <td>...</td>\n      <td>...</td>\n      <td>...</td>\n      <td>...</td>\n      <td>...</td>\n      <td>...</td>\n      <td>...</td>\n      <td>...</td>\n    </tr>\n    <tr>\n      <th>401</th>\n      <td>Ford Mustang GL</td>\n      <td>27.0</td>\n      <td>4</td>\n      <td>140.0</td>\n      <td>86.0</td>\n      <td>2790.0</td>\n      <td>15.6</td>\n      <td>82</td>\n      <td>US</td>\n      <td>401</td>\n      <td>Ford Mustang GLwith a 0      8\\n1      8\\n2   ...</td>\n      <td>Ford</td>\n    </tr>\n    <tr>\n      <th>402</th>\n      <td>Volkswagen Pickup</td>\n      <td>44.0</td>\n      <td>4</td>\n      <td>97.0</td>\n      <td>52.0</td>\n      <td>2130.0</td>\n      <td>24.6</td>\n      <td>82</td>\n      <td>Europe</td>\n      <td>402</td>\n      <td>Volkswagen Pickupwith a 0      8\\n1      8\\n2 ...</td>\n      <td>Volkswagen</td>\n    </tr>\n    <tr>\n      <th>403</th>\n      <td>Dodge Rampage</td>\n      <td>32.0</td>\n      <td>4</td>\n      <td>135.0</td>\n      <td>84.0</td>\n      <td>2295.0</td>\n      <td>11.6</td>\n      <td>82</td>\n      <td>US</td>\n      <td>403</td>\n      <td>Dodge Rampagewith a 0      8\\n1      8\\n2     ...</td>\n      <td>Dodge</td>\n    </tr>\n    <tr>\n      <th>404</th>\n      <td>Ford Ranger</td>\n      <td>28.0</td>\n      <td>4</td>\n      <td>120.0</td>\n      <td>79.0</td>\n      <td>2625.0</td>\n      <td>18.6</td>\n      <td>82</td>\n      <td>US</td>\n      <td>404</td>\n      <td>Ford Rangerwith a 0      8\\n1      8\\n2      8...</td>\n      <td>Ford</td>\n    </tr>\n    <tr>\n      <th>405</th>\n      <td>Chevy S-10</td>\n      <td>31.0</td>\n      <td>4</td>\n      <td>119.0</td>\n      <td>82.0</td>\n      <td>2720.0</td>\n      <td>19.4</td>\n      <td>82</td>\n      <td>US</td>\n      <td>405</td>\n      <td>Chevy S-10with a 0      8\\n1      8\\n2      8\\...</td>\n      <td>Chevy</td>\n    </tr>\n  </tbody>\n</table>\n<p>405 rows × 12 columns</p>\n</div>"
     },
     "execution_count": 11,
     "metadata": {},
     "output_type": "execute_result"
    }
   ],
   "source": [
    "df_cars.drop(index=2)"
   ],
   "metadata": {
    "collapsed": false,
    "pycharm": {
     "name": "#%%\n"
    }
   }
  },
  {
   "cell_type": "code",
   "execution_count": 15,
   "outputs": [
    {
     "data": {
      "text/plain": "                        Car   MPG  Cylinders  Displacement  Horsepower  \\\n10     Citroen DS-21 Pallas   0.0          4         133.0       115.0   \n20   Toyota Corolla Mark ii  24.0          4         113.0        95.0   \n21          Plymouth Duster  22.0          6         198.0        95.0   \n22               AMC Hornet  18.0          6         199.0        97.0   \n23            Ford Maverick  21.0          6         200.0        85.0   \n..                      ...   ...        ...           ...         ...   \n401         Ford Mustang GL  27.0          4         140.0        86.0   \n402       Volkswagen Pickup  44.0          4          97.0        52.0   \n403           Dodge Rampage  32.0          4         135.0        84.0   \n404             Ford Ranger  28.0          4         120.0        79.0   \n405              Chevy S-10  31.0          4         119.0        82.0   \n\n     Weight  Acceleration  Model  Origin  Index  \\\n10   3090.0          17.5     70  Europe     10   \n20   2372.0          15.0     70   Japan     20   \n21   2833.0          15.5     70      US     21   \n22   2774.0          15.5     70      US     22   \n23   2587.0          16.0     70      US     23   \n..      ...           ...    ...     ...    ...   \n401  2790.0          15.6     82      US    401   \n402  2130.0          24.6     82  Europe    402   \n403  2295.0          11.6     82      US    403   \n404  2625.0          18.6     82      US    404   \n405  2720.0          19.4     82      US    405   \n\n                                               CarText        Make  \n10   Citroen DS-21 Pallaswith a 0      8\\n1      8\\...     Citroen  \n20   Toyota Corolla Mark iiwith a 0      8\\n1      ...      Toyota  \n21   Plymouth Dusterwith a 0      8\\n1      8\\n2   ...    Plymouth  \n22   AMC Hornetwith a 0      8\\n1      8\\n2      8\\...         AMC  \n23   Ford Maverickwith a 0      8\\n1      8\\n2     ...        Ford  \n..                                                 ...         ...  \n401  Ford Mustang GLwith a 0      8\\n1      8\\n2   ...        Ford  \n402  Volkswagen Pickupwith a 0      8\\n1      8\\n2 ...  Volkswagen  \n403  Dodge Rampagewith a 0      8\\n1      8\\n2     ...       Dodge  \n404  Ford Rangerwith a 0      8\\n1      8\\n2      8...        Ford  \n405  Chevy S-10with a 0      8\\n1      8\\n2      8\\...       Chevy  \n\n[298 rows x 12 columns]",
      "text/html": "<div>\n<style scoped>\n    .dataframe tbody tr th:only-of-type {\n        vertical-align: middle;\n    }\n\n    .dataframe tbody tr th {\n        vertical-align: top;\n    }\n\n    .dataframe thead th {\n        text-align: right;\n    }\n</style>\n<table border=\"1\" class=\"dataframe\">\n  <thead>\n    <tr style=\"text-align: right;\">\n      <th></th>\n      <th>Car</th>\n      <th>MPG</th>\n      <th>Cylinders</th>\n      <th>Displacement</th>\n      <th>Horsepower</th>\n      <th>Weight</th>\n      <th>Acceleration</th>\n      <th>Model</th>\n      <th>Origin</th>\n      <th>Index</th>\n      <th>CarText</th>\n      <th>Make</th>\n    </tr>\n  </thead>\n  <tbody>\n    <tr>\n      <th>10</th>\n      <td>Citroen DS-21 Pallas</td>\n      <td>0.0</td>\n      <td>4</td>\n      <td>133.0</td>\n      <td>115.0</td>\n      <td>3090.0</td>\n      <td>17.5</td>\n      <td>70</td>\n      <td>Europe</td>\n      <td>10</td>\n      <td>Citroen DS-21 Pallaswith a 0      8\\n1      8\\...</td>\n      <td>Citroen</td>\n    </tr>\n    <tr>\n      <th>20</th>\n      <td>Toyota Corolla Mark ii</td>\n      <td>24.0</td>\n      <td>4</td>\n      <td>113.0</td>\n      <td>95.0</td>\n      <td>2372.0</td>\n      <td>15.0</td>\n      <td>70</td>\n      <td>Japan</td>\n      <td>20</td>\n      <td>Toyota Corolla Mark iiwith a 0      8\\n1      ...</td>\n      <td>Toyota</td>\n    </tr>\n    <tr>\n      <th>21</th>\n      <td>Plymouth Duster</td>\n      <td>22.0</td>\n      <td>6</td>\n      <td>198.0</td>\n      <td>95.0</td>\n      <td>2833.0</td>\n      <td>15.5</td>\n      <td>70</td>\n      <td>US</td>\n      <td>21</td>\n      <td>Plymouth Dusterwith a 0      8\\n1      8\\n2   ...</td>\n      <td>Plymouth</td>\n    </tr>\n    <tr>\n      <th>22</th>\n      <td>AMC Hornet</td>\n      <td>18.0</td>\n      <td>6</td>\n      <td>199.0</td>\n      <td>97.0</td>\n      <td>2774.0</td>\n      <td>15.5</td>\n      <td>70</td>\n      <td>US</td>\n      <td>22</td>\n      <td>AMC Hornetwith a 0      8\\n1      8\\n2      8\\...</td>\n      <td>AMC</td>\n    </tr>\n    <tr>\n      <th>23</th>\n      <td>Ford Maverick</td>\n      <td>21.0</td>\n      <td>6</td>\n      <td>200.0</td>\n      <td>85.0</td>\n      <td>2587.0</td>\n      <td>16.0</td>\n      <td>70</td>\n      <td>US</td>\n      <td>23</td>\n      <td>Ford Maverickwith a 0      8\\n1      8\\n2     ...</td>\n      <td>Ford</td>\n    </tr>\n    <tr>\n      <th>...</th>\n      <td>...</td>\n      <td>...</td>\n      <td>...</td>\n      <td>...</td>\n      <td>...</td>\n      <td>...</td>\n      <td>...</td>\n      <td>...</td>\n      <td>...</td>\n      <td>...</td>\n      <td>...</td>\n      <td>...</td>\n    </tr>\n    <tr>\n      <th>401</th>\n      <td>Ford Mustang GL</td>\n      <td>27.0</td>\n      <td>4</td>\n      <td>140.0</td>\n      <td>86.0</td>\n      <td>2790.0</td>\n      <td>15.6</td>\n      <td>82</td>\n      <td>US</td>\n      <td>401</td>\n      <td>Ford Mustang GLwith a 0      8\\n1      8\\n2   ...</td>\n      <td>Ford</td>\n    </tr>\n    <tr>\n      <th>402</th>\n      <td>Volkswagen Pickup</td>\n      <td>44.0</td>\n      <td>4</td>\n      <td>97.0</td>\n      <td>52.0</td>\n      <td>2130.0</td>\n      <td>24.6</td>\n      <td>82</td>\n      <td>Europe</td>\n      <td>402</td>\n      <td>Volkswagen Pickupwith a 0      8\\n1      8\\n2 ...</td>\n      <td>Volkswagen</td>\n    </tr>\n    <tr>\n      <th>403</th>\n      <td>Dodge Rampage</td>\n      <td>32.0</td>\n      <td>4</td>\n      <td>135.0</td>\n      <td>84.0</td>\n      <td>2295.0</td>\n      <td>11.6</td>\n      <td>82</td>\n      <td>US</td>\n      <td>403</td>\n      <td>Dodge Rampagewith a 0      8\\n1      8\\n2     ...</td>\n      <td>Dodge</td>\n    </tr>\n    <tr>\n      <th>404</th>\n      <td>Ford Ranger</td>\n      <td>28.0</td>\n      <td>4</td>\n      <td>120.0</td>\n      <td>79.0</td>\n      <td>2625.0</td>\n      <td>18.6</td>\n      <td>82</td>\n      <td>US</td>\n      <td>404</td>\n      <td>Ford Rangerwith a 0      8\\n1      8\\n2      8...</td>\n      <td>Ford</td>\n    </tr>\n    <tr>\n      <th>405</th>\n      <td>Chevy S-10</td>\n      <td>31.0</td>\n      <td>4</td>\n      <td>119.0</td>\n      <td>82.0</td>\n      <td>2720.0</td>\n      <td>19.4</td>\n      <td>82</td>\n      <td>US</td>\n      <td>405</td>\n      <td>Chevy S-10with a 0      8\\n1      8\\n2      8\\...</td>\n      <td>Chevy</td>\n    </tr>\n  </tbody>\n</table>\n<p>298 rows × 12 columns</p>\n</div>"
     },
     "execution_count": 15,
     "metadata": {},
     "output_type": "execute_result"
    }
   ],
   "source": [
    "df_cars.drop(index=df_cars[df_cars[\"Cylinders\"] == 8].index)"
   ],
   "metadata": {
    "collapsed": false,
    "pycharm": {
     "name": "#%%\n"
    }
   }
  }
 ],
 "metadata": {
  "kernelspec": {
   "display_name": "Python 3",
   "language": "python",
   "name": "python3"
  },
  "language_info": {
   "codemirror_mode": {
    "name": "ipython",
    "version": 2
   },
   "file_extension": ".py",
   "mimetype": "text/x-python",
   "name": "python",
   "nbconvert_exporter": "python",
   "pygments_lexer": "ipython2",
   "version": "2.7.6"
  }
 },
 "nbformat": 4,
 "nbformat_minor": 0
}