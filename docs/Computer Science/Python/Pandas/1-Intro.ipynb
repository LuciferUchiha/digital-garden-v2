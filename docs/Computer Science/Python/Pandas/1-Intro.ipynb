{
 "cells": [
  {
   "cell_type": "markdown",
   "source": [
    "# Pandas Intro\n",
    "\n",
    "Pandas stands for python annotated n-dimensional arrays, which describes its functionality pretty well. Pandas is a library for reading, changing, creating and analysing data. Thanks to Pandas being built on numpy it also has very high performance."
   ],
   "metadata": {
    "collapsed": false,
    "pycharm": {
     "name": "#%% md\n"
    }
   }
  },
  {
   "cell_type": "code",
   "execution_count": 36,
   "outputs": [],
   "source": [
    "import numpy as np\n",
    "import pandas as pd"
   ],
   "metadata": {
    "collapsed": false,
    "pycharm": {
     "name": "#%%\n"
    }
   }
  },
  {
   "cell_type": "markdown",
   "source": [
    "Pandas consists of mainly 2 data structures, Series and Dataframes.\n",
    "\n",
    "## Series\n",
    "A Series is a 1D labeled array capable of holding any data type (integers, strings, floating point numbers, Python objects, etc.) however it can only contain one data type at a time. A Series also has an index, a list of axis labels or identifiers, which you can see on the left.\n",
    "\n",
    "In simple words you can imagine a Series as a column.\n",
    "### From List"
   ],
   "metadata": {
    "collapsed": false
   }
  },
  {
   "cell_type": "code",
   "execution_count": 37,
   "outputs": [
    {
     "data": {
      "text/plain": "0    1\n1    2\n2    3\n3    4\n4    5\n5    6\ndtype: int64"
     },
     "execution_count": 37,
     "metadata": {},
     "output_type": "execute_result"
    }
   ],
   "source": [
    "series_list = pd.Series([1, 2, 3, 4, 5, 6])\n",
    "series_list"
   ],
   "metadata": {
    "collapsed": false,
    "pycharm": {
     "name": "#%%\n"
    }
   }
  },
  {
   "cell_type": "code",
   "execution_count": 38,
   "outputs": [
    {
     "data": {
      "text/plain": "pandas.core.series.Series"
     },
     "execution_count": 38,
     "metadata": {},
     "output_type": "execute_result"
    }
   ],
   "source": [
    "type(series_list)"
   ],
   "metadata": {
    "collapsed": false,
    "pycharm": {
     "name": "#%%\n"
    }
   }
  },
  {
   "cell_type": "markdown",
   "source": [
    "Like a numpy array, a pandas Series has a dtype. This is often a numpy dtype but pandas has also added a few of its own."
   ],
   "metadata": {
    "collapsed": false
   }
  },
  {
   "cell_type": "code",
   "execution_count": 39,
   "outputs": [
    {
     "data": {
      "text/plain": "dtype('int64')"
     },
     "execution_count": 39,
     "metadata": {},
     "output_type": "execute_result"
    }
   ],
   "source": [
    "series_list.dtype"
   ],
   "metadata": {
    "collapsed": false,
    "pycharm": {
     "name": "#%%\n"
    }
   }
  },
  {
   "cell_type": "markdown",
   "source": [
    "Also just like a numpy array, you can look at the shape i.e the dimensions of a Series/DataFrame."
   ],
   "metadata": {
    "collapsed": false
   }
  },
  {
   "cell_type": "code",
   "execution_count": 40,
   "outputs": [
    {
     "data": {
      "text/plain": "(3,)"
     },
     "execution_count": 40,
     "metadata": {},
     "output_type": "execute_result"
    }
   ],
   "source": [
    "series_string = pd.Series([\"Bob\", \"John\", \"Joe\"])\n",
    "series_string.shape"
   ],
   "metadata": {
    "collapsed": false,
    "pycharm": {
     "name": "#%%\n"
    }
   }
  },
  {
   "cell_type": "markdown",
   "source": [],
   "metadata": {
    "collapsed": false
   }
  },
  {
   "cell_type": "code",
   "execution_count": 41,
   "outputs": [
    {
     "data": {
      "text/plain": "0    10\n1    20\n2    30\n3    40\n4    50\n5    60\ndtype: int32"
     },
     "execution_count": 41,
     "metadata": {},
     "output_type": "execute_result"
    }
   ],
   "source": [
    "series_np = pd.Series(np.array([10, 20, 30, 40, 50, 60]))\n",
    "series_np"
   ],
   "metadata": {
    "collapsed": false,
    "pycharm": {
     "name": "#%%\n"
    }
   }
  },
  {
   "cell_type": "markdown",
   "source": [
    "### From Dictionary"
   ],
   "metadata": {
    "collapsed": false
   }
  },
  {
   "cell_type": "code",
   "execution_count": 42,
   "outputs": [
    {
     "data": {
      "text/plain": "a    0.0\nb    1.0\nc    2.0\ndtype: float64"
     },
     "execution_count": 42,
     "metadata": {},
     "output_type": "execute_result"
    }
   ],
   "source": [
    "series_dict = pd.Series({\"a\": 0.0, \"b\": 1.0, \"c\": 2.0})\n",
    "series_dict"
   ],
   "metadata": {
    "collapsed": false,
    "pycharm": {
     "name": "#%%\n"
    }
   }
  },
  {
   "cell_type": "markdown",
   "source": [
    "### Custom indexes\n",
    "Pandas generates by default an index for us which is a sequence of integers but this can be changed."
   ],
   "metadata": {
    "collapsed": false
   }
  },
  {
   "cell_type": "code",
   "execution_count": 43,
   "outputs": [
    {
     "data": {
      "text/plain": "0     1\n1     2\n2     4\n3     8\n4    16\ndtype: int32"
     },
     "execution_count": 43,
     "metadata": {},
     "output_type": "execute_result"
    }
   ],
   "source": [
    "indexes = np.arange(0, 5, 1)\n",
    "series_index = pd.Series(\n",
    "    [2 ** x for x in indexes],\n",
    "    index=indexes\n",
    ")\n",
    "series_index"
   ],
   "metadata": {
    "collapsed": false,
    "pycharm": {
     "name": "#%%\n"
    }
   }
  },
  {
   "cell_type": "code",
   "execution_count": 44,
   "outputs": [
    {
     "data": {
      "text/plain": "a    1\nb    2\nc    3\nd    4\ne    5\ndtype: int32"
     },
     "execution_count": 44,
     "metadata": {},
     "output_type": "execute_result"
    }
   ],
   "source": [
    "series_string_index = pd.Series(np.arange(1, 6, 1), index=[\"a\", \"b\", \"c\", \"d\", \"e\"])\n",
    "series_string_index"
   ],
   "metadata": {
    "collapsed": false,
    "pycharm": {
     "name": "#%%\n"
    }
   }
  },
  {
   "cell_type": "markdown",
   "source": [
    "### Iterating over Series\n",
    "Just like most other data structures in python, it is possible to iterate over them using simple for loops"
   ],
   "metadata": {
    "collapsed": false
   }
  },
  {
   "cell_type": "code",
   "execution_count": 45,
   "outputs": [
    {
     "name": "stdout",
     "output_type": "stream",
     "text": [
      "1\n",
      "2\n",
      "3\n",
      "4\n",
      "5\n"
     ]
    }
   ],
   "source": [
    "for value in series_string_index:\n",
    "    print(value)"
   ],
   "metadata": {
    "collapsed": false,
    "pycharm": {
     "name": "#%%\n"
    }
   }
  },
  {
   "cell_type": "code",
   "execution_count": 46,
   "outputs": [
    {
     "name": "stdout",
     "output_type": "stream",
     "text": [
      "a\n",
      "b\n",
      "c\n",
      "d\n",
      "e\n"
     ]
    }
   ],
   "source": [
    "for key in series_string_index.keys():  # key being the row index\n",
    "    print(key)"
   ],
   "metadata": {
    "collapsed": false,
    "pycharm": {
     "name": "#%%\n"
    }
   }
  },
  {
   "cell_type": "code",
   "execution_count": 47,
   "outputs": [
    {
     "name": "stdout",
     "output_type": "stream",
     "text": [
      "a\n",
      "b\n",
      "c\n",
      "d\n",
      "e\n"
     ]
    }
   ],
   "source": [
    "for index in series_string_index.index:\n",
    "    print(index)"
   ],
   "metadata": {
    "collapsed": false,
    "pycharm": {
     "name": "#%%\n"
    }
   }
  },
  {
   "cell_type": "markdown",
   "source": [
    "## DataFrame\n",
    "A DataFrame is a 2D labeled data structure with columns of potentially different types. You can think of it like a spreadsheet or SQL table, or a dict of Series/List objects.\n",
    "\n",
    "If we consider column names as keys and lists of items under that column as values, we can easily use a python dict to represent a DataFrame. Just like with the Series if we haven’t provided a row index it automatically generates a sequence of integers.\n",
    "\n",
    "### From dict of lists/numpy arrays"
   ],
   "metadata": {
    "collapsed": false
   }
  },
  {
   "cell_type": "code",
   "execution_count": 48,
   "outputs": [
    {
     "data": {
      "text/plain": "  name  age designation\n0    a   20          VP\n1    b   27         CEO\n2    c   35         CFO\n3    d   55          VP\n4    e   18          VP\n5    f   21         CEO\n6    g   35          MD",
      "text/html": "<div>\n<style scoped>\n    .dataframe tbody tr th:only-of-type {\n        vertical-align: middle;\n    }\n\n    .dataframe tbody tr th {\n        vertical-align: top;\n    }\n\n    .dataframe thead th {\n        text-align: right;\n    }\n</style>\n<table border=\"1\" class=\"dataframe\">\n  <thead>\n    <tr style=\"text-align: right;\">\n      <th></th>\n      <th>name</th>\n      <th>age</th>\n      <th>designation</th>\n    </tr>\n  </thead>\n  <tbody>\n    <tr>\n      <th>0</th>\n      <td>a</td>\n      <td>20</td>\n      <td>VP</td>\n    </tr>\n    <tr>\n      <th>1</th>\n      <td>b</td>\n      <td>27</td>\n      <td>CEO</td>\n    </tr>\n    <tr>\n      <th>2</th>\n      <td>c</td>\n      <td>35</td>\n      <td>CFO</td>\n    </tr>\n    <tr>\n      <th>3</th>\n      <td>d</td>\n      <td>55</td>\n      <td>VP</td>\n    </tr>\n    <tr>\n      <th>4</th>\n      <td>e</td>\n      <td>18</td>\n      <td>VP</td>\n    </tr>\n    <tr>\n      <th>5</th>\n      <td>f</td>\n      <td>21</td>\n      <td>CEO</td>\n    </tr>\n    <tr>\n      <th>6</th>\n      <td>g</td>\n      <td>35</td>\n      <td>MD</td>\n    </tr>\n  </tbody>\n</table>\n</div>"
     },
     "execution_count": 48,
     "metadata": {},
     "output_type": "execute_result"
    }
   ],
   "source": [
    "my_dict = {\n",
    "    \"name\": [\"a\", \"b\", \"c\", \"d\", \"e\", \"f\", \"g\"],\n",
    "    \"age\": [20, 27, 35, 55, 18, 21, 35],\n",
    "    \"designation\": [\"VP\", \"CEO\", \"CFO\", \"VP\", \"VP\", \"CEO\", \"MD\"]\n",
    "}\n",
    "\n",
    "df_dict = pd.DataFrame(my_dict)\n",
    "df_dict"
   ],
   "metadata": {
    "collapsed": false,
    "pycharm": {
     "name": "#%%\n"
    }
   }
  },
  {
   "cell_type": "code",
   "execution_count": 49,
   "outputs": [
    {
     "data": {
      "text/plain": "        name  age designation\nFirst      a   20          VP\nSecond     b   27         CEO\nThird      c   35         CFO\nFourth     d   55          VP\nFifth      e   18          VP\nSixth      f   21         CEO\nSeventh    g   35          MD",
      "text/html": "<div>\n<style scoped>\n    .dataframe tbody tr th:only-of-type {\n        vertical-align: middle;\n    }\n\n    .dataframe tbody tr th {\n        vertical-align: top;\n    }\n\n    .dataframe thead th {\n        text-align: right;\n    }\n</style>\n<table border=\"1\" class=\"dataframe\">\n  <thead>\n    <tr style=\"text-align: right;\">\n      <th></th>\n      <th>name</th>\n      <th>age</th>\n      <th>designation</th>\n    </tr>\n  </thead>\n  <tbody>\n    <tr>\n      <th>First</th>\n      <td>a</td>\n      <td>20</td>\n      <td>VP</td>\n    </tr>\n    <tr>\n      <th>Second</th>\n      <td>b</td>\n      <td>27</td>\n      <td>CEO</td>\n    </tr>\n    <tr>\n      <th>Third</th>\n      <td>c</td>\n      <td>35</td>\n      <td>CFO</td>\n    </tr>\n    <tr>\n      <th>Fourth</th>\n      <td>d</td>\n      <td>55</td>\n      <td>VP</td>\n    </tr>\n    <tr>\n      <th>Fifth</th>\n      <td>e</td>\n      <td>18</td>\n      <td>VP</td>\n    </tr>\n    <tr>\n      <th>Sixth</th>\n      <td>f</td>\n      <td>21</td>\n      <td>CEO</td>\n    </tr>\n    <tr>\n      <th>Seventh</th>\n      <td>g</td>\n      <td>35</td>\n      <td>MD</td>\n    </tr>\n  </tbody>\n</table>\n</div>"
     },
     "execution_count": 49,
     "metadata": {},
     "output_type": "execute_result"
    }
   ],
   "source": [
    "df_index = pd.DataFrame(\n",
    "    my_dict,\n",
    "    index=[\"First\", \"Second\", \"Third\", \"Fourth\", \"Fifth\", \"Sixth\", \"Seventh\"]\n",
    ")\n",
    "df_index"
   ],
   "metadata": {
    "collapsed": false,
    "pycharm": {
     "name": "#%%\n"
    }
   }
  },
  {
   "cell_type": "markdown",
   "source": [
    "### From CSV"
   ],
   "metadata": {
    "collapsed": false
   }
  },
  {
   "cell_type": "code",
   "execution_count": 50,
   "outputs": [
    {
     "data": {
      "text/plain": "                           Car   MPG  Cylinders  Displacement  Horsepower  \\\n0    Chevrolet Chevelle Malibu  18.0          8         307.0       130.0   \n1            Buick Skylark 320  15.0          8         350.0       165.0   \n2           Plymouth Satellite  18.0          8         318.0       150.0   \n3                AMC Rebel SST  16.0          8         304.0       150.0   \n4                  Ford Torino  17.0          8         302.0       140.0   \n..                         ...   ...        ...           ...         ...   \n401            Ford Mustang GL  27.0          4         140.0        86.0   \n402          Volkswagen Pickup  44.0          4          97.0        52.0   \n403              Dodge Rampage  32.0          4         135.0        84.0   \n404                Ford Ranger  28.0          4         120.0        79.0   \n405                 Chevy S-10  31.0          4         119.0        82.0   \n\n     Weight  Acceleration  Model  Origin  \n0    3504.0          12.0     70      US  \n1    3693.0          11.5     70      US  \n2    3436.0          11.0     70      US  \n3    3433.0          12.0     70      US  \n4    3449.0          10.5     70      US  \n..      ...           ...    ...     ...  \n401  2790.0          15.6     82      US  \n402  2130.0          24.6     82  Europe  \n403  2295.0          11.6     82      US  \n404  2625.0          18.6     82      US  \n405  2720.0          19.4     82      US  \n\n[406 rows x 9 columns]",
      "text/html": "<div>\n<style scoped>\n    .dataframe tbody tr th:only-of-type {\n        vertical-align: middle;\n    }\n\n    .dataframe tbody tr th {\n        vertical-align: top;\n    }\n\n    .dataframe thead th {\n        text-align: right;\n    }\n</style>\n<table border=\"1\" class=\"dataframe\">\n  <thead>\n    <tr style=\"text-align: right;\">\n      <th></th>\n      <th>Car</th>\n      <th>MPG</th>\n      <th>Cylinders</th>\n      <th>Displacement</th>\n      <th>Horsepower</th>\n      <th>Weight</th>\n      <th>Acceleration</th>\n      <th>Model</th>\n      <th>Origin</th>\n    </tr>\n  </thead>\n  <tbody>\n    <tr>\n      <th>0</th>\n      <td>Chevrolet Chevelle Malibu</td>\n      <td>18.0</td>\n      <td>8</td>\n      <td>307.0</td>\n      <td>130.0</td>\n      <td>3504.0</td>\n      <td>12.0</td>\n      <td>70</td>\n      <td>US</td>\n    </tr>\n    <tr>\n      <th>1</th>\n      <td>Buick Skylark 320</td>\n      <td>15.0</td>\n      <td>8</td>\n      <td>350.0</td>\n      <td>165.0</td>\n      <td>3693.0</td>\n      <td>11.5</td>\n      <td>70</td>\n      <td>US</td>\n    </tr>\n    <tr>\n      <th>2</th>\n      <td>Plymouth Satellite</td>\n      <td>18.0</td>\n      <td>8</td>\n      <td>318.0</td>\n      <td>150.0</td>\n      <td>3436.0</td>\n      <td>11.0</td>\n      <td>70</td>\n      <td>US</td>\n    </tr>\n    <tr>\n      <th>3</th>\n      <td>AMC Rebel SST</td>\n      <td>16.0</td>\n      <td>8</td>\n      <td>304.0</td>\n      <td>150.0</td>\n      <td>3433.0</td>\n      <td>12.0</td>\n      <td>70</td>\n      <td>US</td>\n    </tr>\n    <tr>\n      <th>4</th>\n      <td>Ford Torino</td>\n      <td>17.0</td>\n      <td>8</td>\n      <td>302.0</td>\n      <td>140.0</td>\n      <td>3449.0</td>\n      <td>10.5</td>\n      <td>70</td>\n      <td>US</td>\n    </tr>\n    <tr>\n      <th>...</th>\n      <td>...</td>\n      <td>...</td>\n      <td>...</td>\n      <td>...</td>\n      <td>...</td>\n      <td>...</td>\n      <td>...</td>\n      <td>...</td>\n      <td>...</td>\n    </tr>\n    <tr>\n      <th>401</th>\n      <td>Ford Mustang GL</td>\n      <td>27.0</td>\n      <td>4</td>\n      <td>140.0</td>\n      <td>86.0</td>\n      <td>2790.0</td>\n      <td>15.6</td>\n      <td>82</td>\n      <td>US</td>\n    </tr>\n    <tr>\n      <th>402</th>\n      <td>Volkswagen Pickup</td>\n      <td>44.0</td>\n      <td>4</td>\n      <td>97.0</td>\n      <td>52.0</td>\n      <td>2130.0</td>\n      <td>24.6</td>\n      <td>82</td>\n      <td>Europe</td>\n    </tr>\n    <tr>\n      <th>403</th>\n      <td>Dodge Rampage</td>\n      <td>32.0</td>\n      <td>4</td>\n      <td>135.0</td>\n      <td>84.0</td>\n      <td>2295.0</td>\n      <td>11.6</td>\n      <td>82</td>\n      <td>US</td>\n    </tr>\n    <tr>\n      <th>404</th>\n      <td>Ford Ranger</td>\n      <td>28.0</td>\n      <td>4</td>\n      <td>120.0</td>\n      <td>79.0</td>\n      <td>2625.0</td>\n      <td>18.6</td>\n      <td>82</td>\n      <td>US</td>\n    </tr>\n    <tr>\n      <th>405</th>\n      <td>Chevy S-10</td>\n      <td>31.0</td>\n      <td>4</td>\n      <td>119.0</td>\n      <td>82.0</td>\n      <td>2720.0</td>\n      <td>19.4</td>\n      <td>82</td>\n      <td>US</td>\n    </tr>\n  </tbody>\n</table>\n<p>406 rows × 9 columns</p>\n</div>"
     },
     "execution_count": 50,
     "metadata": {},
     "output_type": "execute_result"
    }
   ],
   "source": [
    "df_cars = pd.read_csv(\"data/cars.csv\", sep=\";\", skiprows=[1])\n",
    "df_cars"
   ],
   "metadata": {
    "collapsed": false,
    "pycharm": {
     "name": "#%%\n"
    }
   }
  },
  {
   "cell_type": "markdown",
   "source": [
    "### Meta Information\n",
    "We can also look at some basic information of our DataFrame."
   ],
   "metadata": {
    "collapsed": false
   }
  },
  {
   "cell_type": "code",
   "execution_count": 51,
   "outputs": [
    {
     "data": {
      "text/plain": "(406, 9)"
     },
     "execution_count": 51,
     "metadata": {},
     "output_type": "execute_result"
    }
   ],
   "source": [
    "df_cars.shape"
   ],
   "metadata": {
    "collapsed": false,
    "pycharm": {
     "name": "#%%\n"
    }
   }
  },
  {
   "cell_type": "code",
   "execution_count": 52,
   "outputs": [
    {
     "name": "stdout",
     "output_type": "stream",
     "text": [
      "<class 'pandas.core.frame.DataFrame'>\n",
      "RangeIndex: 406 entries, 0 to 405\n",
      "Data columns (total 9 columns):\n",
      " #   Column        Non-Null Count  Dtype  \n",
      "---  ------        --------------  -----  \n",
      " 0   Car           406 non-null    object \n",
      " 1   MPG           406 non-null    float64\n",
      " 2   Cylinders     406 non-null    int64  \n",
      " 3   Displacement  406 non-null    float64\n",
      " 4   Horsepower    406 non-null    float64\n",
      " 5   Weight        406 non-null    float64\n",
      " 6   Acceleration  406 non-null    float64\n",
      " 7   Model         406 non-null    int64  \n",
      " 8   Origin        406 non-null    object \n",
      "dtypes: float64(5), int64(2), object(2)\n",
      "memory usage: 28.7+ KB\n"
     ]
    }
   ],
   "source": [
    "df_cars.info()"
   ],
   "metadata": {
    "collapsed": false,
    "pycharm": {
     "name": "#%%\n"
    }
   }
  },
  {
   "cell_type": "markdown",
   "source": [
    "If the dtype is object then it is in most cases a string.\n",
    "We can also look at the first or last data entries"
   ],
   "metadata": {
    "collapsed": false
   }
  },
  {
   "cell_type": "code",
   "execution_count": 53,
   "outputs": [
    {
     "data": {
      "text/plain": "                         Car   MPG  Cylinders  Displacement  Horsepower  \\\n0  Chevrolet Chevelle Malibu  18.0          8         307.0       130.0   \n1          Buick Skylark 320  15.0          8         350.0       165.0   \n2         Plymouth Satellite  18.0          8         318.0       150.0   \n3              AMC Rebel SST  16.0          8         304.0       150.0   \n4                Ford Torino  17.0          8         302.0       140.0   \n\n   Weight  Acceleration  Model Origin  \n0  3504.0          12.0     70     US  \n1  3693.0          11.5     70     US  \n2  3436.0          11.0     70     US  \n3  3433.0          12.0     70     US  \n4  3449.0          10.5     70     US  ",
      "text/html": "<div>\n<style scoped>\n    .dataframe tbody tr th:only-of-type {\n        vertical-align: middle;\n    }\n\n    .dataframe tbody tr th {\n        vertical-align: top;\n    }\n\n    .dataframe thead th {\n        text-align: right;\n    }\n</style>\n<table border=\"1\" class=\"dataframe\">\n  <thead>\n    <tr style=\"text-align: right;\">\n      <th></th>\n      <th>Car</th>\n      <th>MPG</th>\n      <th>Cylinders</th>\n      <th>Displacement</th>\n      <th>Horsepower</th>\n      <th>Weight</th>\n      <th>Acceleration</th>\n      <th>Model</th>\n      <th>Origin</th>\n    </tr>\n  </thead>\n  <tbody>\n    <tr>\n      <th>0</th>\n      <td>Chevrolet Chevelle Malibu</td>\n      <td>18.0</td>\n      <td>8</td>\n      <td>307.0</td>\n      <td>130.0</td>\n      <td>3504.0</td>\n      <td>12.0</td>\n      <td>70</td>\n      <td>US</td>\n    </tr>\n    <tr>\n      <th>1</th>\n      <td>Buick Skylark 320</td>\n      <td>15.0</td>\n      <td>8</td>\n      <td>350.0</td>\n      <td>165.0</td>\n      <td>3693.0</td>\n      <td>11.5</td>\n      <td>70</td>\n      <td>US</td>\n    </tr>\n    <tr>\n      <th>2</th>\n      <td>Plymouth Satellite</td>\n      <td>18.0</td>\n      <td>8</td>\n      <td>318.0</td>\n      <td>150.0</td>\n      <td>3436.0</td>\n      <td>11.0</td>\n      <td>70</td>\n      <td>US</td>\n    </tr>\n    <tr>\n      <th>3</th>\n      <td>AMC Rebel SST</td>\n      <td>16.0</td>\n      <td>8</td>\n      <td>304.0</td>\n      <td>150.0</td>\n      <td>3433.0</td>\n      <td>12.0</td>\n      <td>70</td>\n      <td>US</td>\n    </tr>\n    <tr>\n      <th>4</th>\n      <td>Ford Torino</td>\n      <td>17.0</td>\n      <td>8</td>\n      <td>302.0</td>\n      <td>140.0</td>\n      <td>3449.0</td>\n      <td>10.5</td>\n      <td>70</td>\n      <td>US</td>\n    </tr>\n  </tbody>\n</table>\n</div>"
     },
     "execution_count": 53,
     "metadata": {},
     "output_type": "execute_result"
    }
   ],
   "source": [
    "df_cars.head()  # First 10\n",
    "df_cars.head(5)  # First 5"
   ],
   "metadata": {
    "collapsed": false,
    "pycharm": {
     "name": "#%%\n"
    }
   }
  },
  {
   "cell_type": "code",
   "execution_count": 54,
   "outputs": [
    {
     "data": {
      "text/plain": "                   Car   MPG  Cylinders  Displacement  Horsepower  Weight  \\\n401    Ford Mustang GL  27.0          4         140.0        86.0  2790.0   \n402  Volkswagen Pickup  44.0          4          97.0        52.0  2130.0   \n403      Dodge Rampage  32.0          4         135.0        84.0  2295.0   \n404        Ford Ranger  28.0          4         120.0        79.0  2625.0   \n405         Chevy S-10  31.0          4         119.0        82.0  2720.0   \n\n     Acceleration  Model  Origin  \n401          15.6     82      US  \n402          24.6     82  Europe  \n403          11.6     82      US  \n404          18.6     82      US  \n405          19.4     82      US  ",
      "text/html": "<div>\n<style scoped>\n    .dataframe tbody tr th:only-of-type {\n        vertical-align: middle;\n    }\n\n    .dataframe tbody tr th {\n        vertical-align: top;\n    }\n\n    .dataframe thead th {\n        text-align: right;\n    }\n</style>\n<table border=\"1\" class=\"dataframe\">\n  <thead>\n    <tr style=\"text-align: right;\">\n      <th></th>\n      <th>Car</th>\n      <th>MPG</th>\n      <th>Cylinders</th>\n      <th>Displacement</th>\n      <th>Horsepower</th>\n      <th>Weight</th>\n      <th>Acceleration</th>\n      <th>Model</th>\n      <th>Origin</th>\n    </tr>\n  </thead>\n  <tbody>\n    <tr>\n      <th>401</th>\n      <td>Ford Mustang GL</td>\n      <td>27.0</td>\n      <td>4</td>\n      <td>140.0</td>\n      <td>86.0</td>\n      <td>2790.0</td>\n      <td>15.6</td>\n      <td>82</td>\n      <td>US</td>\n    </tr>\n    <tr>\n      <th>402</th>\n      <td>Volkswagen Pickup</td>\n      <td>44.0</td>\n      <td>4</td>\n      <td>97.0</td>\n      <td>52.0</td>\n      <td>2130.0</td>\n      <td>24.6</td>\n      <td>82</td>\n      <td>Europe</td>\n    </tr>\n    <tr>\n      <th>403</th>\n      <td>Dodge Rampage</td>\n      <td>32.0</td>\n      <td>4</td>\n      <td>135.0</td>\n      <td>84.0</td>\n      <td>2295.0</td>\n      <td>11.6</td>\n      <td>82</td>\n      <td>US</td>\n    </tr>\n    <tr>\n      <th>404</th>\n      <td>Ford Ranger</td>\n      <td>28.0</td>\n      <td>4</td>\n      <td>120.0</td>\n      <td>79.0</td>\n      <td>2625.0</td>\n      <td>18.6</td>\n      <td>82</td>\n      <td>US</td>\n    </tr>\n    <tr>\n      <th>405</th>\n      <td>Chevy S-10</td>\n      <td>31.0</td>\n      <td>4</td>\n      <td>119.0</td>\n      <td>82.0</td>\n      <td>2720.0</td>\n      <td>19.4</td>\n      <td>82</td>\n      <td>US</td>\n    </tr>\n  </tbody>\n</table>\n</div>"
     },
     "execution_count": 54,
     "metadata": {},
     "output_type": "execute_result"
    }
   ],
   "source": [
    "df_cars.tail()  # Last 10\n",
    "df_cars.tail(5)  # Last 5"
   ],
   "metadata": {
    "collapsed": false,
    "pycharm": {
     "name": "#%%\n"
    }
   }
  },
  {
   "cell_type": "markdown",
   "source": [
    "### Accesing Data"
   ],
   "metadata": {
    "collapsed": false
   }
  },
  {
   "cell_type": "code",
   "execution_count": 55,
   "outputs": [
    {
     "data": {
      "text/plain": "Index(['Car', 'MPG', 'Cylinders', 'Displacement', 'Horsepower', 'Weight',\n       'Acceleration', 'Model', 'Origin'],\n      dtype='object')"
     },
     "execution_count": 55,
     "metadata": {},
     "output_type": "execute_result"
    }
   ],
   "source": [
    "df_cars.columns"
   ],
   "metadata": {
    "collapsed": false,
    "pycharm": {
     "name": "#%%\n"
    }
   }
  },
  {
   "cell_type": "code",
   "execution_count": 56,
   "outputs": [
    {
     "data": {
      "text/plain": "0      Chevrolet Chevelle Malibu\n1              Buick Skylark 320\n2             Plymouth Satellite\n3                  AMC Rebel SST\n4                    Ford Torino\n                 ...            \n401              Ford Mustang GL\n402            Volkswagen Pickup\n403                Dodge Rampage\n404                  Ford Ranger\n405                   Chevy S-10\nName: Car, Length: 406, dtype: object"
     },
     "execution_count": 56,
     "metadata": {},
     "output_type": "execute_result"
    }
   ],
   "source": [
    "df_cars[\"Car\"]"
   ],
   "metadata": {
    "collapsed": false,
    "pycharm": {
     "name": "#%%\n"
    }
   }
  },
  {
   "cell_type": "markdown",
   "source": [
    "This is also works but other is preferred as this can cause clashes with existing DataFrame attributes for example count"
   ],
   "metadata": {
    "collapsed": false
   }
  },
  {
   "cell_type": "code",
   "execution_count": 57,
   "outputs": [
    {
     "data": {
      "text/plain": "0      Chevrolet Chevelle Malibu\n1              Buick Skylark 320\n2             Plymouth Satellite\n3                  AMC Rebel SST\n4                    Ford Torino\n                 ...            \n401              Ford Mustang GL\n402            Volkswagen Pickup\n403                Dodge Rampage\n404                  Ford Ranger\n405                   Chevy S-10\nName: Car, Length: 406, dtype: object"
     },
     "execution_count": 57,
     "metadata": {},
     "output_type": "execute_result"
    }
   ],
   "source": [
    "df_cars.Car"
   ],
   "metadata": {
    "collapsed": false,
    "pycharm": {
     "name": "#%%\n"
    }
   }
  },
  {
   "cell_type": "markdown",
   "source": [
    "You can also get Multiple columns."
   ],
   "metadata": {
    "collapsed": false
   }
  },
  {
   "cell_type": "code",
   "execution_count": 58,
   "outputs": [
    {
     "data": {
      "text/plain": "                           Car   MPG  Cylinders\n0    Chevrolet Chevelle Malibu  18.0          8\n1            Buick Skylark 320  15.0          8\n2           Plymouth Satellite  18.0          8\n3                AMC Rebel SST  16.0          8\n4                  Ford Torino  17.0          8\n..                         ...   ...        ...\n401            Ford Mustang GL  27.0          4\n402          Volkswagen Pickup  44.0          4\n403              Dodge Rampage  32.0          4\n404                Ford Ranger  28.0          4\n405                 Chevy S-10  31.0          4\n\n[406 rows x 3 columns]",
      "text/html": "<div>\n<style scoped>\n    .dataframe tbody tr th:only-of-type {\n        vertical-align: middle;\n    }\n\n    .dataframe tbody tr th {\n        vertical-align: top;\n    }\n\n    .dataframe thead th {\n        text-align: right;\n    }\n</style>\n<table border=\"1\" class=\"dataframe\">\n  <thead>\n    <tr style=\"text-align: right;\">\n      <th></th>\n      <th>Car</th>\n      <th>MPG</th>\n      <th>Cylinders</th>\n    </tr>\n  </thead>\n  <tbody>\n    <tr>\n      <th>0</th>\n      <td>Chevrolet Chevelle Malibu</td>\n      <td>18.0</td>\n      <td>8</td>\n    </tr>\n    <tr>\n      <th>1</th>\n      <td>Buick Skylark 320</td>\n      <td>15.0</td>\n      <td>8</td>\n    </tr>\n    <tr>\n      <th>2</th>\n      <td>Plymouth Satellite</td>\n      <td>18.0</td>\n      <td>8</td>\n    </tr>\n    <tr>\n      <th>3</th>\n      <td>AMC Rebel SST</td>\n      <td>16.0</td>\n      <td>8</td>\n    </tr>\n    <tr>\n      <th>4</th>\n      <td>Ford Torino</td>\n      <td>17.0</td>\n      <td>8</td>\n    </tr>\n    <tr>\n      <th>...</th>\n      <td>...</td>\n      <td>...</td>\n      <td>...</td>\n    </tr>\n    <tr>\n      <th>401</th>\n      <td>Ford Mustang GL</td>\n      <td>27.0</td>\n      <td>4</td>\n    </tr>\n    <tr>\n      <th>402</th>\n      <td>Volkswagen Pickup</td>\n      <td>44.0</td>\n      <td>4</td>\n    </tr>\n    <tr>\n      <th>403</th>\n      <td>Dodge Rampage</td>\n      <td>32.0</td>\n      <td>4</td>\n    </tr>\n    <tr>\n      <th>404</th>\n      <td>Ford Ranger</td>\n      <td>28.0</td>\n      <td>4</td>\n    </tr>\n    <tr>\n      <th>405</th>\n      <td>Chevy S-10</td>\n      <td>31.0</td>\n      <td>4</td>\n    </tr>\n  </tbody>\n</table>\n<p>406 rows × 3 columns</p>\n</div>"
     },
     "execution_count": 58,
     "metadata": {},
     "output_type": "execute_result"
    }
   ],
   "source": [
    "df_cars[[\"Car\", \"MPG\", \"Cylinders\"]]"
   ],
   "metadata": {
    "collapsed": false,
    "pycharm": {
     "name": "#%%\n"
    }
   }
  },
  {
   "cell_type": "markdown",
   "source": [
    "The iloc function stands for integer location and allows us to easly access data by using there indexes."
   ],
   "metadata": {
    "collapsed": false
   }
  },
  {
   "cell_type": "code",
   "execution_count": 59,
   "outputs": [
    {
     "data": {
      "text/plain": "Car             Chevrolet Chevelle Malibu\nMPG                                  18.0\nCylinders                               8\nDisplacement                        307.0\nHorsepower                          130.0\nWeight                             3504.0\nAcceleration                         12.0\nModel                                  70\nOrigin                                 US\nName: 0, dtype: object"
     },
     "execution_count": 59,
     "metadata": {},
     "output_type": "execute_result"
    }
   ],
   "source": [
    "df_cars.iloc[0]  # row with index 0"
   ],
   "metadata": {
    "collapsed": false,
    "pycharm": {
     "name": "#%%\n"
    }
   }
  },
  {
   "cell_type": "markdown",
   "source": [
    "We can also multiple rows and specify certain columns but as we are using iloc it has to be the indexes of the columns."
   ],
   "metadata": {
    "collapsed": false
   }
  },
  {
   "cell_type": "code",
   "execution_count": 60,
   "outputs": [
    {
     "data": {
      "text/plain": "                         Car  Cylinders  Displacement\n0  Chevrolet Chevelle Malibu          8         307.0\n1          Buick Skylark 320          8         350.0",
      "text/html": "<div>\n<style scoped>\n    .dataframe tbody tr th:only-of-type {\n        vertical-align: middle;\n    }\n\n    .dataframe tbody tr th {\n        vertical-align: top;\n    }\n\n    .dataframe thead th {\n        text-align: right;\n    }\n</style>\n<table border=\"1\" class=\"dataframe\">\n  <thead>\n    <tr style=\"text-align: right;\">\n      <th></th>\n      <th>Car</th>\n      <th>Cylinders</th>\n      <th>Displacement</th>\n    </tr>\n  </thead>\n  <tbody>\n    <tr>\n      <th>0</th>\n      <td>Chevrolet Chevelle Malibu</td>\n      <td>8</td>\n      <td>307.0</td>\n    </tr>\n    <tr>\n      <th>1</th>\n      <td>Buick Skylark 320</td>\n      <td>8</td>\n      <td>350.0</td>\n    </tr>\n  </tbody>\n</table>\n</div>"
     },
     "execution_count": 60,
     "metadata": {},
     "output_type": "execute_result"
    }
   ],
   "source": [
    "df_cars.iloc[[0, 1], [0, 2, 3]]  # row 0 and 1 with 3 columns"
   ],
   "metadata": {
    "collapsed": false,
    "pycharm": {
     "name": "#%%\n"
    }
   }
  },
  {
   "cell_type": "markdown",
   "source": [
    " We can also us slicing just like with python lists."
   ],
   "metadata": {
    "collapsed": false
   }
  },
  {
   "cell_type": "code",
   "execution_count": 61,
   "outputs": [
    {
     "data": {
      "text/plain": "                         Car   MPG  Cylinders\n0  Chevrolet Chevelle Malibu  18.0          8\n1          Buick Skylark 320  15.0          8\n2         Plymouth Satellite  18.0          8\n3              AMC Rebel SST  16.0          8\n4                Ford Torino  17.0          8",
      "text/html": "<div>\n<style scoped>\n    .dataframe tbody tr th:only-of-type {\n        vertical-align: middle;\n    }\n\n    .dataframe tbody tr th {\n        vertical-align: top;\n    }\n\n    .dataframe thead th {\n        text-align: right;\n    }\n</style>\n<table border=\"1\" class=\"dataframe\">\n  <thead>\n    <tr style=\"text-align: right;\">\n      <th></th>\n      <th>Car</th>\n      <th>MPG</th>\n      <th>Cylinders</th>\n    </tr>\n  </thead>\n  <tbody>\n    <tr>\n      <th>0</th>\n      <td>Chevrolet Chevelle Malibu</td>\n      <td>18.0</td>\n      <td>8</td>\n    </tr>\n    <tr>\n      <th>1</th>\n      <td>Buick Skylark 320</td>\n      <td>15.0</td>\n      <td>8</td>\n    </tr>\n    <tr>\n      <th>2</th>\n      <td>Plymouth Satellite</td>\n      <td>18.0</td>\n      <td>8</td>\n    </tr>\n    <tr>\n      <th>3</th>\n      <td>AMC Rebel SST</td>\n      <td>16.0</td>\n      <td>8</td>\n    </tr>\n    <tr>\n      <th>4</th>\n      <td>Ford Torino</td>\n      <td>17.0</td>\n      <td>8</td>\n    </tr>\n  </tbody>\n</table>\n</div>"
     },
     "execution_count": 61,
     "metadata": {},
     "output_type": "execute_result"
    }
   ],
   "source": [
    "df_cars.iloc[0:5, 0:3]"
   ],
   "metadata": {
    "collapsed": false,
    "pycharm": {
     "name": "#%%\n"
    }
   }
  },
  {
   "cell_type": "markdown",
   "source": [
    "To access data there is also the loc function which works the same way as iloc but uses the labels not the indexes."
   ],
   "metadata": {
    "collapsed": false
   }
  },
  {
   "cell_type": "code",
   "execution_count": 62,
   "outputs": [
    {
     "data": {
      "text/plain": "                         Car  Cylinders\n0  Chevrolet Chevelle Malibu          8\n1          Buick Skylark 320          8",
      "text/html": "<div>\n<style scoped>\n    .dataframe tbody tr th:only-of-type {\n        vertical-align: middle;\n    }\n\n    .dataframe tbody tr th {\n        vertical-align: top;\n    }\n\n    .dataframe thead th {\n        text-align: right;\n    }\n</style>\n<table border=\"1\" class=\"dataframe\">\n  <thead>\n    <tr style=\"text-align: right;\">\n      <th></th>\n      <th>Car</th>\n      <th>Cylinders</th>\n    </tr>\n  </thead>\n  <tbody>\n    <tr>\n      <th>0</th>\n      <td>Chevrolet Chevelle Malibu</td>\n      <td>8</td>\n    </tr>\n    <tr>\n      <th>1</th>\n      <td>Buick Skylark 320</td>\n      <td>8</td>\n    </tr>\n  </tbody>\n</table>\n</div>"
     },
     "execution_count": 62,
     "metadata": {},
     "output_type": "execute_result"
    }
   ],
   "source": [
    "df_cars.loc[[0, 1], [\"Car\", \"Cylinders\"]]"
   ],
   "metadata": {
    "collapsed": false,
    "pycharm": {
     "name": "#%%\n"
    }
   }
  },
  {
   "cell_type": "code",
   "execution_count": 63,
   "outputs": [
    {
     "data": {
      "text/plain": "       name  age designation\nFirst     a   20          VP\nSecond    b   27         CEO",
      "text/html": "<div>\n<style scoped>\n    .dataframe tbody tr th:only-of-type {\n        vertical-align: middle;\n    }\n\n    .dataframe tbody tr th {\n        vertical-align: top;\n    }\n\n    .dataframe thead th {\n        text-align: right;\n    }\n</style>\n<table border=\"1\" class=\"dataframe\">\n  <thead>\n    <tr style=\"text-align: right;\">\n      <th></th>\n      <th>name</th>\n      <th>age</th>\n      <th>designation</th>\n    </tr>\n  </thead>\n  <tbody>\n    <tr>\n      <th>First</th>\n      <td>a</td>\n      <td>20</td>\n      <td>VP</td>\n    </tr>\n    <tr>\n      <th>Second</th>\n      <td>b</td>\n      <td>27</td>\n      <td>CEO</td>\n    </tr>\n  </tbody>\n</table>\n</div>"
     },
     "execution_count": 63,
     "metadata": {},
     "output_type": "execute_result"
    }
   ],
   "source": [
    "df_index.loc[[\"First\", \"Second\"]]"
   ],
   "metadata": {
    "collapsed": false,
    "pycharm": {
     "name": "#%%\n"
    }
   }
  },
  {
   "cell_type": "markdown",
   "source": [
    "You can also use slices with loc important here is however that the end values is inclusive!"
   ],
   "metadata": {
    "collapsed": false
   }
  },
  {
   "cell_type": "code",
   "execution_count": 64,
   "outputs": [
    {
     "data": {
      "text/plain": "                         Car   MPG  Cylinders\n0  Chevrolet Chevelle Malibu  18.0          8\n1          Buick Skylark 320  15.0          8\n2         Plymouth Satellite  18.0          8\n3              AMC Rebel SST  16.0          8\n4                Ford Torino  17.0          8\n5           Ford Galaxie 500  15.0          8",
      "text/html": "<div>\n<style scoped>\n    .dataframe tbody tr th:only-of-type {\n        vertical-align: middle;\n    }\n\n    .dataframe tbody tr th {\n        vertical-align: top;\n    }\n\n    .dataframe thead th {\n        text-align: right;\n    }\n</style>\n<table border=\"1\" class=\"dataframe\">\n  <thead>\n    <tr style=\"text-align: right;\">\n      <th></th>\n      <th>Car</th>\n      <th>MPG</th>\n      <th>Cylinders</th>\n    </tr>\n  </thead>\n  <tbody>\n    <tr>\n      <th>0</th>\n      <td>Chevrolet Chevelle Malibu</td>\n      <td>18.0</td>\n      <td>8</td>\n    </tr>\n    <tr>\n      <th>1</th>\n      <td>Buick Skylark 320</td>\n      <td>15.0</td>\n      <td>8</td>\n    </tr>\n    <tr>\n      <th>2</th>\n      <td>Plymouth Satellite</td>\n      <td>18.0</td>\n      <td>8</td>\n    </tr>\n    <tr>\n      <th>3</th>\n      <td>AMC Rebel SST</td>\n      <td>16.0</td>\n      <td>8</td>\n    </tr>\n    <tr>\n      <th>4</th>\n      <td>Ford Torino</td>\n      <td>17.0</td>\n      <td>8</td>\n    </tr>\n    <tr>\n      <th>5</th>\n      <td>Ford Galaxie 500</td>\n      <td>15.0</td>\n      <td>8</td>\n    </tr>\n  </tbody>\n</table>\n</div>"
     },
     "execution_count": 64,
     "metadata": {},
     "output_type": "execute_result"
    }
   ],
   "source": [
    "df_cars.loc[0:5, \"Car\":\"Cylinders\"]"
   ],
   "metadata": {
    "collapsed": false,
    "pycharm": {
     "name": "#%%\n"
    }
   }
  },
  {
   "cell_type": "code",
   "execution_count": 65,
   "outputs": [
    {
     "data": {
      "text/plain": "4    207\n8    108\n6     84\n3      4\n5      3\nName: Cylinders, dtype: int64"
     },
     "execution_count": 65,
     "metadata": {},
     "output_type": "execute_result"
    }
   ],
   "source": [
    "df_cars[\"Cylinders\"].value_counts()"
   ],
   "metadata": {
    "collapsed": false,
    "pycharm": {
     "name": "#%%\n"
    }
   }
  },
  {
   "cell_type": "markdown",
   "source": [
    "### Indexes\n",
    "As we have seen so far indexes are identifiers for rows. By default an index for a DataFrame or Series is just an integer sequence but as we have seen it can also be something different for example we can set a certain column as the index."
   ],
   "metadata": {
    "collapsed": false
   }
  },
  {
   "cell_type": "code",
   "execution_count": 66,
   "outputs": [
    {
     "data": {
      "text/plain": "                            MPG  Cylinders  Displacement  Horsepower  Weight  \\\nCar                                                                            \nChevrolet Chevelle Malibu  18.0          8         307.0       130.0  3504.0   \nBuick Skylark 320          15.0          8         350.0       165.0  3693.0   \nPlymouth Satellite         18.0          8         318.0       150.0  3436.0   \nAMC Rebel SST              16.0          8         304.0       150.0  3433.0   \nFord Torino                17.0          8         302.0       140.0  3449.0   \n...                         ...        ...           ...         ...     ...   \nFord Mustang GL            27.0          4         140.0        86.0  2790.0   \nVolkswagen Pickup          44.0          4          97.0        52.0  2130.0   \nDodge Rampage              32.0          4         135.0        84.0  2295.0   \nFord Ranger                28.0          4         120.0        79.0  2625.0   \nChevy S-10                 31.0          4         119.0        82.0  2720.0   \n\n                           Acceleration  Model  Origin  \nCar                                                     \nChevrolet Chevelle Malibu          12.0     70      US  \nBuick Skylark 320                  11.5     70      US  \nPlymouth Satellite                 11.0     70      US  \nAMC Rebel SST                      12.0     70      US  \nFord Torino                        10.5     70      US  \n...                                 ...    ...     ...  \nFord Mustang GL                    15.6     82      US  \nVolkswagen Pickup                  24.6     82  Europe  \nDodge Rampage                      11.6     82      US  \nFord Ranger                        18.6     82      US  \nChevy S-10                         19.4     82      US  \n\n[406 rows x 8 columns]",
      "text/html": "<div>\n<style scoped>\n    .dataframe tbody tr th:only-of-type {\n        vertical-align: middle;\n    }\n\n    .dataframe tbody tr th {\n        vertical-align: top;\n    }\n\n    .dataframe thead th {\n        text-align: right;\n    }\n</style>\n<table border=\"1\" class=\"dataframe\">\n  <thead>\n    <tr style=\"text-align: right;\">\n      <th></th>\n      <th>MPG</th>\n      <th>Cylinders</th>\n      <th>Displacement</th>\n      <th>Horsepower</th>\n      <th>Weight</th>\n      <th>Acceleration</th>\n      <th>Model</th>\n      <th>Origin</th>\n    </tr>\n    <tr>\n      <th>Car</th>\n      <th></th>\n      <th></th>\n      <th></th>\n      <th></th>\n      <th></th>\n      <th></th>\n      <th></th>\n      <th></th>\n    </tr>\n  </thead>\n  <tbody>\n    <tr>\n      <th>Chevrolet Chevelle Malibu</th>\n      <td>18.0</td>\n      <td>8</td>\n      <td>307.0</td>\n      <td>130.0</td>\n      <td>3504.0</td>\n      <td>12.0</td>\n      <td>70</td>\n      <td>US</td>\n    </tr>\n    <tr>\n      <th>Buick Skylark 320</th>\n      <td>15.0</td>\n      <td>8</td>\n      <td>350.0</td>\n      <td>165.0</td>\n      <td>3693.0</td>\n      <td>11.5</td>\n      <td>70</td>\n      <td>US</td>\n    </tr>\n    <tr>\n      <th>Plymouth Satellite</th>\n      <td>18.0</td>\n      <td>8</td>\n      <td>318.0</td>\n      <td>150.0</td>\n      <td>3436.0</td>\n      <td>11.0</td>\n      <td>70</td>\n      <td>US</td>\n    </tr>\n    <tr>\n      <th>AMC Rebel SST</th>\n      <td>16.0</td>\n      <td>8</td>\n      <td>304.0</td>\n      <td>150.0</td>\n      <td>3433.0</td>\n      <td>12.0</td>\n      <td>70</td>\n      <td>US</td>\n    </tr>\n    <tr>\n      <th>Ford Torino</th>\n      <td>17.0</td>\n      <td>8</td>\n      <td>302.0</td>\n      <td>140.0</td>\n      <td>3449.0</td>\n      <td>10.5</td>\n      <td>70</td>\n      <td>US</td>\n    </tr>\n    <tr>\n      <th>...</th>\n      <td>...</td>\n      <td>...</td>\n      <td>...</td>\n      <td>...</td>\n      <td>...</td>\n      <td>...</td>\n      <td>...</td>\n      <td>...</td>\n    </tr>\n    <tr>\n      <th>Ford Mustang GL</th>\n      <td>27.0</td>\n      <td>4</td>\n      <td>140.0</td>\n      <td>86.0</td>\n      <td>2790.0</td>\n      <td>15.6</td>\n      <td>82</td>\n      <td>US</td>\n    </tr>\n    <tr>\n      <th>Volkswagen Pickup</th>\n      <td>44.0</td>\n      <td>4</td>\n      <td>97.0</td>\n      <td>52.0</td>\n      <td>2130.0</td>\n      <td>24.6</td>\n      <td>82</td>\n      <td>Europe</td>\n    </tr>\n    <tr>\n      <th>Dodge Rampage</th>\n      <td>32.0</td>\n      <td>4</td>\n      <td>135.0</td>\n      <td>84.0</td>\n      <td>2295.0</td>\n      <td>11.6</td>\n      <td>82</td>\n      <td>US</td>\n    </tr>\n    <tr>\n      <th>Ford Ranger</th>\n      <td>28.0</td>\n      <td>4</td>\n      <td>120.0</td>\n      <td>79.0</td>\n      <td>2625.0</td>\n      <td>18.6</td>\n      <td>82</td>\n      <td>US</td>\n    </tr>\n    <tr>\n      <th>Chevy S-10</th>\n      <td>31.0</td>\n      <td>4</td>\n      <td>119.0</td>\n      <td>82.0</td>\n      <td>2720.0</td>\n      <td>19.4</td>\n      <td>82</td>\n      <td>US</td>\n    </tr>\n  </tbody>\n</table>\n<p>406 rows × 8 columns</p>\n</div>"
     },
     "execution_count": 66,
     "metadata": {},
     "output_type": "execute_result"
    }
   ],
   "source": [
    "df_cars.set_index(\"Car\")"
   ],
   "metadata": {
    "collapsed": false,
    "pycharm": {
     "name": "#%%\n"
    }
   }
  },
  {
   "cell_type": "markdown",
   "source": [
    "We can however see that this change is not permenant. This is often the case in pandas when operating on Series or DataFrames. If we wanted these changes to be permenant we could call the method with the inplace parameter as True."
   ],
   "metadata": {
    "collapsed": false
   }
  },
  {
   "cell_type": "code",
   "execution_count": 67,
   "outputs": [
    {
     "data": {
      "text/plain": "                           Car   MPG  Cylinders  Displacement  Horsepower  \\\n0    Chevrolet Chevelle Malibu  18.0          8         307.0       130.0   \n1            Buick Skylark 320  15.0          8         350.0       165.0   \n2           Plymouth Satellite  18.0          8         318.0       150.0   \n3                AMC Rebel SST  16.0          8         304.0       150.0   \n4                  Ford Torino  17.0          8         302.0       140.0   \n..                         ...   ...        ...           ...         ...   \n401            Ford Mustang GL  27.0          4         140.0        86.0   \n402          Volkswagen Pickup  44.0          4          97.0        52.0   \n403              Dodge Rampage  32.0          4         135.0        84.0   \n404                Ford Ranger  28.0          4         120.0        79.0   \n405                 Chevy S-10  31.0          4         119.0        82.0   \n\n     Weight  Acceleration  Model  Origin  \n0    3504.0          12.0     70      US  \n1    3693.0          11.5     70      US  \n2    3436.0          11.0     70      US  \n3    3433.0          12.0     70      US  \n4    3449.0          10.5     70      US  \n..      ...           ...    ...     ...  \n401  2790.0          15.6     82      US  \n402  2130.0          24.6     82  Europe  \n403  2295.0          11.6     82      US  \n404  2625.0          18.6     82      US  \n405  2720.0          19.4     82      US  \n\n[406 rows x 9 columns]",
      "text/html": "<div>\n<style scoped>\n    .dataframe tbody tr th:only-of-type {\n        vertical-align: middle;\n    }\n\n    .dataframe tbody tr th {\n        vertical-align: top;\n    }\n\n    .dataframe thead th {\n        text-align: right;\n    }\n</style>\n<table border=\"1\" class=\"dataframe\">\n  <thead>\n    <tr style=\"text-align: right;\">\n      <th></th>\n      <th>Car</th>\n      <th>MPG</th>\n      <th>Cylinders</th>\n      <th>Displacement</th>\n      <th>Horsepower</th>\n      <th>Weight</th>\n      <th>Acceleration</th>\n      <th>Model</th>\n      <th>Origin</th>\n    </tr>\n  </thead>\n  <tbody>\n    <tr>\n      <th>0</th>\n      <td>Chevrolet Chevelle Malibu</td>\n      <td>18.0</td>\n      <td>8</td>\n      <td>307.0</td>\n      <td>130.0</td>\n      <td>3504.0</td>\n      <td>12.0</td>\n      <td>70</td>\n      <td>US</td>\n    </tr>\n    <tr>\n      <th>1</th>\n      <td>Buick Skylark 320</td>\n      <td>15.0</td>\n      <td>8</td>\n      <td>350.0</td>\n      <td>165.0</td>\n      <td>3693.0</td>\n      <td>11.5</td>\n      <td>70</td>\n      <td>US</td>\n    </tr>\n    <tr>\n      <th>2</th>\n      <td>Plymouth Satellite</td>\n      <td>18.0</td>\n      <td>8</td>\n      <td>318.0</td>\n      <td>150.0</td>\n      <td>3436.0</td>\n      <td>11.0</td>\n      <td>70</td>\n      <td>US</td>\n    </tr>\n    <tr>\n      <th>3</th>\n      <td>AMC Rebel SST</td>\n      <td>16.0</td>\n      <td>8</td>\n      <td>304.0</td>\n      <td>150.0</td>\n      <td>3433.0</td>\n      <td>12.0</td>\n      <td>70</td>\n      <td>US</td>\n    </tr>\n    <tr>\n      <th>4</th>\n      <td>Ford Torino</td>\n      <td>17.0</td>\n      <td>8</td>\n      <td>302.0</td>\n      <td>140.0</td>\n      <td>3449.0</td>\n      <td>10.5</td>\n      <td>70</td>\n      <td>US</td>\n    </tr>\n    <tr>\n      <th>...</th>\n      <td>...</td>\n      <td>...</td>\n      <td>...</td>\n      <td>...</td>\n      <td>...</td>\n      <td>...</td>\n      <td>...</td>\n      <td>...</td>\n      <td>...</td>\n    </tr>\n    <tr>\n      <th>401</th>\n      <td>Ford Mustang GL</td>\n      <td>27.0</td>\n      <td>4</td>\n      <td>140.0</td>\n      <td>86.0</td>\n      <td>2790.0</td>\n      <td>15.6</td>\n      <td>82</td>\n      <td>US</td>\n    </tr>\n    <tr>\n      <th>402</th>\n      <td>Volkswagen Pickup</td>\n      <td>44.0</td>\n      <td>4</td>\n      <td>97.0</td>\n      <td>52.0</td>\n      <td>2130.0</td>\n      <td>24.6</td>\n      <td>82</td>\n      <td>Europe</td>\n    </tr>\n    <tr>\n      <th>403</th>\n      <td>Dodge Rampage</td>\n      <td>32.0</td>\n      <td>4</td>\n      <td>135.0</td>\n      <td>84.0</td>\n      <td>2295.0</td>\n      <td>11.6</td>\n      <td>82</td>\n      <td>US</td>\n    </tr>\n    <tr>\n      <th>404</th>\n      <td>Ford Ranger</td>\n      <td>28.0</td>\n      <td>4</td>\n      <td>120.0</td>\n      <td>79.0</td>\n      <td>2625.0</td>\n      <td>18.6</td>\n      <td>82</td>\n      <td>US</td>\n    </tr>\n    <tr>\n      <th>405</th>\n      <td>Chevy S-10</td>\n      <td>31.0</td>\n      <td>4</td>\n      <td>119.0</td>\n      <td>82.0</td>\n      <td>2720.0</td>\n      <td>19.4</td>\n      <td>82</td>\n      <td>US</td>\n    </tr>\n  </tbody>\n</table>\n<p>406 rows × 9 columns</p>\n</div>"
     },
     "execution_count": 67,
     "metadata": {},
     "output_type": "execute_result"
    }
   ],
   "source": [
    "df_cars"
   ],
   "metadata": {
    "collapsed": false,
    "pycharm": {
     "name": "#%%\n"
    }
   }
  },
  {
   "cell_type": "code",
   "execution_count": 68,
   "outputs": [
    {
     "data": {
      "text/plain": "                            MPG  Cylinders  Displacement  Horsepower  Weight  \\\nCar                                                                            \nChevrolet Chevelle Malibu  18.0          8         307.0       130.0  3504.0   \nBuick Skylark 320          15.0          8         350.0       165.0  3693.0   \nPlymouth Satellite         18.0          8         318.0       150.0  3436.0   \nAMC Rebel SST              16.0          8         304.0       150.0  3433.0   \nFord Torino                17.0          8         302.0       140.0  3449.0   \n...                         ...        ...           ...         ...     ...   \nFord Mustang GL            27.0          4         140.0        86.0  2790.0   \nVolkswagen Pickup          44.0          4          97.0        52.0  2130.0   \nDodge Rampage              32.0          4         135.0        84.0  2295.0   \nFord Ranger                28.0          4         120.0        79.0  2625.0   \nChevy S-10                 31.0          4         119.0        82.0  2720.0   \n\n                           Acceleration  Model  Origin  \nCar                                                     \nChevrolet Chevelle Malibu          12.0     70      US  \nBuick Skylark 320                  11.5     70      US  \nPlymouth Satellite                 11.0     70      US  \nAMC Rebel SST                      12.0     70      US  \nFord Torino                        10.5     70      US  \n...                                 ...    ...     ...  \nFord Mustang GL                    15.6     82      US  \nVolkswagen Pickup                  24.6     82  Europe  \nDodge Rampage                      11.6     82      US  \nFord Ranger                        18.6     82      US  \nChevy S-10                         19.4     82      US  \n\n[406 rows x 8 columns]",
      "text/html": "<div>\n<style scoped>\n    .dataframe tbody tr th:only-of-type {\n        vertical-align: middle;\n    }\n\n    .dataframe tbody tr th {\n        vertical-align: top;\n    }\n\n    .dataframe thead th {\n        text-align: right;\n    }\n</style>\n<table border=\"1\" class=\"dataframe\">\n  <thead>\n    <tr style=\"text-align: right;\">\n      <th></th>\n      <th>MPG</th>\n      <th>Cylinders</th>\n      <th>Displacement</th>\n      <th>Horsepower</th>\n      <th>Weight</th>\n      <th>Acceleration</th>\n      <th>Model</th>\n      <th>Origin</th>\n    </tr>\n    <tr>\n      <th>Car</th>\n      <th></th>\n      <th></th>\n      <th></th>\n      <th></th>\n      <th></th>\n      <th></th>\n      <th></th>\n      <th></th>\n    </tr>\n  </thead>\n  <tbody>\n    <tr>\n      <th>Chevrolet Chevelle Malibu</th>\n      <td>18.0</td>\n      <td>8</td>\n      <td>307.0</td>\n      <td>130.0</td>\n      <td>3504.0</td>\n      <td>12.0</td>\n      <td>70</td>\n      <td>US</td>\n    </tr>\n    <tr>\n      <th>Buick Skylark 320</th>\n      <td>15.0</td>\n      <td>8</td>\n      <td>350.0</td>\n      <td>165.0</td>\n      <td>3693.0</td>\n      <td>11.5</td>\n      <td>70</td>\n      <td>US</td>\n    </tr>\n    <tr>\n      <th>Plymouth Satellite</th>\n      <td>18.0</td>\n      <td>8</td>\n      <td>318.0</td>\n      <td>150.0</td>\n      <td>3436.0</td>\n      <td>11.0</td>\n      <td>70</td>\n      <td>US</td>\n    </tr>\n    <tr>\n      <th>AMC Rebel SST</th>\n      <td>16.0</td>\n      <td>8</td>\n      <td>304.0</td>\n      <td>150.0</td>\n      <td>3433.0</td>\n      <td>12.0</td>\n      <td>70</td>\n      <td>US</td>\n    </tr>\n    <tr>\n      <th>Ford Torino</th>\n      <td>17.0</td>\n      <td>8</td>\n      <td>302.0</td>\n      <td>140.0</td>\n      <td>3449.0</td>\n      <td>10.5</td>\n      <td>70</td>\n      <td>US</td>\n    </tr>\n    <tr>\n      <th>...</th>\n      <td>...</td>\n      <td>...</td>\n      <td>...</td>\n      <td>...</td>\n      <td>...</td>\n      <td>...</td>\n      <td>...</td>\n      <td>...</td>\n    </tr>\n    <tr>\n      <th>Ford Mustang GL</th>\n      <td>27.0</td>\n      <td>4</td>\n      <td>140.0</td>\n      <td>86.0</td>\n      <td>2790.0</td>\n      <td>15.6</td>\n      <td>82</td>\n      <td>US</td>\n    </tr>\n    <tr>\n      <th>Volkswagen Pickup</th>\n      <td>44.0</td>\n      <td>4</td>\n      <td>97.0</td>\n      <td>52.0</td>\n      <td>2130.0</td>\n      <td>24.6</td>\n      <td>82</td>\n      <td>Europe</td>\n    </tr>\n    <tr>\n      <th>Dodge Rampage</th>\n      <td>32.0</td>\n      <td>4</td>\n      <td>135.0</td>\n      <td>84.0</td>\n      <td>2295.0</td>\n      <td>11.6</td>\n      <td>82</td>\n      <td>US</td>\n    </tr>\n    <tr>\n      <th>Ford Ranger</th>\n      <td>28.0</td>\n      <td>4</td>\n      <td>120.0</td>\n      <td>79.0</td>\n      <td>2625.0</td>\n      <td>18.6</td>\n      <td>82</td>\n      <td>US</td>\n    </tr>\n    <tr>\n      <th>Chevy S-10</th>\n      <td>31.0</td>\n      <td>4</td>\n      <td>119.0</td>\n      <td>82.0</td>\n      <td>2720.0</td>\n      <td>19.4</td>\n      <td>82</td>\n      <td>US</td>\n    </tr>\n  </tbody>\n</table>\n<p>406 rows × 8 columns</p>\n</div>"
     },
     "execution_count": 68,
     "metadata": {},
     "output_type": "execute_result"
    }
   ],
   "source": [
    "df_cars.set_index(\"Car\", inplace=True)\n",
    "df_cars"
   ],
   "metadata": {
    "collapsed": false,
    "pycharm": {
     "name": "#%%\n"
    }
   }
  },
  {
   "cell_type": "markdown",
   "source": [
    "You can also sort the rows by using the index"
   ],
   "metadata": {
    "collapsed": false
   }
  },
  {
   "cell_type": "code",
   "execution_count": 69,
   "outputs": [
    {
     "data": {
      "text/plain": "                          MPG  Cylinders  Displacement  Horsepower  Weight  \\\nCar                                                                          \nAMC Ambassador Brougham  13.0          8         360.0       175.0  3821.0   \nAMC Ambassador DPL       15.0          8         390.0       190.0  3850.0   \nAMC Ambassador SST       17.0          8         304.0       150.0  3672.0   \nAMC Concord              19.4          6         232.0        90.0  3210.0   \nAMC Concord              24.3          4         151.0        90.0  3003.0   \n...                       ...        ...           ...         ...     ...   \nVolvo 145e (sw)          18.0          4         121.0       112.0  2933.0   \nVolvo 244DL              22.0          4         121.0        98.0  2945.0   \nVolvo 245                20.0          4         130.0       102.0  3150.0   \nVolvo 264gl              17.0          6         163.0       125.0  3140.0   \nVolvo Diesel             30.7          6         145.0        76.0  3160.0   \n\n                         Acceleration  Model  Origin  \nCar                                                   \nAMC Ambassador Brougham          11.0     73      US  \nAMC Ambassador DPL                8.5     70      US  \nAMC Ambassador SST               11.5     72      US  \nAMC Concord                      17.2     78      US  \nAMC Concord                      20.1     80      US  \n...                               ...    ...     ...  \nVolvo 145e (sw)                  14.5     72  Europe  \nVolvo 244DL                      14.5     75  Europe  \nVolvo 245                        15.7     76  Europe  \nVolvo 264gl                      13.6     78  Europe  \nVolvo Diesel                     19.6     81  Europe  \n\n[406 rows x 8 columns]",
      "text/html": "<div>\n<style scoped>\n    .dataframe tbody tr th:only-of-type {\n        vertical-align: middle;\n    }\n\n    .dataframe tbody tr th {\n        vertical-align: top;\n    }\n\n    .dataframe thead th {\n        text-align: right;\n    }\n</style>\n<table border=\"1\" class=\"dataframe\">\n  <thead>\n    <tr style=\"text-align: right;\">\n      <th></th>\n      <th>MPG</th>\n      <th>Cylinders</th>\n      <th>Displacement</th>\n      <th>Horsepower</th>\n      <th>Weight</th>\n      <th>Acceleration</th>\n      <th>Model</th>\n      <th>Origin</th>\n    </tr>\n    <tr>\n      <th>Car</th>\n      <th></th>\n      <th></th>\n      <th></th>\n      <th></th>\n      <th></th>\n      <th></th>\n      <th></th>\n      <th></th>\n    </tr>\n  </thead>\n  <tbody>\n    <tr>\n      <th>AMC Ambassador Brougham</th>\n      <td>13.0</td>\n      <td>8</td>\n      <td>360.0</td>\n      <td>175.0</td>\n      <td>3821.0</td>\n      <td>11.0</td>\n      <td>73</td>\n      <td>US</td>\n    </tr>\n    <tr>\n      <th>AMC Ambassador DPL</th>\n      <td>15.0</td>\n      <td>8</td>\n      <td>390.0</td>\n      <td>190.0</td>\n      <td>3850.0</td>\n      <td>8.5</td>\n      <td>70</td>\n      <td>US</td>\n    </tr>\n    <tr>\n      <th>AMC Ambassador SST</th>\n      <td>17.0</td>\n      <td>8</td>\n      <td>304.0</td>\n      <td>150.0</td>\n      <td>3672.0</td>\n      <td>11.5</td>\n      <td>72</td>\n      <td>US</td>\n    </tr>\n    <tr>\n      <th>AMC Concord</th>\n      <td>19.4</td>\n      <td>6</td>\n      <td>232.0</td>\n      <td>90.0</td>\n      <td>3210.0</td>\n      <td>17.2</td>\n      <td>78</td>\n      <td>US</td>\n    </tr>\n    <tr>\n      <th>AMC Concord</th>\n      <td>24.3</td>\n      <td>4</td>\n      <td>151.0</td>\n      <td>90.0</td>\n      <td>3003.0</td>\n      <td>20.1</td>\n      <td>80</td>\n      <td>US</td>\n    </tr>\n    <tr>\n      <th>...</th>\n      <td>...</td>\n      <td>...</td>\n      <td>...</td>\n      <td>...</td>\n      <td>...</td>\n      <td>...</td>\n      <td>...</td>\n      <td>...</td>\n    </tr>\n    <tr>\n      <th>Volvo 145e (sw)</th>\n      <td>18.0</td>\n      <td>4</td>\n      <td>121.0</td>\n      <td>112.0</td>\n      <td>2933.0</td>\n      <td>14.5</td>\n      <td>72</td>\n      <td>Europe</td>\n    </tr>\n    <tr>\n      <th>Volvo 244DL</th>\n      <td>22.0</td>\n      <td>4</td>\n      <td>121.0</td>\n      <td>98.0</td>\n      <td>2945.0</td>\n      <td>14.5</td>\n      <td>75</td>\n      <td>Europe</td>\n    </tr>\n    <tr>\n      <th>Volvo 245</th>\n      <td>20.0</td>\n      <td>4</td>\n      <td>130.0</td>\n      <td>102.0</td>\n      <td>3150.0</td>\n      <td>15.7</td>\n      <td>76</td>\n      <td>Europe</td>\n    </tr>\n    <tr>\n      <th>Volvo 264gl</th>\n      <td>17.0</td>\n      <td>6</td>\n      <td>163.0</td>\n      <td>125.0</td>\n      <td>3140.0</td>\n      <td>13.6</td>\n      <td>78</td>\n      <td>Europe</td>\n    </tr>\n    <tr>\n      <th>Volvo Diesel</th>\n      <td>30.7</td>\n      <td>6</td>\n      <td>145.0</td>\n      <td>76.0</td>\n      <td>3160.0</td>\n      <td>19.6</td>\n      <td>81</td>\n      <td>Europe</td>\n    </tr>\n  </tbody>\n</table>\n<p>406 rows × 8 columns</p>\n</div>"
     },
     "execution_count": 69,
     "metadata": {},
     "output_type": "execute_result"
    }
   ],
   "source": [
    "df_cars.sort_index()"
   ],
   "metadata": {
    "collapsed": false,
    "pycharm": {
     "name": "#%%\n"
    }
   }
  },
  {
   "cell_type": "markdown",
   "source": [],
   "metadata": {
    "collapsed": false
   }
  },
  {
   "cell_type": "code",
   "execution_count": 70,
   "outputs": [
    {
     "data": {
      "text/plain": "                           Car   MPG  Cylinders  Displacement  Horsepower  \\\n0    Chevrolet Chevelle Malibu  18.0          8         307.0       130.0   \n1            Buick Skylark 320  15.0          8         350.0       165.0   \n2           Plymouth Satellite  18.0          8         318.0       150.0   \n3                AMC Rebel SST  16.0          8         304.0       150.0   \n4                  Ford Torino  17.0          8         302.0       140.0   \n..                         ...   ...        ...           ...         ...   \n401            Ford Mustang GL  27.0          4         140.0        86.0   \n402          Volkswagen Pickup  44.0          4          97.0        52.0   \n403              Dodge Rampage  32.0          4         135.0        84.0   \n404                Ford Ranger  28.0          4         120.0        79.0   \n405                 Chevy S-10  31.0          4         119.0        82.0   \n\n     Weight  Acceleration  Model  Origin  \n0    3504.0          12.0     70      US  \n1    3693.0          11.5     70      US  \n2    3436.0          11.0     70      US  \n3    3433.0          12.0     70      US  \n4    3449.0          10.5     70      US  \n..      ...           ...    ...     ...  \n401  2790.0          15.6     82      US  \n402  2130.0          24.6     82  Europe  \n403  2295.0          11.6     82      US  \n404  2625.0          18.6     82      US  \n405  2720.0          19.4     82      US  \n\n[406 rows x 9 columns]",
      "text/html": "<div>\n<style scoped>\n    .dataframe tbody tr th:only-of-type {\n        vertical-align: middle;\n    }\n\n    .dataframe tbody tr th {\n        vertical-align: top;\n    }\n\n    .dataframe thead th {\n        text-align: right;\n    }\n</style>\n<table border=\"1\" class=\"dataframe\">\n  <thead>\n    <tr style=\"text-align: right;\">\n      <th></th>\n      <th>Car</th>\n      <th>MPG</th>\n      <th>Cylinders</th>\n      <th>Displacement</th>\n      <th>Horsepower</th>\n      <th>Weight</th>\n      <th>Acceleration</th>\n      <th>Model</th>\n      <th>Origin</th>\n    </tr>\n  </thead>\n  <tbody>\n    <tr>\n      <th>0</th>\n      <td>Chevrolet Chevelle Malibu</td>\n      <td>18.0</td>\n      <td>8</td>\n      <td>307.0</td>\n      <td>130.0</td>\n      <td>3504.0</td>\n      <td>12.0</td>\n      <td>70</td>\n      <td>US</td>\n    </tr>\n    <tr>\n      <th>1</th>\n      <td>Buick Skylark 320</td>\n      <td>15.0</td>\n      <td>8</td>\n      <td>350.0</td>\n      <td>165.0</td>\n      <td>3693.0</td>\n      <td>11.5</td>\n      <td>70</td>\n      <td>US</td>\n    </tr>\n    <tr>\n      <th>2</th>\n      <td>Plymouth Satellite</td>\n      <td>18.0</td>\n      <td>8</td>\n      <td>318.0</td>\n      <td>150.0</td>\n      <td>3436.0</td>\n      <td>11.0</td>\n      <td>70</td>\n      <td>US</td>\n    </tr>\n    <tr>\n      <th>3</th>\n      <td>AMC Rebel SST</td>\n      <td>16.0</td>\n      <td>8</td>\n      <td>304.0</td>\n      <td>150.0</td>\n      <td>3433.0</td>\n      <td>12.0</td>\n      <td>70</td>\n      <td>US</td>\n    </tr>\n    <tr>\n      <th>4</th>\n      <td>Ford Torino</td>\n      <td>17.0</td>\n      <td>8</td>\n      <td>302.0</td>\n      <td>140.0</td>\n      <td>3449.0</td>\n      <td>10.5</td>\n      <td>70</td>\n      <td>US</td>\n    </tr>\n    <tr>\n      <th>...</th>\n      <td>...</td>\n      <td>...</td>\n      <td>...</td>\n      <td>...</td>\n      <td>...</td>\n      <td>...</td>\n      <td>...</td>\n      <td>...</td>\n      <td>...</td>\n    </tr>\n    <tr>\n      <th>401</th>\n      <td>Ford Mustang GL</td>\n      <td>27.0</td>\n      <td>4</td>\n      <td>140.0</td>\n      <td>86.0</td>\n      <td>2790.0</td>\n      <td>15.6</td>\n      <td>82</td>\n      <td>US</td>\n    </tr>\n    <tr>\n      <th>402</th>\n      <td>Volkswagen Pickup</td>\n      <td>44.0</td>\n      <td>4</td>\n      <td>97.0</td>\n      <td>52.0</td>\n      <td>2130.0</td>\n      <td>24.6</td>\n      <td>82</td>\n      <td>Europe</td>\n    </tr>\n    <tr>\n      <th>403</th>\n      <td>Dodge Rampage</td>\n      <td>32.0</td>\n      <td>4</td>\n      <td>135.0</td>\n      <td>84.0</td>\n      <td>2295.0</td>\n      <td>11.6</td>\n      <td>82</td>\n      <td>US</td>\n    </tr>\n    <tr>\n      <th>404</th>\n      <td>Ford Ranger</td>\n      <td>28.0</td>\n      <td>4</td>\n      <td>120.0</td>\n      <td>79.0</td>\n      <td>2625.0</td>\n      <td>18.6</td>\n      <td>82</td>\n      <td>US</td>\n    </tr>\n    <tr>\n      <th>405</th>\n      <td>Chevy S-10</td>\n      <td>31.0</td>\n      <td>4</td>\n      <td>119.0</td>\n      <td>82.0</td>\n      <td>2720.0</td>\n      <td>19.4</td>\n      <td>82</td>\n      <td>US</td>\n    </tr>\n  </tbody>\n</table>\n<p>406 rows × 9 columns</p>\n</div>"
     },
     "execution_count": 70,
     "metadata": {},
     "output_type": "execute_result"
    }
   ],
   "source": [
    "df_cars.reset_index(inplace=True)\n",
    "df_cars"
   ],
   "metadata": {
    "collapsed": false,
    "pycharm": {
     "name": "#%%\n"
    }
   }
  }
 ],
 "metadata": {
  "kernelspec": {
   "display_name": "Python 3",
   "language": "python",
   "name": "python3"
  },
  "language_info": {
   "codemirror_mode": {
    "name": "ipython",
    "version": 2
   },
   "file_extension": ".py",
   "mimetype": "text/x-python",
   "name": "python",
   "nbconvert_exporter": "python",
   "pygments_lexer": "ipython2",
   "version": "2.7.6"
  }
 },
 "nbformat": 4,
 "nbformat_minor": 0
}