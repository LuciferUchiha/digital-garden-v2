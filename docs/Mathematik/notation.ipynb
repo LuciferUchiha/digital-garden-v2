{
 "cells": [
  {
   "cell_type": "raw",
   "metadata": {},
   "source": [
    "---\n",
    "title: Notation\n",
    "tags: [notation, latex, katex, mathjax]\n",
    "---"
   ]
  },
  {
   "cell_type": "markdown",
   "metadata": {},
   "source": [
    "This notation guide is inspired by [Deep Learning by Ian Goodfellow, Yoshua Bengio and Aaron Courville](https://www.deeplearningbook.org/) whilst trying to stay short and compatible with [KaTeX](https://katex.org/docs/supported.html#style-color-size-and-font) (Docusaurus support) and [MathJax](https://docs.mathjax.org/en/latest/input/tex/macros/index.html) (Jupyter Notebook support). This page is also meant as a cheatsheet for me on latex structures such as matrices etc.\n",
    "\n",
    "## Numbers and Arrays\n",
    "\n",
    "If we wanted tensors to also be bold we would have to write `\\textsf{\\textbf{A}}` which is sadly not nice and short.\n",
    "\n",
    "| Description                                                                | Code           | Example               |\n",
    "| -------------------------------------------------------------------------- | -------------- | --------------------- |\n",
    "| Scalar (integer or real)                                                   | `a=2`          | $a$                   |\n",
    "| Vector                                                                     | `\\bf{a}`       | $\\bf{a}$              |\n",
    "| Matrix                                                                     | `\\bf{A}`       | $\\bf{A}$              |\n",
    "| Tensor                                                                     | `\\sf{A}`       | $\\sf{A}$              |\n",
    "| Identity matrix with $n$ rows and $n$ columns                              | `\\bf{I}\\it_n`  | $\\bf{I}\\it_n$         |\n",
    "| Identity matrix with implied dimensionality                                | `\\bf{I}`       | $\\bf{I}$              |\n",
    "| Square diagonal matrix with elements along main diagonal given by $\\bf{a}$ | `\\text{diag}(\\bf{a})` | $\\text{diag}(\\bf{a})$ |\n",
    "\n",
    "## Indexing\n",
    "| Description                                                                                        | Code                  | Example               |\n",
    "| -------------------------------------------------------------------------------------------------- | --------------------- | --------------------- |\n",
    "| Element $i$ of vector $\\bf{a}$, with indexing starting at 1                                        | `a_i`                 | $a_i$                 |\n",
    "| All elements of vector $\\bf{a}$ except for element $i$                                             | `a_{-i}`              | $a_{-i}$              |\n",
    "| Element $i,j$ of matrix $\\bf{A}$, with $i$ corresponding to the row index and $j$ the column index | `A_{i,j}` or `a_{ij}` | $A_{i,j}$ or $a_{ij}$ |\n",
    "| Row $i$ of matrix $\\bf{A}$                                                                         | `\\bf{A}\\it_{i,:}`     | $\\bf{A}\\it_{i , :}$   |\n",
    "| Column $j$ of matrix $\\bf{A}$                                                                      | `\\bf{A}\\it_{:,j}`     | $\\bf{A}\\it_{: , j}$   |\n",
    "\n",
    "## Linear Algebra Operations\n",
    "\n",
    "| Description                                              | Code                 | Example               |\n",
    "| -------------------------------------------------------- | -------------------- | --------------------- |\n",
    "| Tranpose of matrix $\\bf{A}$                              | `\\bf{A}^T`           | $\\bf{A}^T$            |\n",
    "| Moore-Penrose pseudoinverse of matrix $\\bf{A}$           | `\\bf{A}^\\dagger`     | $\\bf{A}^\\dagger$      |\n",
    "| Hadamard (element-wise) product of $\\bf{A}$ and $\\bf{B}$ | `\\bf{A} \\odot bf{B}` | $\\bf{A} \\odot \\bf{B}$ |\n",
    "| Determinant of matrix $\\bf{A}$                           | `\\text{det}(\\bf{A})` | $\\text{det}(\\bf{A})$  |\n",
    "| Trace of matrix $\\bf{A}$                                 | `\\text{tr}(\\bf{A})`  | $\\text{tr}(\\bf{A})$   |\n",
    "\n",
    "\n",
    "## Sets and Graphs\n",
    "\n",
    "| Description                           | Code                      | Example                   |\n",
    "| ------------------------------------- | ------------------------- | ------------------------- |\n",
    "| Set                                   | `A`                       | $A$                       |\n",
    "| Set of natural numbers, including $0$ | `\\Bbb{N}=\\{0,1,2,3,...\\}` | $\\Bbb{N}=\\{0,1,2,3,...\\}$ |\n",
    "| Set of integer numbers                | `\\Bbb{Z}`                 | $\\Bbb{Z}$                 |\n",
    "| Set of rational numbers               | `\\Bbb{Q}`                 | $\\Bbb{Q}$                 |\n",
    "| Set of irrational numbers             | `\\Bbb{I}`                 | $\\Bbb{I}$                 |\n",
    "| Set of real numbers                   | `\\Bbb{R}`                 | $\\Bbb{R}$                 |\n",
    "| Set of complex numbers                | `\\Bbb{C}`                 | $\\Bbb{C}$                 |\n"
   ]
  },
  {
   "cell_type": "markdown",
   "metadata": {},
   "source": []
  }
 ],
 "metadata": {
  "kernelspec": {
   "display_name": "Python 3.8.9 ('.venv': venv)",
   "language": "python",
   "name": "python3"
  },
  "language_info": {
   "name": "python",
   "version": "3.8.9"
  },
  "orig_nbformat": 4,
  "vscode": {
   "interpreter": {
    "hash": "c4874554c910ab0571857260f9b3a2c29827abeee32c252ce8c2203a14b689e2"
   }
  }
 },
 "nbformat": 4,
 "nbformat_minor": 2
}
