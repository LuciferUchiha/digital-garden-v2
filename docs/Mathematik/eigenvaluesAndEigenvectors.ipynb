{
 "cells": [
  {
   "cell_type": "raw",
   "id": "e3a58888-3e59-4bfe-b24a-53da37580bea",
   "metadata": {
    "pycharm": {
     "name": "#%% raw\n"
    }
   },
   "source": [
    "---\n",
    "title: Eigenvalues And Eigenvectors\n",
    "tags: [vectors, matrices, linear algebra]\n",
    "---"
   ]
  },
  {
   "cell_type": "markdown",
   "id": "30ee2235-a728-4a58-992d-2eda1d0e20bd",
   "metadata": {
    "pycharm": {
     "name": "#%% md\n"
    }
   },
   "source": [
    "Before we talk about eigenvalues and eigenvectors let us just remind ourselves that vectors can be transformed using matrices. For example we can rotate a vector using the rotation matrix:\n",
    "\n",
    "![2dRotationMatrix](/img/maths/2dRotationMatrix.png)\n",
    "\n",
    "$$\n",
    "\\begin{bmatrix}\n",
    "  \\cos\\theta & -\\sin\\theta \\\\\n",
    "  \\sin\\theta &  \\cos\\theta \\\\\n",
    "\\end{bmatrix}\\begin{bmatrix}\n",
    "  x \\\\\n",
    "  y \\\\\n",
    "\\end{bmatrix}\n",
    "=\n",
    "\\begin{bmatrix}\n",
    "  x' \\\\\n",
    "  y' \\\\\n",
    "\\end{bmatrix}\n",
    "$$\n",
    "\n",
    "Or we can use a matrix to scale a vector:\n",
    "\n",
    "![scalingVector](/img/maths/scalingVector.png)\n",
    "\n",
    "$$\n",
    "\\begin{bmatrix}\n",
    "  10 & 0 \\\\\n",
    "  0 & 10 \\\\\n",
    "\\end{bmatrix}\\begin{bmatrix}\n",
    "  5 \\\\\n",
    "  10 \\\\\n",
    "\\end{bmatrix}\n",
    "=\n",
    "\\begin{bmatrix}\n",
    "  50 \\\\\n",
    "  100 \\\\\n",
    "\\end{bmatrix}\n",
    "$$\n",
    "\n",
    "Now let us go back to eigenvalues and eigenvectors. An eigenvector $\\bm{v}$ of a square matrix $\\bm{A}$ is defined as a non-zero vector such that the multiplication with $\\bm{A}$ only changes the scale of the vector it does not change the direction. The scalar $\\lambda$ is called the eigenvalue.\n",
    "\n",
    "$$\\bm{Av}=\\lambda \\bm{v}$$\n",
    "\n",
    "Because there would be an infinite amount of solutions we limit the magnitude of the vector to $\\parallel\\bm{v}\\parallel_2=1$."
   ]
  },
  {
   "cell_type": "markdown",
   "source": [
    "Let us look at an example of how to calculate the eigenvector and eigenvalue of\n",
    "\n",
    "$$\n",
    "\\bm{A}=\n",
    "\\begin{bmatrix}\n",
    "  0 & 1 \\\\\n",
    "  -2 & -3 \\\\\n",
    "\\end{bmatrix}\n",
    "$$\n",
    "\n",
    "For this we can rewrite the problem and solve the following equations:\n",
    "\n",
    "$$\n",
    "\\begin{align*}\n",
    "\\bm{Av}=\\lambda \\bm{v} \\\\\n",
    "\\bm{Av} - \\lambda \\bm{v} = 0 \\\\\n",
    "\\bm{Av} - \\lambda \\bm{Iv} = 0\n",
    "(\\bm{A} - \\lambda \\bm{I})\\bm{v} = 0\n",
    "\\end{align*}\n",
    "$$\n",
    "\n",
    "For there to be a solution where $\\bm{v}$ is non-zero then the following must be true and which then must lead to the characteristic polynomial of $\\bm{A}$. Solving the characteristic polynomial equaling 0 we can get between 0 and $n$ eigenvalues with $n$ being the number of dimensions of $\\bm{A} \\in \\mathbb{R}^{n \\times n}$:\n",
    "\n",
    "$$\n",
    "\\begin{align*}\n",
    "det(\\bm{A}-\\lambda\\bm{I}) &= 0 \\\\\n",
    "det\\big(\n",
    "    \\begin{bmatrix}\n",
    "      0 & 1 \\\\\n",
    "      -2 & -3 \\\\\n",
    "    \\end{bmatrix}\n",
    "    - \\begin{bmatrix}\n",
    "      \\lambda & 0 \\\\\n",
    "      0 & \\lambda \\\\\n",
    "    \\end{bmatrix}\n",
    "\\big) &= 0 \\\\\n",
    "det\\big(\n",
    "    \\begin{bmatrix}\n",
    "      -\\lambda & 1 \\\\\n",
    "      -2 & -3-\\lambda \\\\\n",
    "    \\end{bmatrix}\n",
    "\\big) &= \\lambda^2+3\\lambda+2=0 \\\\\n",
    "&\\lambda_1 = -1,\\,\\lambda_2 = -2\n",
    "\\end{align*}\n",
    "$$\n",
    "\n",
    "Now that we have the eigenvalues all we need to do is calculate the eigenvectors corresponding to each eigenvalue.\n",
    "\n",
    "$$\n",
    "\\begin{align*}\n",
    "(\\bm{A} - \\lambda \\bm{I})\\bm{v} &= 0 \\\\\n",
    "\\big(\\begin{bmatrix}\n",
    "      0 & 1 \\\\\n",
    "      -2 & -3 \\\\\n",
    "\\end{bmatrix}\n",
    "- \\begin{bmatrix}\n",
    "      -1 & 0 \\\\\n",
    "      0 & -1 \\\\\n",
    "\\end{bmatrix} \\big)\n",
    "\\begin{bmatrix}\n",
    "      v_1 \\\\\n",
    "      v_2 \\\\\n",
    "\\end{bmatrix} &= 0 \\\\\n",
    "\\begin{bmatrix}\n",
    "      1 & 1 \\\\\n",
    "      -2 & -2 \\\\\n",
    "\\end{bmatrix}\n",
    "\\begin{bmatrix}\n",
    "      v_1 \\\\\n",
    "      v_2 \\\\\n",
    "\\end{bmatrix} &= 0 \\\\\n",
    "\\begin{bmatrix}\n",
    "      v_1 + v_2 \\\\\n",
    "      -2v_1 -2v_2 \\\\\n",
    "\\end{bmatrix} &= 0 \\\\\n",
    "&\\Rightarrow v_1 = -v_2\n",
    "\\end{align*}\n",
    "$$\n",
    "\n",
    "So we know $v_1 = -v_2$ since we constrict ourselves to vectors with a magnitude of 1 so $\\sqrt{v_1^2 + (-v_1)^2}=1$ we get for eigenvalue $\\lambda_1=-1$ the eigenvector\n",
    "$$\\bm{v}=\\begin{bmatrix}\n",
    "      0.707107 \\\\\n",
    "      -0.707107 \\\\\n",
    "\\end{bmatrix}$$\n",
    "\n",
    "We can also calculate this using the following numpy code:"
   ],
   "metadata": {
    "collapsed": false,
    "pycharm": {
     "name": "#%% md\n"
    }
   }
  },
  {
   "cell_type": "code",
   "execution_count": 1,
   "id": "3a733566-f096-4539-a5a9-5dec8dbd4e76",
   "metadata": {
    "pycharm": {
     "name": "#%%\n"
    }
   },
   "outputs": [
    {
     "name": "stdout",
     "output_type": "stream",
     "text": [
      "Eigenvalues: [-1. -2.]\n",
      "Eigenvectors: [[ 0.70710678 -0.4472136 ]\n",
      " [-0.70710678  0.89442719]]\n"
     ]
    }
   ],
   "source": [
    "import numpy as np\n",
    "\n",
    "A = np.array([[0, 1], [-2, -3]])\n",
    "e_values, e_vectors = np.linalg.eig(A)\n",
    "print(f\"Eigenvalues: {e_values}\")\n",
    "print(f\"Eigenvectors: {e_vectors}\")"
   ]
  },
  {
   "cell_type": "markdown",
   "source": [
    "## Properties\n",
    "\n",
    "We can use the eigenvalues and eigenvectors of the matrix $\\bm{A}$ to find out a lot about it\n",
    "\n",
    "- The trace of $\\bm{A}$ is the sum of its eigenvalues $tr(\\bm{A})=\\sum_{i=1}^{n}{\\lambda_i}$.\n",
    "- The determinant of $\\bm{A}$ is the product of its eigenvalues $tr(\\bm{A})=\\prod_{i=1}^{n}{\\lambda_i}$.\n",
    "- The rank of $\\bm{A}$ is amount of non-zero eigenvalues.\n"
   ],
   "metadata": {
    "collapsed": false,
    "pycharm": {
     "name": "#%% md\n"
    }
   }
  },
  {
   "cell_type": "code",
   "execution_count": 2,
   "outputs": [
    {
     "name": "stdout",
     "output_type": "stream",
     "text": [
      "Trace: -3\n",
      "Determinant: 2.0\n",
      "Rank: 2\n"
     ]
    }
   ],
   "source": [
    "print(f\"Trace: {np.trace(A)}\")\n",
    "print(f\"Determinant: {np.linalg.det(A)}\")\n",
    "print(f\"Rank: {np.linalg.matrix_rank(A)}\")"
   ],
   "metadata": {
    "collapsed": false,
    "pycharm": {
     "name": "#%%\n"
    }
   }
  },
  {
   "cell_type": "markdown",
   "source": [
    "If $\\bm{A}$ is a diagonal matrix then the eigenvalues are just the diagonal elements."
   ],
   "metadata": {
    "collapsed": false,
    "pycharm": {
     "name": "#%% md\n"
    }
   }
  },
  {
   "cell_type": "code",
   "execution_count": 3,
   "outputs": [
    {
     "name": "stdout",
     "output_type": "stream",
     "text": [
      "Eigenvalues: [1. 2. 3.]\n",
      "Eigenvectors: [[1. 0. 0.]\n",
      " [0. 1. 0.]\n",
      " [0. 0. 1.]]\n"
     ]
    }
   ],
   "source": [
    "D = np.diag([1, 2, 3])\n",
    "e_values, e_vectors = np.linalg.eig(D)\n",
    "print(f\"Eigenvalues: {e_values}\")\n",
    "print(f\"Eigenvectors: {e_vectors}\")"
   ],
   "metadata": {
    "collapsed": false,
    "pycharm": {
     "name": "#%%\n"
    }
   }
  },
  {
   "cell_type": "markdown",
   "source": [
    "## Eigendecomposition\n",
    "\n",
    "The eigendecomposition is a way to split up **square** matrices into 3 matrices which can be useful in many applications. Eigendecomposition can be pretty easily derived from the above since it lead to the following equations:\n",
    "\n",
    "$$\n",
    "\\begin{align*}\n",
    "    \\bm{A}= \\begin{bmatrix}5 & 2 & 0\\\\ 2 & 5 & 0\\\\ 4 & -1 & 4\\end{bmatrix} \\\\\n",
    "    \\bm{A}\\begin{bmatrix}1\\\\ 1\\\\ 1\\end{bmatrix} = 7 \\cdot \\begin{bmatrix}1\\\\ 1\\\\ 1\\end{bmatrix} \\\\\n",
    "    \\bm{A}\\begin{bmatrix}0\\\\ 0\\\\ 1\\end{bmatrix} = 4 \\cdot \\begin{bmatrix}0\\\\ 0\\\\ 1\\end{bmatrix} \\\\\n",
    "    \\bm{A}\\begin{bmatrix}-1\\\\ 1\\\\ 5\\end{bmatrix} = 3 \\cdot \\begin{bmatrix}-1\\\\ 1\\\\ 5\\end{bmatrix}\n",
    "\\end{align*}\n",
    "$$\n",
    "\n",
    "Instead of holding this information in three separate equations we can combine them to one equation using matrices. We combine the eigenvectors to a matrix where each column is a eigenvector and we create a diagonal matrix with the eigenvalues (by convention in order of small to large):\n",
    "\n",
    "$$\n",
    "\\begin{align*}\n",
    "    \\bm{A}\\begin{bmatrix}\n",
    "        1 & 0 & -1 \\\\\n",
    "        1 & 0 & 1 \\\\\n",
    "        1 & 1 & 5\n",
    "    \\end{bmatrix}\n",
    "    = \\begin{bmatrix}\n",
    "         1 & 0 & -1 \\\\\n",
    "        1 & 0 & 1 \\\\\n",
    "        1 & 1 & 5\n",
    "    \\end{bmatrix}\n",
    "    \\begin{bmatrix}\n",
    "        7 & 0 & 0 \\\\\n",
    "        0 & 4 & 0 \\\\\n",
    "        0 & 0 & 3\n",
    "    \\end{bmatrix}\n",
    "\\end{align*} \\\\\n",
    "\\bm{AX}=\\bm{X}\\Lambda \\\\\n",
    "\\bm{AXX}^{-1}=\\bm{X}\\Lambda\\bm{X}^{-1} \\\\\n",
    "\\bm{A}=\\bm{X}\\Lambda\\bm{X}^{-1}\n",
    "$$"
   ],
   "metadata": {
    "collapsed": false,
    "pycharm": {
     "name": "#%% md\n"
    }
   }
  },
  {
   "cell_type": "code",
   "execution_count": 4,
   "outputs": [
    {
     "data": {
      "text/plain": "array([[ 5,  2,  0],\n       [ 2,  5,  0],\n       [ 4, -1,  4]])"
     },
     "execution_count": 4,
     "metadata": {},
     "output_type": "execute_result"
    }
   ],
   "source": [
    "A = np.array([[5, 2, 0], [2, 5, 0], [4, -1, 4]])\n",
    "A"
   ],
   "metadata": {
    "collapsed": false,
    "pycharm": {
     "name": "#%%\n"
    }
   }
  },
  {
   "cell_type": "code",
   "execution_count": 5,
   "outputs": [
    {
     "data": {
      "text/plain": "array([[ 5.,  2.,  0.],\n       [ 2.,  5.,  0.],\n       [ 4., -1.,  4.]])"
     },
     "execution_count": 5,
     "metadata": {},
     "output_type": "execute_result"
    }
   ],
   "source": [
    "X = np.array([[1, 0, -1], [1, 0, 1], [1, 1, 5]])\n",
    "Lambda = np.diag([7, 4, 3])\n",
    "inverse = np.linalg.inv(X)\n",
    "np.matmul(np.matmul(X, Lambda), inverse)\n"
   ],
   "metadata": {
    "collapsed": false,
    "pycharm": {
     "name": "#%%\n"
    }
   }
  },
  {
   "cell_type": "markdown",
   "source": [
    "## Singular Value Decomposition - SVD\n",
    "\n",
    "The eigendecomposition only works for square matrices, the singular value decomposition, short SVD, is a generalization of the eigendecomposition allowing it to be used for rectangular matrices. Singular value decomposition uses 3 matrices just like the eigendecomposition.\n",
    "\n",
    "$$\\bm{A}=\\bm{U}\\Sigma\\bm{V}^T$$\n",
    "\n",
    "The first matrix $\\bm{U}$ is the so-called left singular value matrix which is an orthogonal matrix meaning $\\bm{UU}^T=\\bm{I}$, the second matrix $\\Sigma$ is the singular value matrix which is very just like the matrix containing the eigenvalues in the eigendecomposition a diagonal matrix. The last matrix $\\bm{V}^T$ is the right singular value matrix which is also an orthogonal matrix. To find the values we can do the following transformations which make it very similar to the eigendecomposition.\n",
    "\n",
    "$$\n",
    "\\begin{align*}\n",
    "    \\bm{A}^T\\bm{A}=\\bm{V}\\Sigma^T\\bm{U}^T\\bm{U}\\Sigma\\bm{V}^T \\\\\n",
    "    \\bm{A}^T\\bm{A}=\\bm{V}(\\Sigma^T\\Sigma)\\bm{V}^T\n",
    "\\end{align*}\n",
    "$$\n",
    "\n",
    "Because $\\Sigma$ is a diagonal matrix the multiplication with its transpose results again in a diagonal matrix. Which gives it the same form as the eigendecomposition. To get the matrix $\\bm{U}$ we can do something very similiar.\n",
    "\n",
    "$$\n",
    "\\begin{align*}\n",
    "    \\bm{A}\\bm{A}^T=\\bm{U}\\Sigma\\bm{V}^T\\bm{V}\\Sigma^T\\bm{U}^T \\\\\n",
    "    \\bm{A}\\bm{A}^T=\\bm{U}(\\Sigma\\Sigma^T)\\bm{U}^T\n",
    "\\end{align*}\n",
    "$$\n"
   ],
   "metadata": {
    "collapsed": false,
    "pycharm": {
     "name": "#%% md\n"
    }
   }
  },
  {
   "cell_type": "code",
   "execution_count": 64,
   "outputs": [
    {
     "data": {
      "text/plain": "array([[-5.18214154,  1.89367286,  2.74943852],\n       [ 1.95955405,  5.01675209,  1.2880268 ],\n       [-2.7028794 ,  1.11633398, -5.07755598]])"
     },
     "execution_count": 64,
     "metadata": {},
     "output_type": "execute_result"
    }
   ],
   "source": [
    "A = np.array([[-5,2,3], [2, 5, 1], [-3,1,-5]])\n",
    "e_values, e_vectors = np.linalg.eigh(A.T@A) # @ is same as np.matmul\n",
    "Sigma = np.diag(np.sqrt(e_values))\n",
    "V = e_vectors\n",
    "U = []\n",
    "for i in range(0, len(e_values)):\n",
    "    u_i = A@V[:,i]/np.linalg.norm(A@V[:,i])\n",
    "    U.append(u_i)\n",
    "U@Sigma@V.T"
   ],
   "metadata": {
    "collapsed": false,
    "pycharm": {
     "name": "#%%\n"
    }
   }
  },
  {
   "cell_type": "markdown",
   "source": [
    "We can see that we lose some precision due to floating number operations but these can be fixed using the round operation."
   ],
   "metadata": {
    "collapsed": false,
    "pycharm": {
     "name": "#%% md\n"
    }
   }
  },
  {
   "cell_type": "code",
   "execution_count": 65,
   "outputs": [
    {
     "data": {
      "text/plain": "array([[-5.,  2.,  3.],\n       [ 2.,  5.,  1.],\n       [-3.,  1., -5.]])"
     },
     "execution_count": 65,
     "metadata": {},
     "output_type": "execute_result"
    }
   ],
   "source": [
    "np.round(U@Sigma@V.T)\n"
   ],
   "metadata": {
    "collapsed": false,
    "pycharm": {
     "name": "#%%\n"
    }
   }
  },
  {
   "cell_type": "code",
   "execution_count": null,
   "outputs": [],
   "source": [],
   "metadata": {
    "collapsed": false,
    "pycharm": {
     "name": "#%%\n"
    }
   }
  }
 ],
 "metadata": {
  "kernelspec": {
   "display_name": "Python 3 (ipykernel)",
   "language": "python",
   "name": "python3"
  },
  "language_info": {
   "codemirror_mode": {
    "name": "ipython",
    "version": 3
   },
   "file_extension": ".py",
   "mimetype": "text/x-python",
   "name": "python",
   "nbconvert_exporter": "python",
   "pygments_lexer": "ipython3",
   "version": "3.8.14"
  }
 },
 "nbformat": 4,
 "nbformat_minor": 5
}