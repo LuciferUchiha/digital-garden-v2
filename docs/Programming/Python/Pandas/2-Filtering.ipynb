{
 "cells": [
  {
   "cell_type": "markdown",
   "metadata": {
    "collapsed": true,
    "pycharm": {
     "name": "#%% md\n"
    }
   },
   "source": [
    "# Filtering\n",
    "We often only want to look at specific parts of the data. To be able to do so we can filter the data in a few ways.\n",
    "## Masks\n",
    "We can use conditions which will return a Series of whether the column matches or doesn\"t match the condition. This boolean Series, a so called filter mask can then be applied to the dataframe to only have the rows that are True (or False if we want that)."
   ]
  },
  {
   "cell_type": "code",
   "execution_count": 1,
   "outputs": [],
   "source": [
    "import pandas as pd\n",
    "\n",
    "df_cars = pd.read_csv(\"data/cars.csv\", sep=\";\", skiprows=[1])"
   ],
   "metadata": {
    "collapsed": false,
    "pycharm": {
     "name": "#%%\n"
    }
   }
  },
  {
   "cell_type": "code",
   "execution_count": 2,
   "outputs": [
    {
     "data": {
      "text/plain": "0      False\n1      False\n2      False\n3      False\n4      False\n       ...  \n401    False\n402    False\n403    False\n404    False\n405    False\nName: Cylinders, Length: 406, dtype: bool"
     },
     "execution_count": 2,
     "metadata": {},
     "output_type": "execute_result"
    }
   ],
   "source": [
    "mask = df_cars[\"Cylinders\"] == \"4\"\n",
    "mask"
   ],
   "metadata": {
    "collapsed": false,
    "pycharm": {
     "name": "#%%\n"
    }
   }
  },
  {
   "cell_type": "code",
   "execution_count": 3,
   "outputs": [
    {
     "data": {
      "text/plain": "Empty DataFrame\nColumns: [Car, MPG, Cylinders, Displacement, Horsepower, Weight, Acceleration, Model, Origin]\nIndex: []",
      "text/html": "<div>\n<style scoped>\n    .dataframe tbody tr th:only-of-type {\n        vertical-align: middle;\n    }\n\n    .dataframe tbody tr th {\n        vertical-align: top;\n    }\n\n    .dataframe thead th {\n        text-align: right;\n    }\n</style>\n<table border=\"1\" class=\"dataframe\">\n  <thead>\n    <tr style=\"text-align: right;\">\n      <th></th>\n      <th>Car</th>\n      <th>MPG</th>\n      <th>Cylinders</th>\n      <th>Displacement</th>\n      <th>Horsepower</th>\n      <th>Weight</th>\n      <th>Acceleration</th>\n      <th>Model</th>\n      <th>Origin</th>\n    </tr>\n  </thead>\n  <tbody>\n  </tbody>\n</table>\n</div>"
     },
     "execution_count": 3,
     "metadata": {},
     "output_type": "execute_result"
    }
   ],
   "source": [
    "df_cars[mask]"
   ],
   "metadata": {
    "collapsed": false,
    "pycharm": {
     "name": "#%%\n"
    }
   }
  },
  {
   "cell_type": "code",
   "execution_count": 4,
   "outputs": [
    {
     "data": {
      "text/plain": "Empty DataFrame\nColumns: [Car, MPG, Cylinders, Displacement, Horsepower, Weight, Acceleration, Model, Origin]\nIndex: []",
      "text/html": "<div>\n<style scoped>\n    .dataframe tbody tr th:only-of-type {\n        vertical-align: middle;\n    }\n\n    .dataframe tbody tr th {\n        vertical-align: top;\n    }\n\n    .dataframe thead th {\n        text-align: right;\n    }\n</style>\n<table border=\"1\" class=\"dataframe\">\n  <thead>\n    <tr style=\"text-align: right;\">\n      <th></th>\n      <th>Car</th>\n      <th>MPG</th>\n      <th>Cylinders</th>\n      <th>Displacement</th>\n      <th>Horsepower</th>\n      <th>Weight</th>\n      <th>Acceleration</th>\n      <th>Model</th>\n      <th>Origin</th>\n    </tr>\n  </thead>\n  <tbody>\n  </tbody>\n</table>\n</div>"
     },
     "execution_count": 4,
     "metadata": {},
     "output_type": "execute_result"
    }
   ],
   "source": [
    "df_cars[df_cars[\"Cylinders\"] == \"4\"]  # all at once"
   ],
   "metadata": {
    "collapsed": false,
    "pycharm": {
     "name": "#%%\n"
    }
   }
  },
  {
   "cell_type": "markdown",
   "source": [
    "Conditions can also be combined with & as `and`, and | as `or`."
   ],
   "metadata": {
    "collapsed": false
   }
  },
  {
   "cell_type": "code",
   "execution_count": 5,
   "outputs": [
    {
     "data": {
      "text/plain": "Empty DataFrame\nColumns: [Car, MPG, Cylinders, Displacement, Horsepower, Weight, Acceleration, Model, Origin]\nIndex: []",
      "text/html": "<div>\n<style scoped>\n    .dataframe tbody tr th:only-of-type {\n        vertical-align: middle;\n    }\n\n    .dataframe tbody tr th {\n        vertical-align: top;\n    }\n\n    .dataframe thead th {\n        text-align: right;\n    }\n</style>\n<table border=\"1\" class=\"dataframe\">\n  <thead>\n    <tr style=\"text-align: right;\">\n      <th></th>\n      <th>Car</th>\n      <th>MPG</th>\n      <th>Cylinders</th>\n      <th>Displacement</th>\n      <th>Horsepower</th>\n      <th>Weight</th>\n      <th>Acceleration</th>\n      <th>Model</th>\n      <th>Origin</th>\n    </tr>\n  </thead>\n  <tbody>\n  </tbody>\n</table>\n</div>"
     },
     "execution_count": 5,
     "metadata": {},
     "output_type": "execute_result"
    }
   ],
   "source": [
    "df_cars[(df_cars[\"Cylinders\"] == \"4\") & (df_cars[\"MPG\"] == \"24.0\")]"
   ],
   "metadata": {
    "collapsed": false,
    "pycharm": {
     "name": "#%%\n"
    }
   }
  },
  {
   "cell_type": "code",
   "execution_count": 6,
   "outputs": [
    {
     "data": {
      "text/plain": "Empty DataFrame\nColumns: [Car, MPG, Cylinders, Displacement, Horsepower, Weight, Acceleration, Model, Origin]\nIndex: []",
      "text/html": "<div>\n<style scoped>\n    .dataframe tbody tr th:only-of-type {\n        vertical-align: middle;\n    }\n\n    .dataframe tbody tr th {\n        vertical-align: top;\n    }\n\n    .dataframe thead th {\n        text-align: right;\n    }\n</style>\n<table border=\"1\" class=\"dataframe\">\n  <thead>\n    <tr style=\"text-align: right;\">\n      <th></th>\n      <th>Car</th>\n      <th>MPG</th>\n      <th>Cylinders</th>\n      <th>Displacement</th>\n      <th>Horsepower</th>\n      <th>Weight</th>\n      <th>Acceleration</th>\n      <th>Model</th>\n      <th>Origin</th>\n    </tr>\n  </thead>\n  <tbody>\n  </tbody>\n</table>\n</div>"
     },
     "execution_count": 6,
     "metadata": {},
     "output_type": "execute_result"
    }
   ],
   "source": [
    "df_cars[(df_cars[\"MPG\"] == \"4\") | (df_cars[\"MPG\"] == \"24.0\")]"
   ],
   "metadata": {
    "collapsed": false,
    "pycharm": {
     "name": "#%%\n"
    }
   }
  },
  {
   "cell_type": "markdown",
   "source": [
    "## Isin\n",
    "We can check to see if certain values are in a list."
   ],
   "metadata": {
    "collapsed": false,
    "pycharm": {
     "name": "#%% md\n"
    }
   }
  },
  {
   "cell_type": "code",
   "execution_count": 7,
   "outputs": [
    {
     "data": {
      "text/plain": "Empty DataFrame\nColumns: [Car, MPG, Cylinders, Displacement, Horsepower, Weight, Acceleration, Model, Origin]\nIndex: []",
      "text/html": "<div>\n<style scoped>\n    .dataframe tbody tr th:only-of-type {\n        vertical-align: middle;\n    }\n\n    .dataframe tbody tr th {\n        vertical-align: top;\n    }\n\n    .dataframe thead th {\n        text-align: right;\n    }\n</style>\n<table border=\"1\" class=\"dataframe\">\n  <thead>\n    <tr style=\"text-align: right;\">\n      <th></th>\n      <th>Car</th>\n      <th>MPG</th>\n      <th>Cylinders</th>\n      <th>Displacement</th>\n      <th>Horsepower</th>\n      <th>Weight</th>\n      <th>Acceleration</th>\n      <th>Model</th>\n      <th>Origin</th>\n    </tr>\n  </thead>\n  <tbody>\n  </tbody>\n</table>\n</div>"
     },
     "execution_count": 7,
     "metadata": {},
     "output_type": "execute_result"
    }
   ],
   "source": [
    "mpgs = [\"24.0\", \"25.0\", \"30.0\"]\n",
    "df_cars[df_cars[\"MPG\"].isin(mpgs)]"
   ],
   "metadata": {
    "collapsed": false,
    "pycharm": {
     "name": "#%%\n"
    }
   }
  },
  {
   "cell_type": "markdown",
   "source": [
    "## Str accessor\n",
    "The functions and methods under the str accessor provide flexible ways to filter rows based on strings."
   ],
   "metadata": {
    "collapsed": false,
    "pycharm": {
     "name": "#%% md\n"
    }
   }
  },
  {
   "cell_type": "code",
   "execution_count": 8,
   "outputs": [
    {
     "data": {
      "text/plain": "                             Car   MPG  Cylinders  Displacement  Horsepower  \\\n20        Toyota Corolla Mark ii  24.0          4         113.0        95.0   \n37                Toyota Corolla  25.0          4         113.0        95.0   \n60           Toyota Corolla 1200  31.0          4          71.0        65.0   \n64        Toyota Corolla Hardtop  24.0          4         113.0        95.0   \n89   Toyota Corolla Mark II (sw)  23.0          4         120.0        97.0   \n91      Toyota Corolla 1600 (sw)  27.0          4          97.0        88.0   \n115                 Toyota Camry  20.0          4          97.0        88.0   \n130               Toyota Mark II  20.0          6         156.0       122.0   \n138          Toyota Corolla 1200  32.0          4          71.0        65.0   \n151               Toyota Corolla  31.0          4          76.0        52.0   \n174               Toyota Corolla  29.0          4          97.0        75.0   \n178               Toyota Corolla  24.0          4         134.0        96.0   \n212               Toyota Corolla  28.0          4          97.0        75.0   \n217               Toyota Mark II  19.0          6         156.0       108.0   \n242      Toyota Corolla Liftback  26.0          4          97.0        75.0   \n274               Toyota Corolla  27.5          4         134.0        95.0   \n277    Toyota Celica GT Liftback  21.1          4         134.0        95.0   \n317        Toyota Corolla Tercel  38.1          4          89.0        60.0   \n325      Toyota Corolla Liftback  29.8          4         134.0        90.0   \n328               Toyota Corolla  32.2          4         108.0        75.0   \n350               Toyota Starlet  39.1          4          79.0        58.0   \n355                Toyota Tercel  37.7          4          89.0        62.0   \n363               Toyota Corolla  32.4          4         108.0        75.0   \n369              Toyota Cressida  25.4          6         168.0       116.0   \n390               Toyota Corolla  34.0          4         108.0        70.0   \n398             Toyota Celica GT  32.0          4         144.0        96.0   \n\n     Weight  Acceleration  Model Origin  \n20   2372.0          15.0     70  Japan  \n37   2228.0          14.0     71  Japan  \n60   1773.0          19.0     71  Japan  \n64   2278.0          15.5     72  Japan  \n89   2506.0          14.5     72  Japan  \n91   2100.0          16.5     72  Japan  \n115  2279.0          19.0     73  Japan  \n130  2807.0          13.5     73  Japan  \n138  1836.0          21.0     74  Japan  \n151  1649.0          16.5     74  Japan  \n174  2171.0          16.0     75  Japan  \n178  2702.0          13.5     75  Japan  \n212  2155.0          16.4     76  Japan  \n217  2930.0          15.5     76  Japan  \n242  2265.0          18.2     77  Japan  \n274  2560.0          14.2     78  Japan  \n277  2515.0          14.8     78  Japan  \n317  1968.0          18.8     80  Japan  \n325  2711.0          15.5     80  Japan  \n328  2265.0          15.2     80  Japan  \n350  1755.0          16.9     81  Japan  \n355  2050.0          17.3     81  Japan  \n363  2350.0          16.8     81  Japan  \n369  2900.0          12.6     81  Japan  \n390  2245.0          16.9     82  Japan  \n398  2665.0          13.9     82  Japan  ",
      "text/html": "<div>\n<style scoped>\n    .dataframe tbody tr th:only-of-type {\n        vertical-align: middle;\n    }\n\n    .dataframe tbody tr th {\n        vertical-align: top;\n    }\n\n    .dataframe thead th {\n        text-align: right;\n    }\n</style>\n<table border=\"1\" class=\"dataframe\">\n  <thead>\n    <tr style=\"text-align: right;\">\n      <th></th>\n      <th>Car</th>\n      <th>MPG</th>\n      <th>Cylinders</th>\n      <th>Displacement</th>\n      <th>Horsepower</th>\n      <th>Weight</th>\n      <th>Acceleration</th>\n      <th>Model</th>\n      <th>Origin</th>\n    </tr>\n  </thead>\n  <tbody>\n    <tr>\n      <th>20</th>\n      <td>Toyota Corolla Mark ii</td>\n      <td>24.0</td>\n      <td>4</td>\n      <td>113.0</td>\n      <td>95.0</td>\n      <td>2372.0</td>\n      <td>15.0</td>\n      <td>70</td>\n      <td>Japan</td>\n    </tr>\n    <tr>\n      <th>37</th>\n      <td>Toyota Corolla</td>\n      <td>25.0</td>\n      <td>4</td>\n      <td>113.0</td>\n      <td>95.0</td>\n      <td>2228.0</td>\n      <td>14.0</td>\n      <td>71</td>\n      <td>Japan</td>\n    </tr>\n    <tr>\n      <th>60</th>\n      <td>Toyota Corolla 1200</td>\n      <td>31.0</td>\n      <td>4</td>\n      <td>71.0</td>\n      <td>65.0</td>\n      <td>1773.0</td>\n      <td>19.0</td>\n      <td>71</td>\n      <td>Japan</td>\n    </tr>\n    <tr>\n      <th>64</th>\n      <td>Toyota Corolla Hardtop</td>\n      <td>24.0</td>\n      <td>4</td>\n      <td>113.0</td>\n      <td>95.0</td>\n      <td>2278.0</td>\n      <td>15.5</td>\n      <td>72</td>\n      <td>Japan</td>\n    </tr>\n    <tr>\n      <th>89</th>\n      <td>Toyota Corolla Mark II (sw)</td>\n      <td>23.0</td>\n      <td>4</td>\n      <td>120.0</td>\n      <td>97.0</td>\n      <td>2506.0</td>\n      <td>14.5</td>\n      <td>72</td>\n      <td>Japan</td>\n    </tr>\n    <tr>\n      <th>91</th>\n      <td>Toyota Corolla 1600 (sw)</td>\n      <td>27.0</td>\n      <td>4</td>\n      <td>97.0</td>\n      <td>88.0</td>\n      <td>2100.0</td>\n      <td>16.5</td>\n      <td>72</td>\n      <td>Japan</td>\n    </tr>\n    <tr>\n      <th>115</th>\n      <td>Toyota Camry</td>\n      <td>20.0</td>\n      <td>4</td>\n      <td>97.0</td>\n      <td>88.0</td>\n      <td>2279.0</td>\n      <td>19.0</td>\n      <td>73</td>\n      <td>Japan</td>\n    </tr>\n    <tr>\n      <th>130</th>\n      <td>Toyota Mark II</td>\n      <td>20.0</td>\n      <td>6</td>\n      <td>156.0</td>\n      <td>122.0</td>\n      <td>2807.0</td>\n      <td>13.5</td>\n      <td>73</td>\n      <td>Japan</td>\n    </tr>\n    <tr>\n      <th>138</th>\n      <td>Toyota Corolla 1200</td>\n      <td>32.0</td>\n      <td>4</td>\n      <td>71.0</td>\n      <td>65.0</td>\n      <td>1836.0</td>\n      <td>21.0</td>\n      <td>74</td>\n      <td>Japan</td>\n    </tr>\n    <tr>\n      <th>151</th>\n      <td>Toyota Corolla</td>\n      <td>31.0</td>\n      <td>4</td>\n      <td>76.0</td>\n      <td>52.0</td>\n      <td>1649.0</td>\n      <td>16.5</td>\n      <td>74</td>\n      <td>Japan</td>\n    </tr>\n    <tr>\n      <th>174</th>\n      <td>Toyota Corolla</td>\n      <td>29.0</td>\n      <td>4</td>\n      <td>97.0</td>\n      <td>75.0</td>\n      <td>2171.0</td>\n      <td>16.0</td>\n      <td>75</td>\n      <td>Japan</td>\n    </tr>\n    <tr>\n      <th>178</th>\n      <td>Toyota Corolla</td>\n      <td>24.0</td>\n      <td>4</td>\n      <td>134.0</td>\n      <td>96.0</td>\n      <td>2702.0</td>\n      <td>13.5</td>\n      <td>75</td>\n      <td>Japan</td>\n    </tr>\n    <tr>\n      <th>212</th>\n      <td>Toyota Corolla</td>\n      <td>28.0</td>\n      <td>4</td>\n      <td>97.0</td>\n      <td>75.0</td>\n      <td>2155.0</td>\n      <td>16.4</td>\n      <td>76</td>\n      <td>Japan</td>\n    </tr>\n    <tr>\n      <th>217</th>\n      <td>Toyota Mark II</td>\n      <td>19.0</td>\n      <td>6</td>\n      <td>156.0</td>\n      <td>108.0</td>\n      <td>2930.0</td>\n      <td>15.5</td>\n      <td>76</td>\n      <td>Japan</td>\n    </tr>\n    <tr>\n      <th>242</th>\n      <td>Toyota Corolla Liftback</td>\n      <td>26.0</td>\n      <td>4</td>\n      <td>97.0</td>\n      <td>75.0</td>\n      <td>2265.0</td>\n      <td>18.2</td>\n      <td>77</td>\n      <td>Japan</td>\n    </tr>\n    <tr>\n      <th>274</th>\n      <td>Toyota Corolla</td>\n      <td>27.5</td>\n      <td>4</td>\n      <td>134.0</td>\n      <td>95.0</td>\n      <td>2560.0</td>\n      <td>14.2</td>\n      <td>78</td>\n      <td>Japan</td>\n    </tr>\n    <tr>\n      <th>277</th>\n      <td>Toyota Celica GT Liftback</td>\n      <td>21.1</td>\n      <td>4</td>\n      <td>134.0</td>\n      <td>95.0</td>\n      <td>2515.0</td>\n      <td>14.8</td>\n      <td>78</td>\n      <td>Japan</td>\n    </tr>\n    <tr>\n      <th>317</th>\n      <td>Toyota Corolla Tercel</td>\n      <td>38.1</td>\n      <td>4</td>\n      <td>89.0</td>\n      <td>60.0</td>\n      <td>1968.0</td>\n      <td>18.8</td>\n      <td>80</td>\n      <td>Japan</td>\n    </tr>\n    <tr>\n      <th>325</th>\n      <td>Toyota Corolla Liftback</td>\n      <td>29.8</td>\n      <td>4</td>\n      <td>134.0</td>\n      <td>90.0</td>\n      <td>2711.0</td>\n      <td>15.5</td>\n      <td>80</td>\n      <td>Japan</td>\n    </tr>\n    <tr>\n      <th>328</th>\n      <td>Toyota Corolla</td>\n      <td>32.2</td>\n      <td>4</td>\n      <td>108.0</td>\n      <td>75.0</td>\n      <td>2265.0</td>\n      <td>15.2</td>\n      <td>80</td>\n      <td>Japan</td>\n    </tr>\n    <tr>\n      <th>350</th>\n      <td>Toyota Starlet</td>\n      <td>39.1</td>\n      <td>4</td>\n      <td>79.0</td>\n      <td>58.0</td>\n      <td>1755.0</td>\n      <td>16.9</td>\n      <td>81</td>\n      <td>Japan</td>\n    </tr>\n    <tr>\n      <th>355</th>\n      <td>Toyota Tercel</td>\n      <td>37.7</td>\n      <td>4</td>\n      <td>89.0</td>\n      <td>62.0</td>\n      <td>2050.0</td>\n      <td>17.3</td>\n      <td>81</td>\n      <td>Japan</td>\n    </tr>\n    <tr>\n      <th>363</th>\n      <td>Toyota Corolla</td>\n      <td>32.4</td>\n      <td>4</td>\n      <td>108.0</td>\n      <td>75.0</td>\n      <td>2350.0</td>\n      <td>16.8</td>\n      <td>81</td>\n      <td>Japan</td>\n    </tr>\n    <tr>\n      <th>369</th>\n      <td>Toyota Cressida</td>\n      <td>25.4</td>\n      <td>6</td>\n      <td>168.0</td>\n      <td>116.0</td>\n      <td>2900.0</td>\n      <td>12.6</td>\n      <td>81</td>\n      <td>Japan</td>\n    </tr>\n    <tr>\n      <th>390</th>\n      <td>Toyota Corolla</td>\n      <td>34.0</td>\n      <td>4</td>\n      <td>108.0</td>\n      <td>70.0</td>\n      <td>2245.0</td>\n      <td>16.9</td>\n      <td>82</td>\n      <td>Japan</td>\n    </tr>\n    <tr>\n      <th>398</th>\n      <td>Toyota Celica GT</td>\n      <td>32.0</td>\n      <td>4</td>\n      <td>144.0</td>\n      <td>96.0</td>\n      <td>2665.0</td>\n      <td>13.9</td>\n      <td>82</td>\n      <td>Japan</td>\n    </tr>\n  </tbody>\n</table>\n</div>"
     },
     "execution_count": 8,
     "metadata": {},
     "output_type": "execute_result"
    }
   ],
   "source": [
    "df_cars[df_cars[\"Car\"].str.startswith(\"Toyota\")]"
   ],
   "metadata": {
    "collapsed": false,
    "pycharm": {
     "name": "#%%\n"
    }
   }
  },
  {
   "cell_type": "code",
   "execution_count": 9,
   "outputs": [
    {
     "data": {
      "text/plain": "                             Car   MPG  Cylinders  Displacement  Horsepower  \\\n20        Toyota Corolla Mark ii  24.0          4         113.0        95.0   \n37                Toyota Corolla  25.0          4         113.0        95.0   \n60           Toyota Corolla 1200  31.0          4          71.0        65.0   \n64        Toyota Corolla Hardtop  24.0          4         113.0        95.0   \n89   Toyota Corolla Mark II (sw)  23.0          4         120.0        97.0   \n91      Toyota Corolla 1600 (sw)  27.0          4          97.0        88.0   \n138          Toyota Corolla 1200  32.0          4          71.0        65.0   \n151               Toyota Corolla  31.0          4          76.0        52.0   \n174               Toyota Corolla  29.0          4          97.0        75.0   \n178               Toyota Corolla  24.0          4         134.0        96.0   \n212               Toyota Corolla  28.0          4          97.0        75.0   \n242      Toyota Corolla Liftback  26.0          4          97.0        75.0   \n274               Toyota Corolla  27.5          4         134.0        95.0   \n317        Toyota Corolla Tercel  38.1          4          89.0        60.0   \n325      Toyota Corolla Liftback  29.8          4         134.0        90.0   \n328               Toyota Corolla  32.2          4         108.0        75.0   \n363               Toyota Corolla  32.4          4         108.0        75.0   \n390               Toyota Corolla  34.0          4         108.0        70.0   \n\n     Weight  Acceleration  Model Origin  \n20   2372.0          15.0     70  Japan  \n37   2228.0          14.0     71  Japan  \n60   1773.0          19.0     71  Japan  \n64   2278.0          15.5     72  Japan  \n89   2506.0          14.5     72  Japan  \n91   2100.0          16.5     72  Japan  \n138  1836.0          21.0     74  Japan  \n151  1649.0          16.5     74  Japan  \n174  2171.0          16.0     75  Japan  \n178  2702.0          13.5     75  Japan  \n212  2155.0          16.4     76  Japan  \n242  2265.0          18.2     77  Japan  \n274  2560.0          14.2     78  Japan  \n317  1968.0          18.8     80  Japan  \n325  2711.0          15.5     80  Japan  \n328  2265.0          15.2     80  Japan  \n363  2350.0          16.8     81  Japan  \n390  2245.0          16.9     82  Japan  ",
      "text/html": "<div>\n<style scoped>\n    .dataframe tbody tr th:only-of-type {\n        vertical-align: middle;\n    }\n\n    .dataframe tbody tr th {\n        vertical-align: top;\n    }\n\n    .dataframe thead th {\n        text-align: right;\n    }\n</style>\n<table border=\"1\" class=\"dataframe\">\n  <thead>\n    <tr style=\"text-align: right;\">\n      <th></th>\n      <th>Car</th>\n      <th>MPG</th>\n      <th>Cylinders</th>\n      <th>Displacement</th>\n      <th>Horsepower</th>\n      <th>Weight</th>\n      <th>Acceleration</th>\n      <th>Model</th>\n      <th>Origin</th>\n    </tr>\n  </thead>\n  <tbody>\n    <tr>\n      <th>20</th>\n      <td>Toyota Corolla Mark ii</td>\n      <td>24.0</td>\n      <td>4</td>\n      <td>113.0</td>\n      <td>95.0</td>\n      <td>2372.0</td>\n      <td>15.0</td>\n      <td>70</td>\n      <td>Japan</td>\n    </tr>\n    <tr>\n      <th>37</th>\n      <td>Toyota Corolla</td>\n      <td>25.0</td>\n      <td>4</td>\n      <td>113.0</td>\n      <td>95.0</td>\n      <td>2228.0</td>\n      <td>14.0</td>\n      <td>71</td>\n      <td>Japan</td>\n    </tr>\n    <tr>\n      <th>60</th>\n      <td>Toyota Corolla 1200</td>\n      <td>31.0</td>\n      <td>4</td>\n      <td>71.0</td>\n      <td>65.0</td>\n      <td>1773.0</td>\n      <td>19.0</td>\n      <td>71</td>\n      <td>Japan</td>\n    </tr>\n    <tr>\n      <th>64</th>\n      <td>Toyota Corolla Hardtop</td>\n      <td>24.0</td>\n      <td>4</td>\n      <td>113.0</td>\n      <td>95.0</td>\n      <td>2278.0</td>\n      <td>15.5</td>\n      <td>72</td>\n      <td>Japan</td>\n    </tr>\n    <tr>\n      <th>89</th>\n      <td>Toyota Corolla Mark II (sw)</td>\n      <td>23.0</td>\n      <td>4</td>\n      <td>120.0</td>\n      <td>97.0</td>\n      <td>2506.0</td>\n      <td>14.5</td>\n      <td>72</td>\n      <td>Japan</td>\n    </tr>\n    <tr>\n      <th>91</th>\n      <td>Toyota Corolla 1600 (sw)</td>\n      <td>27.0</td>\n      <td>4</td>\n      <td>97.0</td>\n      <td>88.0</td>\n      <td>2100.0</td>\n      <td>16.5</td>\n      <td>72</td>\n      <td>Japan</td>\n    </tr>\n    <tr>\n      <th>138</th>\n      <td>Toyota Corolla 1200</td>\n      <td>32.0</td>\n      <td>4</td>\n      <td>71.0</td>\n      <td>65.0</td>\n      <td>1836.0</td>\n      <td>21.0</td>\n      <td>74</td>\n      <td>Japan</td>\n    </tr>\n    <tr>\n      <th>151</th>\n      <td>Toyota Corolla</td>\n      <td>31.0</td>\n      <td>4</td>\n      <td>76.0</td>\n      <td>52.0</td>\n      <td>1649.0</td>\n      <td>16.5</td>\n      <td>74</td>\n      <td>Japan</td>\n    </tr>\n    <tr>\n      <th>174</th>\n      <td>Toyota Corolla</td>\n      <td>29.0</td>\n      <td>4</td>\n      <td>97.0</td>\n      <td>75.0</td>\n      <td>2171.0</td>\n      <td>16.0</td>\n      <td>75</td>\n      <td>Japan</td>\n    </tr>\n    <tr>\n      <th>178</th>\n      <td>Toyota Corolla</td>\n      <td>24.0</td>\n      <td>4</td>\n      <td>134.0</td>\n      <td>96.0</td>\n      <td>2702.0</td>\n      <td>13.5</td>\n      <td>75</td>\n      <td>Japan</td>\n    </tr>\n    <tr>\n      <th>212</th>\n      <td>Toyota Corolla</td>\n      <td>28.0</td>\n      <td>4</td>\n      <td>97.0</td>\n      <td>75.0</td>\n      <td>2155.0</td>\n      <td>16.4</td>\n      <td>76</td>\n      <td>Japan</td>\n    </tr>\n    <tr>\n      <th>242</th>\n      <td>Toyota Corolla Liftback</td>\n      <td>26.0</td>\n      <td>4</td>\n      <td>97.0</td>\n      <td>75.0</td>\n      <td>2265.0</td>\n      <td>18.2</td>\n      <td>77</td>\n      <td>Japan</td>\n    </tr>\n    <tr>\n      <th>274</th>\n      <td>Toyota Corolla</td>\n      <td>27.5</td>\n      <td>4</td>\n      <td>134.0</td>\n      <td>95.0</td>\n      <td>2560.0</td>\n      <td>14.2</td>\n      <td>78</td>\n      <td>Japan</td>\n    </tr>\n    <tr>\n      <th>317</th>\n      <td>Toyota Corolla Tercel</td>\n      <td>38.1</td>\n      <td>4</td>\n      <td>89.0</td>\n      <td>60.0</td>\n      <td>1968.0</td>\n      <td>18.8</td>\n      <td>80</td>\n      <td>Japan</td>\n    </tr>\n    <tr>\n      <th>325</th>\n      <td>Toyota Corolla Liftback</td>\n      <td>29.8</td>\n      <td>4</td>\n      <td>134.0</td>\n      <td>90.0</td>\n      <td>2711.0</td>\n      <td>15.5</td>\n      <td>80</td>\n      <td>Japan</td>\n    </tr>\n    <tr>\n      <th>328</th>\n      <td>Toyota Corolla</td>\n      <td>32.2</td>\n      <td>4</td>\n      <td>108.0</td>\n      <td>75.0</td>\n      <td>2265.0</td>\n      <td>15.2</td>\n      <td>80</td>\n      <td>Japan</td>\n    </tr>\n    <tr>\n      <th>363</th>\n      <td>Toyota Corolla</td>\n      <td>32.4</td>\n      <td>4</td>\n      <td>108.0</td>\n      <td>75.0</td>\n      <td>2350.0</td>\n      <td>16.8</td>\n      <td>81</td>\n      <td>Japan</td>\n    </tr>\n    <tr>\n      <th>390</th>\n      <td>Toyota Corolla</td>\n      <td>34.0</td>\n      <td>4</td>\n      <td>108.0</td>\n      <td>70.0</td>\n      <td>2245.0</td>\n      <td>16.9</td>\n      <td>82</td>\n      <td>Japan</td>\n    </tr>\n  </tbody>\n</table>\n</div>"
     },
     "execution_count": 9,
     "metadata": {},
     "output_type": "execute_result"
    }
   ],
   "source": [
    "df_cars[df_cars[\"Car\"].str.contains(\"Corolla\")]"
   ],
   "metadata": {
    "collapsed": false,
    "pycharm": {
     "name": "#%%\n"
    }
   }
  },
  {
   "cell_type": "markdown",
   "source": [
    "## Tilde\n",
    "The tilde operator is used for “not” logic in filtering. If we add the tilde operator before the filter expression, the rows that do not fit the condition are returned."
   ],
   "metadata": {
    "collapsed": false
   }
  },
  {
   "cell_type": "code",
   "execution_count": 10,
   "outputs": [
    {
     "data": {
      "text/plain": "                           Car   MPG  Cylinders  Displacement  Horsepower  \\\n0    Chevrolet Chevelle Malibu  18.0          8         307.0       130.0   \n1            Buick Skylark 320  15.0          8         350.0       165.0   \n2           Plymouth Satellite  18.0          8         318.0       150.0   \n3                AMC Rebel SST  16.0          8         304.0       150.0   \n4                  Ford Torino  17.0          8         302.0       140.0   \n..                         ...   ...        ...           ...         ...   \n401            Ford Mustang GL  27.0          4         140.0        86.0   \n402          Volkswagen Pickup  44.0          4          97.0        52.0   \n403              Dodge Rampage  32.0          4         135.0        84.0   \n404                Ford Ranger  28.0          4         120.0        79.0   \n405                 Chevy S-10  31.0          4         119.0        82.0   \n\n     Weight  Acceleration  Model  Origin  \n0    3504.0          12.0     70      US  \n1    3693.0          11.5     70      US  \n2    3436.0          11.0     70      US  \n3    3433.0          12.0     70      US  \n4    3449.0          10.5     70      US  \n..      ...           ...    ...     ...  \n401  2790.0          15.6     82      US  \n402  2130.0          24.6     82  Europe  \n403  2295.0          11.6     82      US  \n404  2625.0          18.6     82      US  \n405  2720.0          19.4     82      US  \n\n[388 rows x 9 columns]",
      "text/html": "<div>\n<style scoped>\n    .dataframe tbody tr th:only-of-type {\n        vertical-align: middle;\n    }\n\n    .dataframe tbody tr th {\n        vertical-align: top;\n    }\n\n    .dataframe thead th {\n        text-align: right;\n    }\n</style>\n<table border=\"1\" class=\"dataframe\">\n  <thead>\n    <tr style=\"text-align: right;\">\n      <th></th>\n      <th>Car</th>\n      <th>MPG</th>\n      <th>Cylinders</th>\n      <th>Displacement</th>\n      <th>Horsepower</th>\n      <th>Weight</th>\n      <th>Acceleration</th>\n      <th>Model</th>\n      <th>Origin</th>\n    </tr>\n  </thead>\n  <tbody>\n    <tr>\n      <th>0</th>\n      <td>Chevrolet Chevelle Malibu</td>\n      <td>18.0</td>\n      <td>8</td>\n      <td>307.0</td>\n      <td>130.0</td>\n      <td>3504.0</td>\n      <td>12.0</td>\n      <td>70</td>\n      <td>US</td>\n    </tr>\n    <tr>\n      <th>1</th>\n      <td>Buick Skylark 320</td>\n      <td>15.0</td>\n      <td>8</td>\n      <td>350.0</td>\n      <td>165.0</td>\n      <td>3693.0</td>\n      <td>11.5</td>\n      <td>70</td>\n      <td>US</td>\n    </tr>\n    <tr>\n      <th>2</th>\n      <td>Plymouth Satellite</td>\n      <td>18.0</td>\n      <td>8</td>\n      <td>318.0</td>\n      <td>150.0</td>\n      <td>3436.0</td>\n      <td>11.0</td>\n      <td>70</td>\n      <td>US</td>\n    </tr>\n    <tr>\n      <th>3</th>\n      <td>AMC Rebel SST</td>\n      <td>16.0</td>\n      <td>8</td>\n      <td>304.0</td>\n      <td>150.0</td>\n      <td>3433.0</td>\n      <td>12.0</td>\n      <td>70</td>\n      <td>US</td>\n    </tr>\n    <tr>\n      <th>4</th>\n      <td>Ford Torino</td>\n      <td>17.0</td>\n      <td>8</td>\n      <td>302.0</td>\n      <td>140.0</td>\n      <td>3449.0</td>\n      <td>10.5</td>\n      <td>70</td>\n      <td>US</td>\n    </tr>\n    <tr>\n      <th>...</th>\n      <td>...</td>\n      <td>...</td>\n      <td>...</td>\n      <td>...</td>\n      <td>...</td>\n      <td>...</td>\n      <td>...</td>\n      <td>...</td>\n      <td>...</td>\n    </tr>\n    <tr>\n      <th>401</th>\n      <td>Ford Mustang GL</td>\n      <td>27.0</td>\n      <td>4</td>\n      <td>140.0</td>\n      <td>86.0</td>\n      <td>2790.0</td>\n      <td>15.6</td>\n      <td>82</td>\n      <td>US</td>\n    </tr>\n    <tr>\n      <th>402</th>\n      <td>Volkswagen Pickup</td>\n      <td>44.0</td>\n      <td>4</td>\n      <td>97.0</td>\n      <td>52.0</td>\n      <td>2130.0</td>\n      <td>24.6</td>\n      <td>82</td>\n      <td>Europe</td>\n    </tr>\n    <tr>\n      <th>403</th>\n      <td>Dodge Rampage</td>\n      <td>32.0</td>\n      <td>4</td>\n      <td>135.0</td>\n      <td>84.0</td>\n      <td>2295.0</td>\n      <td>11.6</td>\n      <td>82</td>\n      <td>US</td>\n    </tr>\n    <tr>\n      <th>404</th>\n      <td>Ford Ranger</td>\n      <td>28.0</td>\n      <td>4</td>\n      <td>120.0</td>\n      <td>79.0</td>\n      <td>2625.0</td>\n      <td>18.6</td>\n      <td>82</td>\n      <td>US</td>\n    </tr>\n    <tr>\n      <th>405</th>\n      <td>Chevy S-10</td>\n      <td>31.0</td>\n      <td>4</td>\n      <td>119.0</td>\n      <td>82.0</td>\n      <td>2720.0</td>\n      <td>19.4</td>\n      <td>82</td>\n      <td>US</td>\n    </tr>\n  </tbody>\n</table>\n<p>388 rows × 9 columns</p>\n</div>"
     },
     "execution_count": 10,
     "metadata": {},
     "output_type": "execute_result"
    }
   ],
   "source": [
    "df_cars[~df_cars[\"Car\"].str.contains(\"Corolla\")]"
   ],
   "metadata": {
    "collapsed": false,
    "pycharm": {
     "name": "#%%\n"
    }
   }
  },
  {
   "cell_type": "code",
   "execution_count": 11,
   "outputs": [
    {
     "data": {
      "text/plain": "                           Car   MPG  Cylinders  Displacement  Horsepower  \\\n0    Chevrolet Chevelle Malibu  18.0          8         307.0       130.0   \n1            Buick Skylark 320  15.0          8         350.0       165.0   \n2           Plymouth Satellite  18.0          8         318.0       150.0   \n3                AMC Rebel SST  16.0          8         304.0       150.0   \n4                  Ford Torino  17.0          8         302.0       140.0   \n..                         ...   ...        ...           ...         ...   \n401            Ford Mustang GL  27.0          4         140.0        86.0   \n402          Volkswagen Pickup  44.0          4          97.0        52.0   \n403              Dodge Rampage  32.0          4         135.0        84.0   \n404                Ford Ranger  28.0          4         120.0        79.0   \n405                 Chevy S-10  31.0          4         119.0        82.0   \n\n     Weight  Acceleration  Model  Origin  \n0    3504.0          12.0     70      US  \n1    3693.0          11.5     70      US  \n2    3436.0          11.0     70      US  \n3    3433.0          12.0     70      US  \n4    3449.0          10.5     70      US  \n..      ...           ...    ...     ...  \n401  2790.0          15.6     82      US  \n402  2130.0          24.6     82  Europe  \n403  2295.0          11.6     82      US  \n404  2625.0          18.6     82      US  \n405  2720.0          19.4     82      US  \n\n[406 rows x 9 columns]",
      "text/html": "<div>\n<style scoped>\n    .dataframe tbody tr th:only-of-type {\n        vertical-align: middle;\n    }\n\n    .dataframe tbody tr th {\n        vertical-align: top;\n    }\n\n    .dataframe thead th {\n        text-align: right;\n    }\n</style>\n<table border=\"1\" class=\"dataframe\">\n  <thead>\n    <tr style=\"text-align: right;\">\n      <th></th>\n      <th>Car</th>\n      <th>MPG</th>\n      <th>Cylinders</th>\n      <th>Displacement</th>\n      <th>Horsepower</th>\n      <th>Weight</th>\n      <th>Acceleration</th>\n      <th>Model</th>\n      <th>Origin</th>\n    </tr>\n  </thead>\n  <tbody>\n    <tr>\n      <th>0</th>\n      <td>Chevrolet Chevelle Malibu</td>\n      <td>18.0</td>\n      <td>8</td>\n      <td>307.0</td>\n      <td>130.0</td>\n      <td>3504.0</td>\n      <td>12.0</td>\n      <td>70</td>\n      <td>US</td>\n    </tr>\n    <tr>\n      <th>1</th>\n      <td>Buick Skylark 320</td>\n      <td>15.0</td>\n      <td>8</td>\n      <td>350.0</td>\n      <td>165.0</td>\n      <td>3693.0</td>\n      <td>11.5</td>\n      <td>70</td>\n      <td>US</td>\n    </tr>\n    <tr>\n      <th>2</th>\n      <td>Plymouth Satellite</td>\n      <td>18.0</td>\n      <td>8</td>\n      <td>318.0</td>\n      <td>150.0</td>\n      <td>3436.0</td>\n      <td>11.0</td>\n      <td>70</td>\n      <td>US</td>\n    </tr>\n    <tr>\n      <th>3</th>\n      <td>AMC Rebel SST</td>\n      <td>16.0</td>\n      <td>8</td>\n      <td>304.0</td>\n      <td>150.0</td>\n      <td>3433.0</td>\n      <td>12.0</td>\n      <td>70</td>\n      <td>US</td>\n    </tr>\n    <tr>\n      <th>4</th>\n      <td>Ford Torino</td>\n      <td>17.0</td>\n      <td>8</td>\n      <td>302.0</td>\n      <td>140.0</td>\n      <td>3449.0</td>\n      <td>10.5</td>\n      <td>70</td>\n      <td>US</td>\n    </tr>\n    <tr>\n      <th>...</th>\n      <td>...</td>\n      <td>...</td>\n      <td>...</td>\n      <td>...</td>\n      <td>...</td>\n      <td>...</td>\n      <td>...</td>\n      <td>...</td>\n      <td>...</td>\n    </tr>\n    <tr>\n      <th>401</th>\n      <td>Ford Mustang GL</td>\n      <td>27.0</td>\n      <td>4</td>\n      <td>140.0</td>\n      <td>86.0</td>\n      <td>2790.0</td>\n      <td>15.6</td>\n      <td>82</td>\n      <td>US</td>\n    </tr>\n    <tr>\n      <th>402</th>\n      <td>Volkswagen Pickup</td>\n      <td>44.0</td>\n      <td>4</td>\n      <td>97.0</td>\n      <td>52.0</td>\n      <td>2130.0</td>\n      <td>24.6</td>\n      <td>82</td>\n      <td>Europe</td>\n    </tr>\n    <tr>\n      <th>403</th>\n      <td>Dodge Rampage</td>\n      <td>32.0</td>\n      <td>4</td>\n      <td>135.0</td>\n      <td>84.0</td>\n      <td>2295.0</td>\n      <td>11.6</td>\n      <td>82</td>\n      <td>US</td>\n    </tr>\n    <tr>\n      <th>404</th>\n      <td>Ford Ranger</td>\n      <td>28.0</td>\n      <td>4</td>\n      <td>120.0</td>\n      <td>79.0</td>\n      <td>2625.0</td>\n      <td>18.6</td>\n      <td>82</td>\n      <td>US</td>\n    </tr>\n    <tr>\n      <th>405</th>\n      <td>Chevy S-10</td>\n      <td>31.0</td>\n      <td>4</td>\n      <td>119.0</td>\n      <td>82.0</td>\n      <td>2720.0</td>\n      <td>19.4</td>\n      <td>82</td>\n      <td>US</td>\n    </tr>\n  </tbody>\n</table>\n<p>406 rows × 9 columns</p>\n</div>"
     },
     "execution_count": 11,
     "metadata": {},
     "output_type": "execute_result"
    }
   ],
   "source": [
    "df_cars[~df_cars[\"MPG\"].isin(mpgs)]"
   ],
   "metadata": {
    "collapsed": false,
    "pycharm": {
     "name": "#%%\n"
    }
   }
  }
 ],
 "metadata": {
  "kernelspec": {
   "display_name": "Python 3",
   "language": "python",
   "name": "python3"
  },
  "language_info": {
   "codemirror_mode": {
    "name": "ipython",
    "version": 2
   },
   "file_extension": ".py",
   "mimetype": "text/x-python",
   "name": "python",
   "nbconvert_exporter": "python",
   "pygments_lexer": "ipython2",
   "version": "2.7.6"
  }
 },
 "nbformat": 4,
 "nbformat_minor": 0
}